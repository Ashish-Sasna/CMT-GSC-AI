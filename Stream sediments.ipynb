{
 "cells": [
  {
   "cell_type": "markdown",
   "id": "f26c6b19-ac93-46e5-ba23-9ea1e7cf5bc3",
   "metadata": {},
   "source": [
    "# Import Libraries"
   ]
  },
  {
   "cell_type": "code",
   "execution_count": 1,
   "id": "8da136de-3a49-4cb4-8ea1-fda91d4efd94",
   "metadata": {},
   "outputs": [],
   "source": [
    "import os\n",
    "import seaborn as sns\n",
    "import pandas as pd\n",
    "import numpy as np\n",
    "\n",
    "import plotly.express as px\n",
    "import plotly.graph_objects as go\n",
    "from matplotlib import pyplot as plt\n",
    "\n",
    "from scipy.interpolate import griddata\n",
    "\n",
    "from sklearn.cluster import KMeans\n",
    "from sklearn.compose import ColumnTransformer\n",
    "from sklearn.preprocessing import StandardScaler\n",
    "from sklearn.decomposition import PCA"
   ]
  },
  {
   "cell_type": "code",
   "execution_count": 2,
   "id": "e520a5c5-2c65-4078-809d-9cad466e61e5",
   "metadata": {},
   "outputs": [],
   "source": [
    "import warnings\n",
    "warnings.filterwarnings('ignore')"
   ]
  },
  {
   "cell_type": "markdown",
   "id": "22b30c4e-a051-4dcf-863f-ecc92bcf8e8c",
   "metadata": {},
   "source": [
    "# Load Data"
   ]
  },
  {
   "cell_type": "code",
   "execution_count": 3,
   "id": "b13b27d0-3820-4f8d-ac10-ab0f92a80757",
   "metadata": {},
   "outputs": [],
   "source": [
    "curr_dir = (os.getcwd()).replace('\\\\', '/')\n",
    "data_path = (os.path.join(curr_dir, 'Data')).replace('\\\\', '/')"
   ]
  },
  {
   "cell_type": "markdown",
   "id": "4365c534-7e1f-4166-9d07-bc6b12a97090",
   "metadata": {
    "jp-MarkdownHeadingCollapsed": true
   },
   "source": [
    "## Stream Sediment Data"
   ]
  },
  {
   "cell_type": "code",
   "execution_count": 4,
   "id": "7e6ed2f5-041a-41ee-a25f-1a107eba7d73",
   "metadata": {},
   "outputs": [],
   "source": [
    "str_sed_data = pd.read_csv(data_path + '/stream_sediments_57F11.csv')"
   ]
  },
  {
   "cell_type": "code",
   "execution_count": 3,
   "id": "9c51f69f-22c6-4501-849b-dc2b743913f9",
   "metadata": {},
   "outputs": [
    {
     "name": "stdout",
     "output_type": "stream",
     "text": [
      "<class 'pandas.core.frame.DataFrame'>\n",
      "RangeIndex: 203 entries, 0 to 202\n",
      "Data columns (total 71 columns):\n",
      " #   Column     Non-Null Count  Dtype  \n",
      "---  ------     --------------  -----  \n",
      " 0   gid        203 non-null    int64  \n",
      " 1   objectid   203 non-null    int64  \n",
      " 2   sampleno   203 non-null    object \n",
      " 3   longitude  203 non-null    float64\n",
      " 4   latitude   203 non-null    float64\n",
      " 5   sio2       203 non-null    float64\n",
      " 6   al2o3      203 non-null    float64\n",
      " 7   fe2o3      203 non-null    float64\n",
      " 8   tio2       203 non-null    float64\n",
      " 9   cao        203 non-null    float64\n",
      " 10  mgo        203 non-null    float64\n",
      " 11  mno        203 non-null    float64\n",
      " 12  na2o       203 non-null    float64\n",
      " 13  k2o        203 non-null    float64\n",
      " 14  p2o5       203 non-null    float64\n",
      " 15  loi        203 non-null    float64\n",
      " 16  ba         203 non-null    float64\n",
      " 17  ga         203 non-null    float64\n",
      " 18  sc         203 non-null    float64\n",
      " 19  v          203 non-null    float64\n",
      " 20  th         203 non-null    float64\n",
      " 21  pb         203 non-null    float64\n",
      " 22  ni         203 non-null    float64\n",
      " 23  co         203 non-null    float64\n",
      " 24  rb         203 non-null    float64\n",
      " 25  sr         203 non-null    float64\n",
      " 26  y          203 non-null    float64\n",
      " 27  zr         203 non-null    float64\n",
      " 28  nb         203 non-null    float64\n",
      " 29  cr         203 non-null    float64\n",
      " 30  cu         203 non-null    float64\n",
      " 31  zn         203 non-null    float64\n",
      " 32  au         203 non-null    float64\n",
      " 33  li         203 non-null    float64\n",
      " 34  cs         203 non-null    int64  \n",
      " 35  as_        203 non-null    float64\n",
      " 36  sb         203 non-null    float64\n",
      " 37  bi         203 non-null    float64\n",
      " 38  se         203 non-null    float64\n",
      " 39  ag         203 non-null    int64  \n",
      " 40  be         203 non-null    float64\n",
      " 41  ge         203 non-null    float64\n",
      " 42  mo         203 non-null    float64\n",
      " 43  sn         203 non-null    float64\n",
      " 44  la         203 non-null    float64\n",
      " 45  ce         203 non-null    float64\n",
      " 46  pr         203 non-null    float64\n",
      " 47  nd         203 non-null    float64\n",
      " 48  sm         203 non-null    float64\n",
      " 49  eu         203 non-null    float64\n",
      " 50  tb         203 non-null    float64\n",
      " 51  gd         203 non-null    float64\n",
      " 52  dy         203 non-null    float64\n",
      " 53  ho         203 non-null    float64\n",
      " 54  er         203 non-null    float64\n",
      " 55  tm         203 non-null    float64\n",
      " 56  yb         203 non-null    float64\n",
      " 57  lu         203 non-null    float64\n",
      " 58  hf         203 non-null    float64\n",
      " 59  ta         203 non-null    float64\n",
      " 60  w          203 non-null    float64\n",
      " 61  u          203 non-null    float64\n",
      " 62  pt         203 non-null    int64  \n",
      " 63  pd         203 non-null    int64  \n",
      " 64  toposheet  203 non-null    object \n",
      " 65  in_        203 non-null    int64  \n",
      " 66  f          203 non-null    int64  \n",
      " 67  te         203 non-null    int64  \n",
      " 68  tl         203 non-null    int64  \n",
      " 69  hg         203 non-null    float64\n",
      " 70  cd         203 non-null    int64  \n",
      "dtypes: float64(58), int64(11), object(2)\n",
      "memory usage: 112.7+ KB\n"
     ]
    }
   ],
   "source": [
    "str_sed_data.info()"
   ]
  },
  {
   "cell_type": "code",
   "execution_count": 4,
   "id": "5c1b1cde-d671-4e2e-aad1-d1e032511a22",
   "metadata": {},
   "outputs": [
    {
     "data": {
      "text/html": [
       "<div>\n",
       "<style scoped>\n",
       "    .dataframe tbody tr th:only-of-type {\n",
       "        vertical-align: middle;\n",
       "    }\n",
       "\n",
       "    .dataframe tbody tr th {\n",
       "        vertical-align: top;\n",
       "    }\n",
       "\n",
       "    .dataframe thead th {\n",
       "        text-align: right;\n",
       "    }\n",
       "</style>\n",
       "<table border=\"1\" class=\"dataframe\">\n",
       "  <thead>\n",
       "    <tr style=\"text-align: right;\">\n",
       "      <th></th>\n",
       "      <th>gid</th>\n",
       "      <th>objectid</th>\n",
       "      <th>longitude</th>\n",
       "      <th>latitude</th>\n",
       "      <th>sio2</th>\n",
       "      <th>al2o3</th>\n",
       "      <th>fe2o3</th>\n",
       "      <th>tio2</th>\n",
       "      <th>cao</th>\n",
       "      <th>mgo</th>\n",
       "      <th>...</th>\n",
       "      <th>w</th>\n",
       "      <th>u</th>\n",
       "      <th>pt</th>\n",
       "      <th>pd</th>\n",
       "      <th>in_</th>\n",
       "      <th>f</th>\n",
       "      <th>te</th>\n",
       "      <th>tl</th>\n",
       "      <th>hg</th>\n",
       "      <th>cd</th>\n",
       "    </tr>\n",
       "  </thead>\n",
       "  <tbody>\n",
       "    <tr>\n",
       "      <th>count</th>\n",
       "      <td>203.000000</td>\n",
       "      <td>203.000000</td>\n",
       "      <td>203.000000</td>\n",
       "      <td>203.000000</td>\n",
       "      <td>203.000000</td>\n",
       "      <td>203.000000</td>\n",
       "      <td>203.000000</td>\n",
       "      <td>203.000000</td>\n",
       "      <td>203.000000</td>\n",
       "      <td>203.000000</td>\n",
       "      <td>...</td>\n",
       "      <td>203.0</td>\n",
       "      <td>203.000000</td>\n",
       "      <td>203.0</td>\n",
       "      <td>203.0</td>\n",
       "      <td>203.0</td>\n",
       "      <td>203.0</td>\n",
       "      <td>203.0</td>\n",
       "      <td>203.0</td>\n",
       "      <td>203.000000</td>\n",
       "      <td>203.000000</td>\n",
       "    </tr>\n",
       "    <tr>\n",
       "      <th>mean</th>\n",
       "      <td>3886.817734</td>\n",
       "      <td>3886.817734</td>\n",
       "      <td>77.625159</td>\n",
       "      <td>14.374757</td>\n",
       "      <td>61.577385</td>\n",
       "      <td>15.343576</td>\n",
       "      <td>5.106995</td>\n",
       "      <td>0.072808</td>\n",
       "      <td>1.711232</td>\n",
       "      <td>3.511527</td>\n",
       "      <td>...</td>\n",
       "      <td>2.5</td>\n",
       "      <td>2.898556</td>\n",
       "      <td>0.0</td>\n",
       "      <td>0.0</td>\n",
       "      <td>0.0</td>\n",
       "      <td>0.0</td>\n",
       "      <td>0.0</td>\n",
       "      <td>0.0</td>\n",
       "      <td>8.507389</td>\n",
       "      <td>51.556650</td>\n",
       "    </tr>\n",
       "    <tr>\n",
       "      <th>std</th>\n",
       "      <td>392.690039</td>\n",
       "      <td>392.690039</td>\n",
       "      <td>0.077262</td>\n",
       "      <td>0.073240</td>\n",
       "      <td>4.585337</td>\n",
       "      <td>1.115737</td>\n",
       "      <td>1.852035</td>\n",
       "      <td>0.037739</td>\n",
       "      <td>0.781060</td>\n",
       "      <td>1.287493</td>\n",
       "      <td>...</td>\n",
       "      <td>0.0</td>\n",
       "      <td>1.197724</td>\n",
       "      <td>0.0</td>\n",
       "      <td>0.0</td>\n",
       "      <td>0.0</td>\n",
       "      <td>0.0</td>\n",
       "      <td>0.0</td>\n",
       "      <td>0.0</td>\n",
       "      <td>9.023413</td>\n",
       "      <td>9.966801</td>\n",
       "    </tr>\n",
       "    <tr>\n",
       "      <th>min</th>\n",
       "      <td>2947.000000</td>\n",
       "      <td>2947.000000</td>\n",
       "      <td>77.500000</td>\n",
       "      <td>14.259009</td>\n",
       "      <td>44.100000</td>\n",
       "      <td>12.090000</td>\n",
       "      <td>2.460000</td>\n",
       "      <td>0.030000</td>\n",
       "      <td>0.580000</td>\n",
       "      <td>1.270000</td>\n",
       "      <td>...</td>\n",
       "      <td>2.5</td>\n",
       "      <td>0.507633</td>\n",
       "      <td>0.0</td>\n",
       "      <td>0.0</td>\n",
       "      <td>0.0</td>\n",
       "      <td>0.0</td>\n",
       "      <td>0.0</td>\n",
       "      <td>0.0</td>\n",
       "      <td>2.500000</td>\n",
       "      <td>50.000000</td>\n",
       "    </tr>\n",
       "    <tr>\n",
       "      <th>25%</th>\n",
       "      <td>3705.500000</td>\n",
       "      <td>3705.500000</td>\n",
       "      <td>77.564815</td>\n",
       "      <td>14.313063</td>\n",
       "      <td>59.146000</td>\n",
       "      <td>14.625000</td>\n",
       "      <td>3.975000</td>\n",
       "      <td>0.050000</td>\n",
       "      <td>1.200000</td>\n",
       "      <td>2.630000</td>\n",
       "      <td>...</td>\n",
       "      <td>2.5</td>\n",
       "      <td>2.125364</td>\n",
       "      <td>0.0</td>\n",
       "      <td>0.0</td>\n",
       "      <td>0.0</td>\n",
       "      <td>0.0</td>\n",
       "      <td>0.0</td>\n",
       "      <td>0.0</td>\n",
       "      <td>5.000000</td>\n",
       "      <td>50.000000</td>\n",
       "    </tr>\n",
       "    <tr>\n",
       "      <th>50%</th>\n",
       "      <td>3934.000000</td>\n",
       "      <td>3934.000000</td>\n",
       "      <td>77.620370</td>\n",
       "      <td>14.367117</td>\n",
       "      <td>62.750000</td>\n",
       "      <td>15.360000</td>\n",
       "      <td>4.650000</td>\n",
       "      <td>0.060000</td>\n",
       "      <td>1.520000</td>\n",
       "      <td>3.210000</td>\n",
       "      <td>...</td>\n",
       "      <td>2.5</td>\n",
       "      <td>2.646843</td>\n",
       "      <td>0.0</td>\n",
       "      <td>0.0</td>\n",
       "      <td>0.0</td>\n",
       "      <td>0.0</td>\n",
       "      <td>0.0</td>\n",
       "      <td>0.0</td>\n",
       "      <td>7.000000</td>\n",
       "      <td>50.000000</td>\n",
       "    </tr>\n",
       "    <tr>\n",
       "      <th>75%</th>\n",
       "      <td>4160.500000</td>\n",
       "      <td>4160.500000</td>\n",
       "      <td>77.694444</td>\n",
       "      <td>14.439189</td>\n",
       "      <td>64.325000</td>\n",
       "      <td>16.120000</td>\n",
       "      <td>5.525000</td>\n",
       "      <td>0.070000</td>\n",
       "      <td>1.965000</td>\n",
       "      <td>4.040000</td>\n",
       "      <td>...</td>\n",
       "      <td>2.5</td>\n",
       "      <td>3.588826</td>\n",
       "      <td>0.0</td>\n",
       "      <td>0.0</td>\n",
       "      <td>0.0</td>\n",
       "      <td>0.0</td>\n",
       "      <td>0.0</td>\n",
       "      <td>0.0</td>\n",
       "      <td>9.000000</td>\n",
       "      <td>50.000000</td>\n",
       "    </tr>\n",
       "    <tr>\n",
       "      <th>max</th>\n",
       "      <td>5073.000000</td>\n",
       "      <td>5073.000000</td>\n",
       "      <td>77.749999</td>\n",
       "      <td>14.493242</td>\n",
       "      <td>69.860000</td>\n",
       "      <td>17.970000</td>\n",
       "      <td>12.250000</td>\n",
       "      <td>0.230000</td>\n",
       "      <td>5.720000</td>\n",
       "      <td>8.380000</td>\n",
       "      <td>...</td>\n",
       "      <td>2.5</td>\n",
       "      <td>7.094000</td>\n",
       "      <td>0.0</td>\n",
       "      <td>0.0</td>\n",
       "      <td>0.0</td>\n",
       "      <td>0.0</td>\n",
       "      <td>0.0</td>\n",
       "      <td>0.0</td>\n",
       "      <td>80.000000</td>\n",
       "      <td>128.000000</td>\n",
       "    </tr>\n",
       "  </tbody>\n",
       "</table>\n",
       "<p>8 rows × 69 columns</p>\n",
       "</div>"
      ],
      "text/plain": [
       "               gid     objectid   longitude    latitude        sio2  \\\n",
       "count   203.000000   203.000000  203.000000  203.000000  203.000000   \n",
       "mean   3886.817734  3886.817734   77.625159   14.374757   61.577385   \n",
       "std     392.690039   392.690039    0.077262    0.073240    4.585337   \n",
       "min    2947.000000  2947.000000   77.500000   14.259009   44.100000   \n",
       "25%    3705.500000  3705.500000   77.564815   14.313063   59.146000   \n",
       "50%    3934.000000  3934.000000   77.620370   14.367117   62.750000   \n",
       "75%    4160.500000  4160.500000   77.694444   14.439189   64.325000   \n",
       "max    5073.000000  5073.000000   77.749999   14.493242   69.860000   \n",
       "\n",
       "            al2o3       fe2o3        tio2         cao         mgo  ...      w  \\\n",
       "count  203.000000  203.000000  203.000000  203.000000  203.000000  ...  203.0   \n",
       "mean    15.343576    5.106995    0.072808    1.711232    3.511527  ...    2.5   \n",
       "std      1.115737    1.852035    0.037739    0.781060    1.287493  ...    0.0   \n",
       "min     12.090000    2.460000    0.030000    0.580000    1.270000  ...    2.5   \n",
       "25%     14.625000    3.975000    0.050000    1.200000    2.630000  ...    2.5   \n",
       "50%     15.360000    4.650000    0.060000    1.520000    3.210000  ...    2.5   \n",
       "75%     16.120000    5.525000    0.070000    1.965000    4.040000  ...    2.5   \n",
       "max     17.970000   12.250000    0.230000    5.720000    8.380000  ...    2.5   \n",
       "\n",
       "                u     pt     pd    in_      f     te     tl          hg  \\\n",
       "count  203.000000  203.0  203.0  203.0  203.0  203.0  203.0  203.000000   \n",
       "mean     2.898556    0.0    0.0    0.0    0.0    0.0    0.0    8.507389   \n",
       "std      1.197724    0.0    0.0    0.0    0.0    0.0    0.0    9.023413   \n",
       "min      0.507633    0.0    0.0    0.0    0.0    0.0    0.0    2.500000   \n",
       "25%      2.125364    0.0    0.0    0.0    0.0    0.0    0.0    5.000000   \n",
       "50%      2.646843    0.0    0.0    0.0    0.0    0.0    0.0    7.000000   \n",
       "75%      3.588826    0.0    0.0    0.0    0.0    0.0    0.0    9.000000   \n",
       "max      7.094000    0.0    0.0    0.0    0.0    0.0    0.0   80.000000   \n",
       "\n",
       "               cd  \n",
       "count  203.000000  \n",
       "mean    51.556650  \n",
       "std      9.966801  \n",
       "min     50.000000  \n",
       "25%     50.000000  \n",
       "50%     50.000000  \n",
       "75%     50.000000  \n",
       "max    128.000000  \n",
       "\n",
       "[8 rows x 69 columns]"
      ]
     },
     "execution_count": 4,
     "metadata": {},
     "output_type": "execute_result"
    }
   ],
   "source": [
    "str_sed_data.describe()"
   ]
  },
  {
   "cell_type": "markdown",
   "id": "667db61e-4075-4ad5-8675-8cd305ac8687",
   "metadata": {},
   "source": [
    "Max and Min:\n",
    "- Longitude\n",
    "- Latitude"
   ]
  },
  {
   "cell_type": "code",
   "execution_count": 78,
   "id": "04a13a80-a944-4ac7-876b-58078fbce669",
   "metadata": {},
   "outputs": [
    {
     "name": "stdout",
     "output_type": "stream",
     "text": [
      "Stream Sediment coordinates - \n",
      "Maximum longitude co-ordinate: 77.749999\n",
      "Minimum longitude co-ordinate: 77.5\n",
      "Maximum latitude co-ordinate: 14.493242\n",
      "Minimum latitude co-ordinate: 14.259009\n"
     ]
    }
   ],
   "source": [
    "sed_max_long = max(str_sed_data['longitude'])\n",
    "sed_min_long = min(str_sed_data['longitude'])\n",
    "\n",
    "sed_max_lat = max(str_sed_data['latitude'])\n",
    "sed_min_lat = min(str_sed_data['latitude'])\n",
    "\n",
    "print(\"Stream Sediment coordinates - \")\n",
    "\n",
    "print(f\"Maximum longitude co-ordinate: {sed_max_long}\")\n",
    "print(f\"Minimum longitude co-ordinate: {sed_min_long}\")\n",
    "\n",
    "print(f\"Maximum latitude co-ordinate: {sed_max_lat}\")\n",
    "print(f\"Minimum latitude co-ordinate: {sed_min_lat}\")"
   ]
  },
  {
   "cell_type": "code",
   "execution_count": 6,
   "id": "5e90194c-7cc0-4904-a498-c1eab39fb3fe",
   "metadata": {},
   "outputs": [
    {
     "data": {
      "text/html": [
       "<div>\n",
       "<style scoped>\n",
       "    .dataframe tbody tr th:only-of-type {\n",
       "        vertical-align: middle;\n",
       "    }\n",
       "\n",
       "    .dataframe tbody tr th {\n",
       "        vertical-align: top;\n",
       "    }\n",
       "\n",
       "    .dataframe thead th {\n",
       "        text-align: right;\n",
       "    }\n",
       "</style>\n",
       "<table border=\"1\" class=\"dataframe\">\n",
       "  <thead>\n",
       "    <tr style=\"text-align: right;\">\n",
       "      <th></th>\n",
       "      <th>gid</th>\n",
       "      <th>objectid</th>\n",
       "      <th>sampleno</th>\n",
       "      <th>longitude</th>\n",
       "      <th>latitude</th>\n",
       "      <th>sio2</th>\n",
       "      <th>al2o3</th>\n",
       "      <th>fe2o3</th>\n",
       "      <th>tio2</th>\n",
       "      <th>cao</th>\n",
       "      <th>...</th>\n",
       "      <th>u</th>\n",
       "      <th>pt</th>\n",
       "      <th>pd</th>\n",
       "      <th>toposheet</th>\n",
       "      <th>in_</th>\n",
       "      <th>f</th>\n",
       "      <th>te</th>\n",
       "      <th>tl</th>\n",
       "      <th>hg</th>\n",
       "      <th>cd</th>\n",
       "    </tr>\n",
       "  </thead>\n",
       "  <tbody>\n",
       "    <tr>\n",
       "      <th>0</th>\n",
       "      <td>2947</td>\n",
       "      <td>2947</td>\n",
       "      <td>57F11/177/SS/12</td>\n",
       "      <td>77.657407</td>\n",
       "      <td>14.475225</td>\n",
       "      <td>61.921</td>\n",
       "      <td>14.606</td>\n",
       "      <td>4.51</td>\n",
       "      <td>0.05</td>\n",
       "      <td>2.28</td>\n",
       "      <td>...</td>\n",
       "      <td>3.016905</td>\n",
       "      <td>0</td>\n",
       "      <td>0</td>\n",
       "      <td>57F11</td>\n",
       "      <td>0</td>\n",
       "      <td>0</td>\n",
       "      <td>0</td>\n",
       "      <td>0</td>\n",
       "      <td>8.0</td>\n",
       "      <td>50</td>\n",
       "    </tr>\n",
       "    <tr>\n",
       "      <th>1</th>\n",
       "      <td>2948</td>\n",
       "      <td>2948</td>\n",
       "      <td>57F11/178/SS/12</td>\n",
       "      <td>77.675926</td>\n",
       "      <td>14.475225</td>\n",
       "      <td>62.077</td>\n",
       "      <td>13.750</td>\n",
       "      <td>4.22</td>\n",
       "      <td>0.05</td>\n",
       "      <td>2.43</td>\n",
       "      <td>...</td>\n",
       "      <td>3.378550</td>\n",
       "      <td>0</td>\n",
       "      <td>0</td>\n",
       "      <td>57F11</td>\n",
       "      <td>0</td>\n",
       "      <td>0</td>\n",
       "      <td>0</td>\n",
       "      <td>0</td>\n",
       "      <td>9.0</td>\n",
       "      <td>50</td>\n",
       "    </tr>\n",
       "    <tr>\n",
       "      <th>2</th>\n",
       "      <td>2949</td>\n",
       "      <td>2949</td>\n",
       "      <td>57F11/179/SS/12</td>\n",
       "      <td>77.694444</td>\n",
       "      <td>14.475225</td>\n",
       "      <td>68.645</td>\n",
       "      <td>13.410</td>\n",
       "      <td>3.02</td>\n",
       "      <td>0.05</td>\n",
       "      <td>1.32</td>\n",
       "      <td>...</td>\n",
       "      <td>3.509000</td>\n",
       "      <td>0</td>\n",
       "      <td>0</td>\n",
       "      <td>57F11</td>\n",
       "      <td>0</td>\n",
       "      <td>0</td>\n",
       "      <td>0</td>\n",
       "      <td>0</td>\n",
       "      <td>2.5</td>\n",
       "      <td>50</td>\n",
       "    </tr>\n",
       "    <tr>\n",
       "      <th>3</th>\n",
       "      <td>2950</td>\n",
       "      <td>2950</td>\n",
       "      <td>57F11/180/SS/12</td>\n",
       "      <td>77.712963</td>\n",
       "      <td>14.475225</td>\n",
       "      <td>64.950</td>\n",
       "      <td>14.280</td>\n",
       "      <td>3.46</td>\n",
       "      <td>0.05</td>\n",
       "      <td>1.75</td>\n",
       "      <td>...</td>\n",
       "      <td>4.241000</td>\n",
       "      <td>0</td>\n",
       "      <td>0</td>\n",
       "      <td>57F11</td>\n",
       "      <td>0</td>\n",
       "      <td>0</td>\n",
       "      <td>0</td>\n",
       "      <td>0</td>\n",
       "      <td>19.0</td>\n",
       "      <td>50</td>\n",
       "    </tr>\n",
       "    <tr>\n",
       "      <th>4</th>\n",
       "      <td>2951</td>\n",
       "      <td>2951</td>\n",
       "      <td>57F11/181/SS/12</td>\n",
       "      <td>77.731481</td>\n",
       "      <td>14.475225</td>\n",
       "      <td>64.302</td>\n",
       "      <td>14.010</td>\n",
       "      <td>4.08</td>\n",
       "      <td>0.05</td>\n",
       "      <td>1.84</td>\n",
       "      <td>...</td>\n",
       "      <td>4.218000</td>\n",
       "      <td>0</td>\n",
       "      <td>0</td>\n",
       "      <td>57F11</td>\n",
       "      <td>0</td>\n",
       "      <td>0</td>\n",
       "      <td>0</td>\n",
       "      <td>0</td>\n",
       "      <td>19.0</td>\n",
       "      <td>50</td>\n",
       "    </tr>\n",
       "  </tbody>\n",
       "</table>\n",
       "<p>5 rows × 71 columns</p>\n",
       "</div>"
      ],
      "text/plain": [
       "    gid  objectid         sampleno  longitude   latitude    sio2   al2o3  \\\n",
       "0  2947      2947  57F11/177/SS/12  77.657407  14.475225  61.921  14.606   \n",
       "1  2948      2948  57F11/178/SS/12  77.675926  14.475225  62.077  13.750   \n",
       "2  2949      2949  57F11/179/SS/12  77.694444  14.475225  68.645  13.410   \n",
       "3  2950      2950  57F11/180/SS/12  77.712963  14.475225  64.950  14.280   \n",
       "4  2951      2951  57F11/181/SS/12  77.731481  14.475225  64.302  14.010   \n",
       "\n",
       "   fe2o3  tio2   cao  ...         u  pt  pd  toposheet  in_  f  te  tl    hg  \\\n",
       "0   4.51  0.05  2.28  ...  3.016905   0   0      57F11    0  0   0   0   8.0   \n",
       "1   4.22  0.05  2.43  ...  3.378550   0   0      57F11    0  0   0   0   9.0   \n",
       "2   3.02  0.05  1.32  ...  3.509000   0   0      57F11    0  0   0   0   2.5   \n",
       "3   3.46  0.05  1.75  ...  4.241000   0   0      57F11    0  0   0   0  19.0   \n",
       "4   4.08  0.05  1.84  ...  4.218000   0   0      57F11    0  0   0   0  19.0   \n",
       "\n",
       "   cd  \n",
       "0  50  \n",
       "1  50  \n",
       "2  50  \n",
       "3  50  \n",
       "4  50  \n",
       "\n",
       "[5 rows x 71 columns]"
      ]
     },
     "execution_count": 6,
     "metadata": {},
     "output_type": "execute_result"
    }
   ],
   "source": [
    "str_sed_data.head()"
   ]
  },
  {
   "cell_type": "code",
   "execution_count": 7,
   "id": "a6c1720a-13f3-488f-a86b-b2728e072d14",
   "metadata": {},
   "outputs": [
    {
     "data": {
      "text/plain": [
       "toposheet\n",
       "57F11    196\n",
       "57F07      7\n",
       "Name: count, dtype: int64"
      ]
     },
     "execution_count": 7,
     "metadata": {},
     "output_type": "execute_result"
    }
   ],
   "source": [
    "str_sed_data['toposheet'].value_counts()"
   ]
  },
  {
   "cell_type": "markdown",
   "id": "2e1d2189-20e6-41b2-9a9f-9049231bf3a4",
   "metadata": {},
   "source": [
    "### Elements composition from different samples"
   ]
  },
  {
   "cell_type": "code",
   "execution_count": 8,
   "id": "379acb54-bf1e-4b78-9f1d-444e1fab2c8c",
   "metadata": {},
   "outputs": [],
   "source": [
    "elements = []\n",
    "\n",
    "for col in list(str_sed_data.columns):\n",
    "    if col not in ['gid', 'objectid', 'sampleno', 'longitude', 'latitude', 'toposheet']:\n",
    "        elements.append(col)"
   ]
  },
  {
   "cell_type": "code",
   "execution_count": 9,
   "id": "849b4b70-86bf-4f42-b882-fe6fedda2dd6",
   "metadata": {},
   "outputs": [
    {
     "data": {
      "text/html": [
       "<div>\n",
       "<style scoped>\n",
       "    .dataframe tbody tr th:only-of-type {\n",
       "        vertical-align: middle;\n",
       "    }\n",
       "\n",
       "    .dataframe tbody tr th {\n",
       "        vertical-align: top;\n",
       "    }\n",
       "\n",
       "    .dataframe thead th {\n",
       "        text-align: right;\n",
       "    }\n",
       "</style>\n",
       "<table border=\"1\" class=\"dataframe\">\n",
       "  <thead>\n",
       "    <tr style=\"text-align: right;\">\n",
       "      <th></th>\n",
       "      <th>sio2</th>\n",
       "      <th>al2o3</th>\n",
       "      <th>fe2o3</th>\n",
       "      <th>tio2</th>\n",
       "      <th>cao</th>\n",
       "      <th>mgo</th>\n",
       "      <th>mno</th>\n",
       "      <th>na2o</th>\n",
       "      <th>k2o</th>\n",
       "      <th>p2o5</th>\n",
       "      <th>...</th>\n",
       "      <th>w</th>\n",
       "      <th>u</th>\n",
       "      <th>pt</th>\n",
       "      <th>pd</th>\n",
       "      <th>in_</th>\n",
       "      <th>f</th>\n",
       "      <th>te</th>\n",
       "      <th>tl</th>\n",
       "      <th>hg</th>\n",
       "      <th>cd</th>\n",
       "    </tr>\n",
       "  </thead>\n",
       "  <tbody>\n",
       "    <tr>\n",
       "      <th>0</th>\n",
       "      <td>61.921</td>\n",
       "      <td>14.606</td>\n",
       "      <td>4.51</td>\n",
       "      <td>0.05</td>\n",
       "      <td>2.28</td>\n",
       "      <td>3.24</td>\n",
       "      <td>1.52</td>\n",
       "      <td>2.46</td>\n",
       "      <td>0.61</td>\n",
       "      <td>0.13</td>\n",
       "      <td>...</td>\n",
       "      <td>2.5</td>\n",
       "      <td>3.016905</td>\n",
       "      <td>0</td>\n",
       "      <td>0</td>\n",
       "      <td>0</td>\n",
       "      <td>0</td>\n",
       "      <td>0</td>\n",
       "      <td>0</td>\n",
       "      <td>8.0</td>\n",
       "      <td>50</td>\n",
       "    </tr>\n",
       "    <tr>\n",
       "      <th>1</th>\n",
       "      <td>62.077</td>\n",
       "      <td>13.750</td>\n",
       "      <td>4.22</td>\n",
       "      <td>0.05</td>\n",
       "      <td>2.43</td>\n",
       "      <td>4.14</td>\n",
       "      <td>1.52</td>\n",
       "      <td>2.55</td>\n",
       "      <td>0.64</td>\n",
       "      <td>0.12</td>\n",
       "      <td>...</td>\n",
       "      <td>2.5</td>\n",
       "      <td>3.378550</td>\n",
       "      <td>0</td>\n",
       "      <td>0</td>\n",
       "      <td>0</td>\n",
       "      <td>0</td>\n",
       "      <td>0</td>\n",
       "      <td>0</td>\n",
       "      <td>9.0</td>\n",
       "      <td>50</td>\n",
       "    </tr>\n",
       "    <tr>\n",
       "      <th>2</th>\n",
       "      <td>68.645</td>\n",
       "      <td>13.410</td>\n",
       "      <td>3.02</td>\n",
       "      <td>0.05</td>\n",
       "      <td>1.32</td>\n",
       "      <td>3.19</td>\n",
       "      <td>2.89</td>\n",
       "      <td>3.08</td>\n",
       "      <td>0.75</td>\n",
       "      <td>0.08</td>\n",
       "      <td>...</td>\n",
       "      <td>2.5</td>\n",
       "      <td>3.509000</td>\n",
       "      <td>0</td>\n",
       "      <td>0</td>\n",
       "      <td>0</td>\n",
       "      <td>0</td>\n",
       "      <td>0</td>\n",
       "      <td>0</td>\n",
       "      <td>2.5</td>\n",
       "      <td>50</td>\n",
       "    </tr>\n",
       "    <tr>\n",
       "      <th>3</th>\n",
       "      <td>64.950</td>\n",
       "      <td>14.280</td>\n",
       "      <td>3.46</td>\n",
       "      <td>0.05</td>\n",
       "      <td>1.75</td>\n",
       "      <td>3.10</td>\n",
       "      <td>2.34</td>\n",
       "      <td>2.82</td>\n",
       "      <td>0.60</td>\n",
       "      <td>0.12</td>\n",
       "      <td>...</td>\n",
       "      <td>2.5</td>\n",
       "      <td>4.241000</td>\n",
       "      <td>0</td>\n",
       "      <td>0</td>\n",
       "      <td>0</td>\n",
       "      <td>0</td>\n",
       "      <td>0</td>\n",
       "      <td>0</td>\n",
       "      <td>19.0</td>\n",
       "      <td>50</td>\n",
       "    </tr>\n",
       "    <tr>\n",
       "      <th>4</th>\n",
       "      <td>64.302</td>\n",
       "      <td>14.010</td>\n",
       "      <td>4.08</td>\n",
       "      <td>0.05</td>\n",
       "      <td>1.84</td>\n",
       "      <td>3.24</td>\n",
       "      <td>2.12</td>\n",
       "      <td>2.83</td>\n",
       "      <td>0.75</td>\n",
       "      <td>0.16</td>\n",
       "      <td>...</td>\n",
       "      <td>2.5</td>\n",
       "      <td>4.218000</td>\n",
       "      <td>0</td>\n",
       "      <td>0</td>\n",
       "      <td>0</td>\n",
       "      <td>0</td>\n",
       "      <td>0</td>\n",
       "      <td>0</td>\n",
       "      <td>19.0</td>\n",
       "      <td>50</td>\n",
       "    </tr>\n",
       "  </tbody>\n",
       "</table>\n",
       "<p>5 rows × 65 columns</p>\n",
       "</div>"
      ],
      "text/plain": [
       "     sio2   al2o3  fe2o3  tio2   cao   mgo   mno  na2o   k2o  p2o5  ...    w  \\\n",
       "0  61.921  14.606   4.51  0.05  2.28  3.24  1.52  2.46  0.61  0.13  ...  2.5   \n",
       "1  62.077  13.750   4.22  0.05  2.43  4.14  1.52  2.55  0.64  0.12  ...  2.5   \n",
       "2  68.645  13.410   3.02  0.05  1.32  3.19  2.89  3.08  0.75  0.08  ...  2.5   \n",
       "3  64.950  14.280   3.46  0.05  1.75  3.10  2.34  2.82  0.60  0.12  ...  2.5   \n",
       "4  64.302  14.010   4.08  0.05  1.84  3.24  2.12  2.83  0.75  0.16  ...  2.5   \n",
       "\n",
       "          u  pt  pd  in_  f  te  tl    hg  cd  \n",
       "0  3.016905   0   0    0  0   0   0   8.0  50  \n",
       "1  3.378550   0   0    0  0   0   0   9.0  50  \n",
       "2  3.509000   0   0    0  0   0   0   2.5  50  \n",
       "3  4.241000   0   0    0  0   0   0  19.0  50  \n",
       "4  4.218000   0   0    0  0   0   0  19.0  50  \n",
       "\n",
       "[5 rows x 65 columns]"
      ]
     },
     "execution_count": 9,
     "metadata": {},
     "output_type": "execute_result"
    }
   ],
   "source": [
    "elements_df = str_sed_data[elements]\n",
    "elements_df.head()"
   ]
  },
  {
   "cell_type": "code",
   "execution_count": 10,
   "id": "79cdbfed-b478-4301-b5d1-8cb0cbf844bd",
   "metadata": {},
   "outputs": [
    {
     "name": "stdout",
     "output_type": "stream",
     "text": [
      "Elements which don't contribute in the sediment composition: ['pt', 'pd', 'in_', 'f', 'te', 'tl']\n"
     ]
    }
   ],
   "source": [
    "elem_rem = []\n",
    "for col in elements:\n",
    "    if (elements_df[col] == 0).all():\n",
    "        elem_rem.append(col)\n",
    "print(f\"Elements which don't contribute in the sediment composition: {elem_rem}\")"
   ]
  },
  {
   "cell_type": "code",
   "execution_count": 11,
   "id": "8a6cc95c-ba19-43c6-88b5-41232daf28a2",
   "metadata": {
    "scrolled": true
   },
   "outputs": [
    {
     "name": "stderr",
     "output_type": "stream",
     "text": [
      "C:\\Users\\Admin\\AppData\\Local\\Temp\\ipykernel_4872\\3601930424.py:1: SettingWithCopyWarning: \n",
      "A value is trying to be set on a copy of a slice from a DataFrame\n",
      "\n",
      "See the caveats in the documentation: https://pandas.pydata.org/pandas-docs/stable/user_guide/indexing.html#returning-a-view-versus-a-copy\n",
      "  elements_df.drop(elem_rem, axis=1, inplace=True)\n"
     ]
    }
   ],
   "source": [
    "elements_df.drop(elem_rem, axis=1, inplace=True)"
   ]
  },
  {
   "cell_type": "code",
   "execution_count": null,
   "id": "6deeb75e-382e-46b4-a6bd-5af523b07cd6",
   "metadata": {
    "scrolled": true
   },
   "outputs": [],
   "source": []
  },
  {
   "cell_type": "markdown",
   "id": "f8e5ecea-5fbb-4f7d-9a7a-312f5a3b5f29",
   "metadata": {
    "jp-MarkdownHeadingCollapsed": true
   },
   "source": [
    "## Gravity Data"
   ]
  },
  {
   "cell_type": "code",
   "execution_count": 73,
   "id": "9bf9e20c-0779-49b3-81f0-f524101920b4",
   "metadata": {},
   "outputs": [],
   "source": [
    "gravity_data = pd.read_csv(data_path + '/gravity_57F11.csv')"
   ]
  },
  {
   "cell_type": "code",
   "execution_count": 74,
   "id": "793cd79c-8651-4f08-a291-dd18cf442772",
   "metadata": {},
   "outputs": [
    {
     "name": "stdout",
     "output_type": "stream",
     "text": [
      "<class 'pandas.core.frame.DataFrame'>\n",
      "RangeIndex: 363 entries, 0 to 362\n",
      "Data columns (total 9 columns):\n",
      " #   Column      Non-Null Count  Dtype  \n",
      "---  ------      --------------  -----  \n",
      " 0   gid         363 non-null    int64  \n",
      " 1   objectid    363 non-null    int64  \n",
      " 2   longitude_  363 non-null    float64\n",
      " 3   latitude_r  363 non-null    float64\n",
      " 4   elevation_  363 non-null    int64  \n",
      " 5   observed_g  363 non-null    int64  \n",
      " 6   theoretica  363 non-null    int64  \n",
      " 7   bouguer_an  363 non-null    int64  \n",
      " 8   toposheet   363 non-null    object \n",
      "dtypes: float64(2), int64(6), object(1)\n",
      "memory usage: 25.6+ KB\n"
     ]
    }
   ],
   "source": [
    "gravity_data.info()"
   ]
  },
  {
   "cell_type": "code",
   "execution_count": 75,
   "id": "70795fce-664f-41db-9bb6-f764d169e32e",
   "metadata": {},
   "outputs": [
    {
     "data": {
      "text/html": [
       "<div>\n",
       "<style scoped>\n",
       "    .dataframe tbody tr th:only-of-type {\n",
       "        vertical-align: middle;\n",
       "    }\n",
       "\n",
       "    .dataframe tbody tr th {\n",
       "        vertical-align: top;\n",
       "    }\n",
       "\n",
       "    .dataframe thead th {\n",
       "        text-align: right;\n",
       "    }\n",
       "</style>\n",
       "<table border=\"1\" class=\"dataframe\">\n",
       "  <thead>\n",
       "    <tr style=\"text-align: right;\">\n",
       "      <th></th>\n",
       "      <th>gid</th>\n",
       "      <th>objectid</th>\n",
       "      <th>longitude_</th>\n",
       "      <th>latitude_r</th>\n",
       "      <th>elevation_</th>\n",
       "      <th>observed_g</th>\n",
       "      <th>theoretica</th>\n",
       "      <th>bouguer_an</th>\n",
       "      <th>toposheet</th>\n",
       "    </tr>\n",
       "  </thead>\n",
       "  <tbody>\n",
       "    <tr>\n",
       "      <th>0</th>\n",
       "      <td>386966</td>\n",
       "      <td>386966</td>\n",
       "      <td>77.6264</td>\n",
       "      <td>14.2569</td>\n",
       "      <td>443</td>\n",
       "      <td>978167</td>\n",
       "      <td>978345</td>\n",
       "      <td>-91</td>\n",
       "      <td>57F/11</td>\n",
       "    </tr>\n",
       "    <tr>\n",
       "      <th>1</th>\n",
       "      <td>386967</td>\n",
       "      <td>386967</td>\n",
       "      <td>77.6278</td>\n",
       "      <td>14.2653</td>\n",
       "      <td>438</td>\n",
       "      <td>978168</td>\n",
       "      <td>978346</td>\n",
       "      <td>-91</td>\n",
       "      <td>57F/11</td>\n",
       "    </tr>\n",
       "    <tr>\n",
       "      <th>2</th>\n",
       "      <td>386968</td>\n",
       "      <td>386968</td>\n",
       "      <td>77.6281</td>\n",
       "      <td>14.2750</td>\n",
       "      <td>434</td>\n",
       "      <td>978170</td>\n",
       "      <td>978346</td>\n",
       "      <td>-90</td>\n",
       "      <td>57F/11</td>\n",
       "    </tr>\n",
       "    <tr>\n",
       "      <th>3</th>\n",
       "      <td>386969</td>\n",
       "      <td>386969</td>\n",
       "      <td>77.6292</td>\n",
       "      <td>14.2839</td>\n",
       "      <td>429</td>\n",
       "      <td>978170</td>\n",
       "      <td>978347</td>\n",
       "      <td>-91</td>\n",
       "      <td>57F/11</td>\n",
       "    </tr>\n",
       "    <tr>\n",
       "      <th>4</th>\n",
       "      <td>386970</td>\n",
       "      <td>386970</td>\n",
       "      <td>77.6286</td>\n",
       "      <td>14.2931</td>\n",
       "      <td>421</td>\n",
       "      <td>978173</td>\n",
       "      <td>978347</td>\n",
       "      <td>-90</td>\n",
       "      <td>57F/11</td>\n",
       "    </tr>\n",
       "  </tbody>\n",
       "</table>\n",
       "</div>"
      ],
      "text/plain": [
       "      gid  objectid  longitude_  latitude_r  elevation_  observed_g  \\\n",
       "0  386966    386966     77.6264     14.2569         443      978167   \n",
       "1  386967    386967     77.6278     14.2653         438      978168   \n",
       "2  386968    386968     77.6281     14.2750         434      978170   \n",
       "3  386969    386969     77.6292     14.2839         429      978170   \n",
       "4  386970    386970     77.6286     14.2931         421      978173   \n",
       "\n",
       "   theoretica  bouguer_an toposheet  \n",
       "0      978345         -91    57F/11  \n",
       "1      978346         -91    57F/11  \n",
       "2      978346         -90    57F/11  \n",
       "3      978347         -91    57F/11  \n",
       "4      978347         -90    57F/11  "
      ]
     },
     "execution_count": 75,
     "metadata": {},
     "output_type": "execute_result"
    }
   ],
   "source": [
    "gravity_data.head()"
   ]
  },
  {
   "cell_type": "code",
   "execution_count": 104,
   "id": "4557e6ea-2755-44ef-9526-b3e63b62e417",
   "metadata": {},
   "outputs": [
    {
     "name": "stdout",
     "output_type": "stream",
     "text": [
      "Gravity coordinates - \n",
      "Maximum longitude co-ordinate: 77.7489\n",
      "Minimum longitude co-ordinate: 77.5006\n",
      "Maximum latitude co-ordinate: 14.5\n",
      "Minimum latitude co-ordinate: 14.2514\n"
     ]
    }
   ],
   "source": [
    "grav_max_long = max(gravity_data['longitude_'])\n",
    "grav_min_long = min(gravity_data['longitude_'])\n",
    "\n",
    "grav_max_lat = max(gravity_data['latitude_r'])\n",
    "grav_min_lat = min(gravity_data['latitude_r'])\n",
    "\n",
    "print(\"Gravity coordinates - \")\n",
    "\n",
    "print(f\"Maximum longitude co-ordinate: {grav_max_long}\")\n",
    "print(f\"Minimum longitude co-ordinate: {grav_min_long}\")\n",
    "\n",
    "print(f\"Maximum latitude co-ordinate: {grav_max_lat}\")\n",
    "print(f\"Minimum latitude co-ordinate: {grav_min_lat}\")"
   ]
  },
  {
   "cell_type": "markdown",
   "id": "aa0e1f84-839f-477c-b5c0-75137a2bd41e",
   "metadata": {
    "jp-MarkdownHeadingCollapsed": true
   },
   "source": [
    "## Magnetic Data"
   ]
  },
  {
   "cell_type": "code",
   "execution_count": 29,
   "id": "473aea30-620e-4a72-b902-3f06d82aa288",
   "metadata": {},
   "outputs": [],
   "source": [
    "magnetic_data = pd.read_csv(data_path + '/magnetic_57F11.csv')"
   ]
  },
  {
   "cell_type": "code",
   "execution_count": 30,
   "id": "52ebd0a2-30b6-4c49-8975-836cede36c5d",
   "metadata": {},
   "outputs": [
    {
     "name": "stdout",
     "output_type": "stream",
     "text": [
      "<class 'pandas.core.frame.DataFrame'>\n",
      "RangeIndex: 337 entries, 0 to 336\n",
      "Data columns (total 8 columns):\n",
      " #   Column      Non-Null Count  Dtype  \n",
      "---  ------      --------------  -----  \n",
      " 0   gid         337 non-null    int64  \n",
      " 1   objectid    337 non-null    int64  \n",
      " 2   observed_m  337 non-null    float64\n",
      " 3   igrf_nt     337 non-null    float64\n",
      " 4   magnetic_a  337 non-null    float64\n",
      " 5   longitude_  337 non-null    float64\n",
      " 6   latitude_r  337 non-null    float64\n",
      " 7   toposheet   337 non-null    object \n",
      "dtypes: float64(5), int64(2), object(1)\n",
      "memory usage: 21.2+ KB\n"
     ]
    }
   ],
   "source": [
    "magnetic_data.info()"
   ]
  },
  {
   "cell_type": "code",
   "execution_count": 102,
   "id": "a534c8f7-4b53-4577-9622-c105c8810de2",
   "metadata": {},
   "outputs": [
    {
     "data": {
      "text/html": [
       "<div>\n",
       "<style scoped>\n",
       "    .dataframe tbody tr th:only-of-type {\n",
       "        vertical-align: middle;\n",
       "    }\n",
       "\n",
       "    .dataframe tbody tr th {\n",
       "        vertical-align: top;\n",
       "    }\n",
       "\n",
       "    .dataframe thead th {\n",
       "        text-align: right;\n",
       "    }\n",
       "</style>\n",
       "<table border=\"1\" class=\"dataframe\">\n",
       "  <thead>\n",
       "    <tr style=\"text-align: right;\">\n",
       "      <th></th>\n",
       "      <th>gid</th>\n",
       "      <th>objectid</th>\n",
       "      <th>observed_m</th>\n",
       "      <th>igrf_nt</th>\n",
       "      <th>magnetic_a</th>\n",
       "      <th>longitude_</th>\n",
       "      <th>latitude_r</th>\n",
       "      <th>toposheet</th>\n",
       "    </tr>\n",
       "  </thead>\n",
       "  <tbody>\n",
       "    <tr>\n",
       "      <th>0</th>\n",
       "      <td>317368</td>\n",
       "      <td>317368</td>\n",
       "      <td>40872.13132</td>\n",
       "      <td>41573.71077</td>\n",
       "      <td>-701.579447</td>\n",
       "      <td>77.66925</td>\n",
       "      <td>14.30908</td>\n",
       "      <td>57F/11</td>\n",
       "    </tr>\n",
       "    <tr>\n",
       "      <th>1</th>\n",
       "      <td>317369</td>\n",
       "      <td>317369</td>\n",
       "      <td>41135.13264</td>\n",
       "      <td>41629.78027</td>\n",
       "      <td>-494.647631</td>\n",
       "      <td>77.65450</td>\n",
       "      <td>14.49714</td>\n",
       "      <td>57F/11</td>\n",
       "    </tr>\n",
       "    <tr>\n",
       "      <th>2</th>\n",
       "      <td>317370</td>\n",
       "      <td>317370</td>\n",
       "      <td>41152.13245</td>\n",
       "      <td>41621.69501</td>\n",
       "      <td>-469.562560</td>\n",
       "      <td>77.66114</td>\n",
       "      <td>14.46881</td>\n",
       "      <td>57F/11</td>\n",
       "    </tr>\n",
       "    <tr>\n",
       "      <th>3</th>\n",
       "      <td>317371</td>\n",
       "      <td>317371</td>\n",
       "      <td>41165.13195</td>\n",
       "      <td>41604.09323</td>\n",
       "      <td>-438.961281</td>\n",
       "      <td>77.54458</td>\n",
       "      <td>14.44861</td>\n",
       "      <td>57F/11</td>\n",
       "    </tr>\n",
       "    <tr>\n",
       "      <th>4</th>\n",
       "      <td>317372</td>\n",
       "      <td>317372</td>\n",
       "      <td>41203.13215</td>\n",
       "      <td>41609.26900</td>\n",
       "      <td>-406.136845</td>\n",
       "      <td>77.65169</td>\n",
       "      <td>14.43136</td>\n",
       "      <td>57F/11</td>\n",
       "    </tr>\n",
       "  </tbody>\n",
       "</table>\n",
       "</div>"
      ],
      "text/plain": [
       "      gid  objectid   observed_m      igrf_nt  magnetic_a  longitude_  \\\n",
       "0  317368    317368  40872.13132  41573.71077 -701.579447    77.66925   \n",
       "1  317369    317369  41135.13264  41629.78027 -494.647631    77.65450   \n",
       "2  317370    317370  41152.13245  41621.69501 -469.562560    77.66114   \n",
       "3  317371    317371  41165.13195  41604.09323 -438.961281    77.54458   \n",
       "4  317372    317372  41203.13215  41609.26900 -406.136845    77.65169   \n",
       "\n",
       "   latitude_r toposheet  \n",
       "0    14.30908    57F/11  \n",
       "1    14.49714    57F/11  \n",
       "2    14.46881    57F/11  \n",
       "3    14.44861    57F/11  \n",
       "4    14.43136    57F/11  "
      ]
     },
     "execution_count": 102,
     "metadata": {},
     "output_type": "execute_result"
    }
   ],
   "source": [
    "magnetic_data.head()"
   ]
  },
  {
   "cell_type": "code",
   "execution_count": 105,
   "id": "45278dd4-178c-43c8-a270-c6f3987e4217",
   "metadata": {},
   "outputs": [
    {
     "name": "stdout",
     "output_type": "stream",
     "text": [
      "Magnetic coordinates - \n",
      "Maximum longitude co-ordinate: 77.74933\n",
      "Minimum longitude co-ordinate: 77.50089\n",
      "Maximum latitude co-ordinate: 14.49911\n",
      "Minimum latitude co-ordinate: 14.25006\n"
     ]
    }
   ],
   "source": [
    "mag_max_long = max(magnetic_data['longitude_'])\n",
    "mag_min_long = min(magnetic_data['longitude_'])\n",
    "\n",
    "mag_max_lat = max(magnetic_data['latitude_r'])\n",
    "mag_min_lat = min(magnetic_data['latitude_r'])\n",
    "\n",
    "print(\"Magnetic coordinates - \")\n",
    "\n",
    "print(f\"Maximum longitude co-ordinate: {mag_max_long}\")\n",
    "print(f\"Minimum longitude co-ordinate: {mag_min_long}\")\n",
    "\n",
    "print(f\"Maximum latitude co-ordinate: {mag_max_lat}\")\n",
    "print(f\"Minimum latitude co-ordinate: {mag_min_lat}\")"
   ]
  },
  {
   "cell_type": "markdown",
   "id": "3d5544c9-0b92-4da9-9897-112bff742013",
   "metadata": {
    "jp-MarkdownHeadingCollapsed": true
   },
   "source": [
    "## Interpolation of Gravity and Magnetic anomalies at Sediment locations"
   ]
  },
  {
   "cell_type": "code",
   "execution_count": 106,
   "id": "a81958cf-3d12-4c7e-83ef-961968024f03",
   "metadata": {},
   "outputs": [],
   "source": [
    "grav_lat = gravity_data['latitude_r']\n",
    "grav_long = gravity_data['longitude_']\n",
    "grav_elevation = gravity_data['elevation_']\n",
    "grav_bg_an = gravity_data['bouguer_an']\n",
    "\n",
    "mag_lat = magnetic_data['latitude_r']\n",
    "mag_long = magnetic_data['longitude_']\n",
    "mag_an = magnetic_data['magnetic_a']\n",
    "\n",
    "sed_lat = str_sed_data['latitude']\n",
    "sed_long = str_sed_data['longitude']\n",
    "sed_composition = elements_df"
   ]
  },
  {
   "cell_type": "code",
   "execution_count": 107,
   "id": "2af4dbea-de26-4abc-bc1d-4fe91691a359",
   "metadata": {},
   "outputs": [],
   "source": [
    "elevation_interpolated = griddata((grav_lat, grav_long), grav_elevation, (sed_lat, sed_long), method='linear')\n",
    "bouger_anomaly_interpolated = griddata((grav_lat, grav_long), grav_bg_an, (sed_lat, sed_long), method='linear')\n",
    "magnetic_anomaly_interpolated = griddata((mag_lat, mag_long), mag_an, (sed_lat, sed_long), method='linear')"
   ]
  },
  {
   "cell_type": "code",
   "execution_count": 109,
   "id": "42c03b65-5254-454f-ab55-80ee4d8e972e",
   "metadata": {},
   "outputs": [
    {
     "data": {
      "text/html": [
       "<div>\n",
       "<style scoped>\n",
       "    .dataframe tbody tr th:only-of-type {\n",
       "        vertical-align: middle;\n",
       "    }\n",
       "\n",
       "    .dataframe tbody tr th {\n",
       "        vertical-align: top;\n",
       "    }\n",
       "\n",
       "    .dataframe thead th {\n",
       "        text-align: right;\n",
       "    }\n",
       "</style>\n",
       "<table border=\"1\" class=\"dataframe\">\n",
       "  <thead>\n",
       "    <tr style=\"text-align: right;\">\n",
       "      <th></th>\n",
       "      <th>gid</th>\n",
       "      <th>objectid</th>\n",
       "      <th>sampleno</th>\n",
       "      <th>longitude</th>\n",
       "      <th>latitude</th>\n",
       "      <th>sio2</th>\n",
       "      <th>al2o3</th>\n",
       "      <th>fe2o3</th>\n",
       "      <th>tio2</th>\n",
       "      <th>cao</th>\n",
       "      <th>...</th>\n",
       "      <th>toposheet</th>\n",
       "      <th>in_</th>\n",
       "      <th>f</th>\n",
       "      <th>te</th>\n",
       "      <th>tl</th>\n",
       "      <th>hg</th>\n",
       "      <th>cd</th>\n",
       "      <th>interpolated_elevation</th>\n",
       "      <th>interpolated_bouger_anomaly</th>\n",
       "      <th>interpolated_magnetic_anomaly</th>\n",
       "    </tr>\n",
       "  </thead>\n",
       "  <tbody>\n",
       "    <tr>\n",
       "      <th>0</th>\n",
       "      <td>2947</td>\n",
       "      <td>2947</td>\n",
       "      <td>57F11/177/SS/12</td>\n",
       "      <td>77.657407</td>\n",
       "      <td>14.475225</td>\n",
       "      <td>61.921</td>\n",
       "      <td>14.606</td>\n",
       "      <td>4.51</td>\n",
       "      <td>0.05</td>\n",
       "      <td>2.28</td>\n",
       "      <td>...</td>\n",
       "      <td>57F11</td>\n",
       "      <td>0</td>\n",
       "      <td>0</td>\n",
       "      <td>0</td>\n",
       "      <td>0</td>\n",
       "      <td>8.0</td>\n",
       "      <td>50</td>\n",
       "      <td>374.881622</td>\n",
       "      <td>-89.056606</td>\n",
       "      <td>60.049774</td>\n",
       "    </tr>\n",
       "    <tr>\n",
       "      <th>1</th>\n",
       "      <td>2948</td>\n",
       "      <td>2948</td>\n",
       "      <td>57F11/178/SS/12</td>\n",
       "      <td>77.675926</td>\n",
       "      <td>14.475225</td>\n",
       "      <td>62.077</td>\n",
       "      <td>13.750</td>\n",
       "      <td>4.22</td>\n",
       "      <td>0.05</td>\n",
       "      <td>2.43</td>\n",
       "      <td>...</td>\n",
       "      <td>57F11</td>\n",
       "      <td>0</td>\n",
       "      <td>0</td>\n",
       "      <td>0</td>\n",
       "      <td>0</td>\n",
       "      <td>9.0</td>\n",
       "      <td>50</td>\n",
       "      <td>369.412956</td>\n",
       "      <td>-89.795136</td>\n",
       "      <td>267.924225</td>\n",
       "    </tr>\n",
       "    <tr>\n",
       "      <th>2</th>\n",
       "      <td>2949</td>\n",
       "      <td>2949</td>\n",
       "      <td>57F11/179/SS/12</td>\n",
       "      <td>77.694444</td>\n",
       "      <td>14.475225</td>\n",
       "      <td>68.645</td>\n",
       "      <td>13.410</td>\n",
       "      <td>3.02</td>\n",
       "      <td>0.05</td>\n",
       "      <td>1.32</td>\n",
       "      <td>...</td>\n",
       "      <td>57F11</td>\n",
       "      <td>0</td>\n",
       "      <td>0</td>\n",
       "      <td>0</td>\n",
       "      <td>0</td>\n",
       "      <td>2.5</td>\n",
       "      <td>50</td>\n",
       "      <td>360.583097</td>\n",
       "      <td>-90.236797</td>\n",
       "      <td>3.797230</td>\n",
       "    </tr>\n",
       "    <tr>\n",
       "      <th>3</th>\n",
       "      <td>2950</td>\n",
       "      <td>2950</td>\n",
       "      <td>57F11/180/SS/12</td>\n",
       "      <td>77.712963</td>\n",
       "      <td>14.475225</td>\n",
       "      <td>64.950</td>\n",
       "      <td>14.280</td>\n",
       "      <td>3.46</td>\n",
       "      <td>0.05</td>\n",
       "      <td>1.75</td>\n",
       "      <td>...</td>\n",
       "      <td>57F11</td>\n",
       "      <td>0</td>\n",
       "      <td>0</td>\n",
       "      <td>0</td>\n",
       "      <td>0</td>\n",
       "      <td>19.0</td>\n",
       "      <td>50</td>\n",
       "      <td>355.814941</td>\n",
       "      <td>-90.000000</td>\n",
       "      <td>96.035242</td>\n",
       "    </tr>\n",
       "    <tr>\n",
       "      <th>4</th>\n",
       "      <td>2951</td>\n",
       "      <td>2951</td>\n",
       "      <td>57F11/181/SS/12</td>\n",
       "      <td>77.731481</td>\n",
       "      <td>14.475225</td>\n",
       "      <td>64.302</td>\n",
       "      <td>14.010</td>\n",
       "      <td>4.08</td>\n",
       "      <td>0.05</td>\n",
       "      <td>1.84</td>\n",
       "      <td>...</td>\n",
       "      <td>57F11</td>\n",
       "      <td>0</td>\n",
       "      <td>0</td>\n",
       "      <td>0</td>\n",
       "      <td>0</td>\n",
       "      <td>19.0</td>\n",
       "      <td>50</td>\n",
       "      <td>351.721784</td>\n",
       "      <td>-90.671204</td>\n",
       "      <td>192.970610</td>\n",
       "    </tr>\n",
       "  </tbody>\n",
       "</table>\n",
       "<p>5 rows × 74 columns</p>\n",
       "</div>"
      ],
      "text/plain": [
       "    gid  objectid         sampleno  longitude   latitude    sio2   al2o3  \\\n",
       "0  2947      2947  57F11/177/SS/12  77.657407  14.475225  61.921  14.606   \n",
       "1  2948      2948  57F11/178/SS/12  77.675926  14.475225  62.077  13.750   \n",
       "2  2949      2949  57F11/179/SS/12  77.694444  14.475225  68.645  13.410   \n",
       "3  2950      2950  57F11/180/SS/12  77.712963  14.475225  64.950  14.280   \n",
       "4  2951      2951  57F11/181/SS/12  77.731481  14.475225  64.302  14.010   \n",
       "\n",
       "   fe2o3  tio2   cao  ...  toposheet  in_  f  te  tl    hg  cd  \\\n",
       "0   4.51  0.05  2.28  ...      57F11    0  0   0   0   8.0  50   \n",
       "1   4.22  0.05  2.43  ...      57F11    0  0   0   0   9.0  50   \n",
       "2   3.02  0.05  1.32  ...      57F11    0  0   0   0   2.5  50   \n",
       "3   3.46  0.05  1.75  ...      57F11    0  0   0   0  19.0  50   \n",
       "4   4.08  0.05  1.84  ...      57F11    0  0   0   0  19.0  50   \n",
       "\n",
       "   interpolated_elevation  interpolated_bouger_anomaly  \\\n",
       "0              374.881622                   -89.056606   \n",
       "1              369.412956                   -89.795136   \n",
       "2              360.583097                   -90.236797   \n",
       "3              355.814941                   -90.000000   \n",
       "4              351.721784                   -90.671204   \n",
       "\n",
       "   interpolated_magnetic_anomaly  \n",
       "0                      60.049774  \n",
       "1                     267.924225  \n",
       "2                       3.797230  \n",
       "3                      96.035242  \n",
       "4                     192.970610  \n",
       "\n",
       "[5 rows x 74 columns]"
      ]
     },
     "execution_count": 109,
     "metadata": {},
     "output_type": "execute_result"
    }
   ],
   "source": [
    "str_sed_data['interpolated_elevation'] = elevation_interpolated\n",
    "str_sed_data['interpolated_bouger_anomaly'] = bouger_anomaly_interpolated\n",
    "str_sed_data['interpolated_magnetic_anomaly'] = magnetic_anomaly_interpolated\n",
    "\n",
    "str_sed_data.head()"
   ]
  },
  {
   "cell_type": "code",
   "execution_count": 4,
   "id": "e2e305ea-5191-49a8-9dd0-0dd581cd9582",
   "metadata": {},
   "outputs": [],
   "source": [
    "chemical_data = pd.read_csv(data_path + '/gcm_CR_57f11.csv')"
   ]
  },
  {
   "cell_type": "code",
   "execution_count": 5,
   "id": "dfaca81b-d00b-419b-8e22-a6595e38c855",
   "metadata": {},
   "outputs": [
    {
     "data": {
      "text/html": [
       "<div>\n",
       "<style scoped>\n",
       "    .dataframe tbody tr th:only-of-type {\n",
       "        vertical-align: middle;\n",
       "    }\n",
       "\n",
       "    .dataframe tbody tr th {\n",
       "        vertical-align: top;\n",
       "    }\n",
       "\n",
       "    .dataframe thead th {\n",
       "        text-align: right;\n",
       "    }\n",
       "</style>\n",
       "<table border=\"1\" class=\"dataframe\">\n",
       "  <thead>\n",
       "    <tr style=\"text-align: right;\">\n",
       "      <th></th>\n",
       "      <th>gid</th>\n",
       "      <th>objectid_1</th>\n",
       "      <th>ssampleno</th>\n",
       "      <th>type</th>\n",
       "      <th>longitude</th>\n",
       "      <th>latitude</th>\n",
       "      <th>SiO2</th>\n",
       "      <th>Al2O3</th>\n",
       "      <th>Fe2O3</th>\n",
       "      <th>TiO2</th>\n",
       "      <th>...</th>\n",
       "      <th>Pt</th>\n",
       "      <th>Pd</th>\n",
       "      <th>Soi_No.</th>\n",
       "      <th>F</th>\n",
       "      <th>In</th>\n",
       "      <th>Te</th>\n",
       "      <th>Tl</th>\n",
       "      <th>Cd</th>\n",
       "      <th>Hg</th>\n",
       "      <th>View on Map</th>\n",
       "    </tr>\n",
       "  </thead>\n",
       "  <tbody>\n",
       "    <tr>\n",
       "      <th>0</th>\n",
       "      <td>2277</td>\n",
       "      <td>247676</td>\n",
       "      <td>57F11/A1/R/12</td>\n",
       "      <td>Regolith</td>\n",
       "      <td>77.5417</td>\n",
       "      <td>14.4583</td>\n",
       "      <td>46.35</td>\n",
       "      <td>21.43</td>\n",
       "      <td>12.24</td>\n",
       "      <td>1.15</td>\n",
       "      <td>...</td>\n",
       "      <td>0</td>\n",
       "      <td>0</td>\n",
       "      <td>57F11</td>\n",
       "      <td>0</td>\n",
       "      <td>0</td>\n",
       "      <td>0</td>\n",
       "      <td>0</td>\n",
       "      <td>NaN</td>\n",
       "      <td>NaN</td>\n",
       "      <td>NaN</td>\n",
       "    </tr>\n",
       "    <tr>\n",
       "      <th>1</th>\n",
       "      <td>2278</td>\n",
       "      <td>247677</td>\n",
       "      <td>57F11/A2/R/12</td>\n",
       "      <td>Regolith</td>\n",
       "      <td>77.5417</td>\n",
       "      <td>14.3750</td>\n",
       "      <td>43.29</td>\n",
       "      <td>24.93</td>\n",
       "      <td>15.26</td>\n",
       "      <td>1.06</td>\n",
       "      <td>...</td>\n",
       "      <td>0</td>\n",
       "      <td>0</td>\n",
       "      <td>57F11</td>\n",
       "      <td>0</td>\n",
       "      <td>0</td>\n",
       "      <td>0</td>\n",
       "      <td>0</td>\n",
       "      <td>NaN</td>\n",
       "      <td>NaN</td>\n",
       "      <td>NaN</td>\n",
       "    </tr>\n",
       "    <tr>\n",
       "      <th>2</th>\n",
       "      <td>2279</td>\n",
       "      <td>247678</td>\n",
       "      <td>57F11/A3/R/12</td>\n",
       "      <td>Regolith</td>\n",
       "      <td>77.5417</td>\n",
       "      <td>14.2917</td>\n",
       "      <td>57.83</td>\n",
       "      <td>17.57</td>\n",
       "      <td>5.42</td>\n",
       "      <td>0.79</td>\n",
       "      <td>...</td>\n",
       "      <td>0</td>\n",
       "      <td>0</td>\n",
       "      <td>57F11</td>\n",
       "      <td>0</td>\n",
       "      <td>0</td>\n",
       "      <td>0</td>\n",
       "      <td>0</td>\n",
       "      <td>NaN</td>\n",
       "      <td>NaN</td>\n",
       "      <td>NaN</td>\n",
       "    </tr>\n",
       "    <tr>\n",
       "      <th>3</th>\n",
       "      <td>2280</td>\n",
       "      <td>247679</td>\n",
       "      <td>57F11/A4/R/12</td>\n",
       "      <td>Regolith</td>\n",
       "      <td>77.6250</td>\n",
       "      <td>14.4583</td>\n",
       "      <td>48.06</td>\n",
       "      <td>20.14</td>\n",
       "      <td>10.82</td>\n",
       "      <td>0.56</td>\n",
       "      <td>...</td>\n",
       "      <td>0</td>\n",
       "      <td>0</td>\n",
       "      <td>57F11</td>\n",
       "      <td>0</td>\n",
       "      <td>0</td>\n",
       "      <td>0</td>\n",
       "      <td>0</td>\n",
       "      <td>NaN</td>\n",
       "      <td>NaN</td>\n",
       "      <td>NaN</td>\n",
       "    </tr>\n",
       "    <tr>\n",
       "      <th>4</th>\n",
       "      <td>2281</td>\n",
       "      <td>247680</td>\n",
       "      <td>57F11/A5/R/12</td>\n",
       "      <td>Regolith</td>\n",
       "      <td>77.6250</td>\n",
       "      <td>14.3750</td>\n",
       "      <td>61.78</td>\n",
       "      <td>16.94</td>\n",
       "      <td>5.75</td>\n",
       "      <td>0.71</td>\n",
       "      <td>...</td>\n",
       "      <td>0</td>\n",
       "      <td>0</td>\n",
       "      <td>57F11</td>\n",
       "      <td>0</td>\n",
       "      <td>0</td>\n",
       "      <td>0</td>\n",
       "      <td>0</td>\n",
       "      <td>NaN</td>\n",
       "      <td>NaN</td>\n",
       "      <td>NaN</td>\n",
       "    </tr>\n",
       "  </tbody>\n",
       "</table>\n",
       "<p>5 rows × 73 columns</p>\n",
       "</div>"
      ],
      "text/plain": [
       "    gid  objectid_1      ssampleno      type  longitude  latitude   SiO2  \\\n",
       "0  2277      247676  57F11/A1/R/12  Regolith    77.5417   14.4583  46.35   \n",
       "1  2278      247677  57F11/A2/R/12  Regolith    77.5417   14.3750  43.29   \n",
       "2  2279      247678  57F11/A3/R/12  Regolith    77.5417   14.2917  57.83   \n",
       "3  2280      247679  57F11/A4/R/12  Regolith    77.6250   14.4583  48.06   \n",
       "4  2281      247680  57F11/A5/R/12  Regolith    77.6250   14.3750  61.78   \n",
       "\n",
       "   Al2O3  Fe2O3  TiO2  ...  Pt  Pd  Soi_No.  F  In  Te  Tl  Cd  Hg  \\\n",
       "0  21.43  12.24  1.15  ...   0   0    57F11  0   0   0   0 NaN NaN   \n",
       "1  24.93  15.26  1.06  ...   0   0    57F11  0   0   0   0 NaN NaN   \n",
       "2  17.57   5.42  0.79  ...   0   0    57F11  0   0   0   0 NaN NaN   \n",
       "3  20.14  10.82  0.56  ...   0   0    57F11  0   0   0   0 NaN NaN   \n",
       "4  16.94   5.75  0.71  ...   0   0    57F11  0   0   0   0 NaN NaN   \n",
       "\n",
       "   View on Map  \n",
       "0          NaN  \n",
       "1          NaN  \n",
       "2          NaN  \n",
       "3          NaN  \n",
       "4          NaN  \n",
       "\n",
       "[5 rows x 73 columns]"
      ]
     },
     "execution_count": 5,
     "metadata": {},
     "output_type": "execute_result"
    }
   ],
   "source": [
    "chemical_data.head()"
   ]
  },
  {
   "cell_type": "code",
   "execution_count": 6,
   "id": "c7ec288f-8d9f-4b49-9d3b-23a0eeffdc11",
   "metadata": {},
   "outputs": [
    {
     "name": "stdout",
     "output_type": "stream",
     "text": [
      "Chemical data borehole coordinates - \n",
      "Maximum longitude co-ordinate: 77.7083\n",
      "Minimum longitude co-ordinate: 77.5417\n",
      "Maximum latitude co-ordinate: 14.4583\n",
      "Minimum latitude co-ordinate: 14.2917\n"
     ]
    }
   ],
   "source": [
    "chem_max_long = max(chemical_data['longitude'])\n",
    "chem_min_long = min(chemical_data['longitude'])\n",
    "\n",
    "chem_max_lat = max(chemical_data['latitude'])\n",
    "chem_min_lat = min(chemical_data['latitude'])\n",
    "\n",
    "print(\"Chemical data borehole coordinates - \")\n",
    "\n",
    "print(f\"Maximum longitude co-ordinate: {chem_max_long}\")\n",
    "print(f\"Minimum longitude co-ordinate: {chem_min_long}\")\n",
    "\n",
    "print(f\"Maximum latitude co-ordinate: {chem_max_lat}\")\n",
    "print(f\"Minimum latitude co-ordinate: {chem_min_lat}\")"
   ]
  },
  {
   "cell_type": "code",
   "execution_count": 7,
   "id": "8f4f82a5-3e83-451a-8324-0b32839e69a3",
   "metadata": {},
   "outputs": [
    {
     "name": "stdout",
     "output_type": "stream",
     "text": [
      "Chemical Elements which don't contribute in the composition: ['LOI', 'Au', 'Li', 'Cs', 'As', 'Sb', 'Bi', 'Se', 'Ag', 'Mo', 'Sn', 'w', 'Pt', 'Pd', 'F', 'In', 'Te', 'Tl', 'Cd', 'Hg', 'View on Map']\n"
     ]
    }
   ],
   "source": [
    "chem_elem_rem = []\n",
    "for col in chemical_data.columns:\n",
    "    if (chemical_data[col] == 0).all() or (chemical_data[col].isna()).all():\n",
    "        chem_elem_rem.append(col)\n",
    "        \n",
    "print(f\"Chemical Elements which don't contribute in the composition: {chem_elem_rem}\")"
   ]
  },
  {
   "cell_type": "code",
   "execution_count": 8,
   "id": "3f04bff2-66d0-48e0-b6a2-ff8fcf5a7d90",
   "metadata": {},
   "outputs": [],
   "source": [
    "chemical_data.drop(chem_elem_rem, axis=1, inplace=True)"
   ]
  },
  {
   "cell_type": "code",
   "execution_count": 9,
   "id": "4ef760b1-cf72-4363-b08e-b92f3f511af7",
   "metadata": {},
   "outputs": [
    {
     "name": "stdout",
     "output_type": "stream",
     "text": [
      "<class 'pandas.core.frame.DataFrame'>\n",
      "RangeIndex: 18 entries, 0 to 17\n",
      "Data columns (total 52 columns):\n",
      " #   Column      Non-Null Count  Dtype  \n",
      "---  ------      --------------  -----  \n",
      " 0   gid         18 non-null     int64  \n",
      " 1   objectid_1  18 non-null     int64  \n",
      " 2   ssampleno   18 non-null     object \n",
      " 3   type        18 non-null     object \n",
      " 4   longitude   18 non-null     float64\n",
      " 5   latitude    18 non-null     float64\n",
      " 6   SiO2        18 non-null     float64\n",
      " 7   Al2O3       18 non-null     float64\n",
      " 8   Fe2O3       18 non-null     float64\n",
      " 9   TiO2        18 non-null     float64\n",
      " 10  CaO         18 non-null     float64\n",
      " 11  MgO         18 non-null     float64\n",
      " 12  MnO         18 non-null     float64\n",
      " 13  Na2O        18 non-null     float64\n",
      " 14  K2O         18 non-null     float64\n",
      " 15  P2O5        18 non-null     float64\n",
      " 16  Ba          18 non-null     float64\n",
      " 17  Ga          18 non-null     float64\n",
      " 18  Sc          18 non-null     float64\n",
      " 19  V           18 non-null     float64\n",
      " 20  Th          18 non-null     float64\n",
      " 21  Pb          18 non-null     float64\n",
      " 22  Ni          18 non-null     float64\n",
      " 23  Co          18 non-null     float64\n",
      " 24  Rb          18 non-null     float64\n",
      " 25  Sr          18 non-null     float64\n",
      " 26  Y           18 non-null     float64\n",
      " 27  Zr          18 non-null     float64\n",
      " 28  Nb          18 non-null     float64\n",
      " 29  Cr          18 non-null     float64\n",
      " 30  Cu          18 non-null     float64\n",
      " 31  Zn          18 non-null     float64\n",
      " 32  Be          18 non-null     float64\n",
      " 33  Ge          18 non-null     float64\n",
      " 34  La          18 non-null     float64\n",
      " 35  Ce          18 non-null     float64\n",
      " 36  Pr          18 non-null     float64\n",
      " 37  Nd          18 non-null     float64\n",
      " 38  Sm          18 non-null     float64\n",
      " 39  Eu          18 non-null     float64\n",
      " 40  Tb          18 non-null     float64\n",
      " 41  Gd          18 non-null     float64\n",
      " 42  Dy          18 non-null     float64\n",
      " 43  Ho          18 non-null     float64\n",
      " 44  Er          18 non-null     float64\n",
      " 45  Tm          18 non-null     float64\n",
      " 46  Yb          18 non-null     float64\n",
      " 47  Lu          18 non-null     float64\n",
      " 48  Hf          18 non-null     float64\n",
      " 49  Ta          18 non-null     float64\n",
      " 50  U           18 non-null     float64\n",
      " 51  Soi_No.     18 non-null     object \n",
      "dtypes: float64(47), int64(2), object(3)\n",
      "memory usage: 7.4+ KB\n"
     ]
    }
   ],
   "source": [
    "chemical_data.info()"
   ]
  },
  {
   "cell_type": "markdown",
   "id": "dfb0c008-7496-4141-bfb6-dd1f2175a716",
   "metadata": {},
   "source": [
    "### Normalise the values"
   ]
  },
  {
   "cell_type": "code",
   "execution_count": 10,
   "id": "a9b5b292-b7fd-4f56-b29e-8eadb99f5d03",
   "metadata": {},
   "outputs": [
    {
     "data": {
      "text/html": [
       "<div>\n",
       "<style scoped>\n",
       "    .dataframe tbody tr th:only-of-type {\n",
       "        vertical-align: middle;\n",
       "    }\n",
       "\n",
       "    .dataframe tbody tr th {\n",
       "        vertical-align: top;\n",
       "    }\n",
       "\n",
       "    .dataframe thead th {\n",
       "        text-align: right;\n",
       "    }\n",
       "</style>\n",
       "<table border=\"1\" class=\"dataframe\">\n",
       "  <thead>\n",
       "    <tr style=\"text-align: right;\">\n",
       "      <th></th>\n",
       "      <th>SiO2</th>\n",
       "      <th>Al2O3</th>\n",
       "      <th>Fe2O3</th>\n",
       "      <th>TiO2</th>\n",
       "      <th>CaO</th>\n",
       "      <th>MgO</th>\n",
       "      <th>MnO</th>\n",
       "      <th>Na2O</th>\n",
       "      <th>K2O</th>\n",
       "      <th>P2O5</th>\n",
       "      <th>...</th>\n",
       "      <th>Gd</th>\n",
       "      <th>Dy</th>\n",
       "      <th>Ho</th>\n",
       "      <th>Er</th>\n",
       "      <th>Tm</th>\n",
       "      <th>Yb</th>\n",
       "      <th>Lu</th>\n",
       "      <th>Hf</th>\n",
       "      <th>Ta</th>\n",
       "      <th>U</th>\n",
       "    </tr>\n",
       "  </thead>\n",
       "  <tbody>\n",
       "    <tr>\n",
       "      <th>0</th>\n",
       "      <td>46.35</td>\n",
       "      <td>21.43</td>\n",
       "      <td>12.24</td>\n",
       "      <td>1.15</td>\n",
       "      <td>2.97</td>\n",
       "      <td>1.31</td>\n",
       "      <td>0.17</td>\n",
       "      <td>1.03</td>\n",
       "      <td>0.83</td>\n",
       "      <td>0.09</td>\n",
       "      <td>...</td>\n",
       "      <td>3.89</td>\n",
       "      <td>4.31</td>\n",
       "      <td>0.83</td>\n",
       "      <td>2.32</td>\n",
       "      <td>0.46</td>\n",
       "      <td>2.54</td>\n",
       "      <td>0.46</td>\n",
       "      <td>9.47</td>\n",
       "      <td>0.64</td>\n",
       "      <td>1.82</td>\n",
       "    </tr>\n",
       "    <tr>\n",
       "      <th>1</th>\n",
       "      <td>43.29</td>\n",
       "      <td>24.93</td>\n",
       "      <td>15.26</td>\n",
       "      <td>1.06</td>\n",
       "      <td>2.13</td>\n",
       "      <td>1.40</td>\n",
       "      <td>0.20</td>\n",
       "      <td>0.62</td>\n",
       "      <td>0.58</td>\n",
       "      <td>0.07</td>\n",
       "      <td>...</td>\n",
       "      <td>6.01</td>\n",
       "      <td>5.32</td>\n",
       "      <td>1.06</td>\n",
       "      <td>2.95</td>\n",
       "      <td>0.43</td>\n",
       "      <td>3.15</td>\n",
       "      <td>0.51</td>\n",
       "      <td>5.47</td>\n",
       "      <td>0.69</td>\n",
       "      <td>1.45</td>\n",
       "    </tr>\n",
       "    <tr>\n",
       "      <th>2</th>\n",
       "      <td>57.83</td>\n",
       "      <td>17.57</td>\n",
       "      <td>5.42</td>\n",
       "      <td>0.79</td>\n",
       "      <td>2.26</td>\n",
       "      <td>1.57</td>\n",
       "      <td>0.09</td>\n",
       "      <td>1.55</td>\n",
       "      <td>2.53</td>\n",
       "      <td>0.10</td>\n",
       "      <td>...</td>\n",
       "      <td>0.25</td>\n",
       "      <td>0.17</td>\n",
       "      <td>0.03</td>\n",
       "      <td>0.09</td>\n",
       "      <td>0.01</td>\n",
       "      <td>0.09</td>\n",
       "      <td>0.01</td>\n",
       "      <td>0.10</td>\n",
       "      <td>0.10</td>\n",
       "      <td>0.25</td>\n",
       "    </tr>\n",
       "    <tr>\n",
       "      <th>3</th>\n",
       "      <td>48.06</td>\n",
       "      <td>20.14</td>\n",
       "      <td>10.82</td>\n",
       "      <td>0.56</td>\n",
       "      <td>4.84</td>\n",
       "      <td>2.00</td>\n",
       "      <td>0.17</td>\n",
       "      <td>1.93</td>\n",
       "      <td>0.86</td>\n",
       "      <td>0.19</td>\n",
       "      <td>...</td>\n",
       "      <td>4.10</td>\n",
       "      <td>4.55</td>\n",
       "      <td>0.84</td>\n",
       "      <td>2.49</td>\n",
       "      <td>0.40</td>\n",
       "      <td>2.53</td>\n",
       "      <td>0.45</td>\n",
       "      <td>5.52</td>\n",
       "      <td>0.40</td>\n",
       "      <td>1.15</td>\n",
       "    </tr>\n",
       "    <tr>\n",
       "      <th>4</th>\n",
       "      <td>61.78</td>\n",
       "      <td>16.94</td>\n",
       "      <td>5.75</td>\n",
       "      <td>0.71</td>\n",
       "      <td>2.93</td>\n",
       "      <td>1.08</td>\n",
       "      <td>0.07</td>\n",
       "      <td>2.30</td>\n",
       "      <td>2.34</td>\n",
       "      <td>0.09</td>\n",
       "      <td>...</td>\n",
       "      <td>5.05</td>\n",
       "      <td>3.70</td>\n",
       "      <td>0.71</td>\n",
       "      <td>1.75</td>\n",
       "      <td>0.32</td>\n",
       "      <td>2.04</td>\n",
       "      <td>0.42</td>\n",
       "      <td>18.12</td>\n",
       "      <td>0.66</td>\n",
       "      <td>2.80</td>\n",
       "    </tr>\n",
       "  </tbody>\n",
       "</table>\n",
       "<p>5 rows × 45 columns</p>\n",
       "</div>"
      ],
      "text/plain": [
       "    SiO2  Al2O3  Fe2O3  TiO2   CaO   MgO   MnO  Na2O   K2O  P2O5  ...    Gd  \\\n",
       "0  46.35  21.43  12.24  1.15  2.97  1.31  0.17  1.03  0.83  0.09  ...  3.89   \n",
       "1  43.29  24.93  15.26  1.06  2.13  1.40  0.20  0.62  0.58  0.07  ...  6.01   \n",
       "2  57.83  17.57   5.42  0.79  2.26  1.57  0.09  1.55  2.53  0.10  ...  0.25   \n",
       "3  48.06  20.14  10.82  0.56  4.84  2.00  0.17  1.93  0.86  0.19  ...  4.10   \n",
       "4  61.78  16.94   5.75  0.71  2.93  1.08  0.07  2.30  2.34  0.09  ...  5.05   \n",
       "\n",
       "     Dy    Ho    Er    Tm    Yb    Lu     Hf    Ta     U  \n",
       "0  4.31  0.83  2.32  0.46  2.54  0.46   9.47  0.64  1.82  \n",
       "1  5.32  1.06  2.95  0.43  3.15  0.51   5.47  0.69  1.45  \n",
       "2  0.17  0.03  0.09  0.01  0.09  0.01   0.10  0.10  0.25  \n",
       "3  4.55  0.84  2.49  0.40  2.53  0.45   5.52  0.40  1.15  \n",
       "4  3.70  0.71  1.75  0.32  2.04  0.42  18.12  0.66  2.80  \n",
       "\n",
       "[5 rows x 45 columns]"
      ]
     },
     "execution_count": 10,
     "metadata": {},
     "output_type": "execute_result"
    }
   ],
   "source": [
    "chem_elem_df = chemical_data.drop(['gid', 'objectid_1', 'ssampleno', 'type', 'longitude', 'latitude', 'Soi_No.'], \n",
    "                                  axis=1)\n",
    "chem_elem_df.head()"
   ]
  },
  {
   "cell_type": "code",
   "execution_count": 11,
   "id": "5e42f541-4fab-41f7-933b-92b126a937ac",
   "metadata": {},
   "outputs": [],
   "source": [
    "chem_elem = list(chem_elem_df.columns)"
   ]
  },
  {
   "cell_type": "code",
   "execution_count": 12,
   "id": "d1262c4c-25fd-4e89-9a99-22cd44eeea56",
   "metadata": {},
   "outputs": [
    {
     "data": {
      "text/html": [
       "<div>\n",
       "<style scoped>\n",
       "    .dataframe tbody tr th:only-of-type {\n",
       "        vertical-align: middle;\n",
       "    }\n",
       "\n",
       "    .dataframe tbody tr th {\n",
       "        vertical-align: top;\n",
       "    }\n",
       "\n",
       "    .dataframe thead th {\n",
       "        text-align: right;\n",
       "    }\n",
       "</style>\n",
       "<table border=\"1\" class=\"dataframe\">\n",
       "  <thead>\n",
       "    <tr style=\"text-align: right;\">\n",
       "      <th></th>\n",
       "      <th>Soi_No.</th>\n",
       "      <th>gid</th>\n",
       "      <th>objectid_1</th>\n",
       "      <th>ssampleno</th>\n",
       "      <th>type</th>\n",
       "      <th>longitude</th>\n",
       "      <th>latitude</th>\n",
       "      <th>SiO2</th>\n",
       "      <th>Al2O3</th>\n",
       "      <th>Fe2O3</th>\n",
       "      <th>...</th>\n",
       "      <th>Gd</th>\n",
       "      <th>Dy</th>\n",
       "      <th>Ho</th>\n",
       "      <th>Er</th>\n",
       "      <th>Tm</th>\n",
       "      <th>Yb</th>\n",
       "      <th>Lu</th>\n",
       "      <th>Hf</th>\n",
       "      <th>Ta</th>\n",
       "      <th>U</th>\n",
       "    </tr>\n",
       "  </thead>\n",
       "  <tbody>\n",
       "    <tr>\n",
       "      <th>0</th>\n",
       "      <td>57F11</td>\n",
       "      <td>2277</td>\n",
       "      <td>247676</td>\n",
       "      <td>57F11/A1/R/12</td>\n",
       "      <td>Regolith</td>\n",
       "      <td>-1.224745</td>\n",
       "      <td>1.224745</td>\n",
       "      <td>-0.826984</td>\n",
       "      <td>0.859677</td>\n",
       "      <td>1.215873</td>\n",
       "      <td>...</td>\n",
       "      <td>-0.531422</td>\n",
       "      <td>-0.087044</td>\n",
       "      <td>0.093138</td>\n",
       "      <td>0.111040</td>\n",
       "      <td>0.483560</td>\n",
       "      <td>0.015476</td>\n",
       "      <td>0.271001</td>\n",
       "      <td>-0.012749</td>\n",
       "      <td>-0.412039</td>\n",
       "      <td>-0.295889</td>\n",
       "    </tr>\n",
       "    <tr>\n",
       "      <th>1</th>\n",
       "      <td>57F11</td>\n",
       "      <td>2278</td>\n",
       "      <td>247677</td>\n",
       "      <td>57F11/A2/R/12</td>\n",
       "      <td>Regolith</td>\n",
       "      <td>-1.224745</td>\n",
       "      <td>0.000000</td>\n",
       "      <td>-1.326932</td>\n",
       "      <td>2.134021</td>\n",
       "      <td>2.218830</td>\n",
       "      <td>...</td>\n",
       "      <td>0.138517</td>\n",
       "      <td>0.425080</td>\n",
       "      <td>0.781698</td>\n",
       "      <td>0.799127</td>\n",
       "      <td>0.291558</td>\n",
       "      <td>0.601446</td>\n",
       "      <td>0.568441</td>\n",
       "      <td>-0.608787</td>\n",
       "      <td>-0.353914</td>\n",
       "      <td>-0.534463</td>\n",
       "    </tr>\n",
       "    <tr>\n",
       "      <th>2</th>\n",
       "      <td>57F11</td>\n",
       "      <td>2279</td>\n",
       "      <td>247678</td>\n",
       "      <td>57F11/A3/R/12</td>\n",
       "      <td>Regolith</td>\n",
       "      <td>-1.224745</td>\n",
       "      <td>-1.224745</td>\n",
       "      <td>1.048639</td>\n",
       "      <td>-0.545743</td>\n",
       "      <td>-1.049083</td>\n",
       "      <td>...</td>\n",
       "      <td>-1.681694</td>\n",
       "      <td>-2.186245</td>\n",
       "      <td>-2.301851</td>\n",
       "      <td>-2.324567</td>\n",
       "      <td>-2.396468</td>\n",
       "      <td>-2.338008</td>\n",
       "      <td>-2.405958</td>\n",
       "      <td>-1.408968</td>\n",
       "      <td>-1.039784</td>\n",
       "      <td>-1.308217</td>\n",
       "    </tr>\n",
       "    <tr>\n",
       "      <th>3</th>\n",
       "      <td>57F11</td>\n",
       "      <td>2280</td>\n",
       "      <td>247679</td>\n",
       "      <td>57F11/A4/R/12</td>\n",
       "      <td>Regolith</td>\n",
       "      <td>0.000000</td>\n",
       "      <td>1.224745</td>\n",
       "      <td>-0.547601</td>\n",
       "      <td>0.389990</td>\n",
       "      <td>0.744284</td>\n",
       "      <td>...</td>\n",
       "      <td>-0.465060</td>\n",
       "      <td>0.034649</td>\n",
       "      <td>0.123076</td>\n",
       "      <td>0.296715</td>\n",
       "      <td>0.099557</td>\n",
       "      <td>0.005870</td>\n",
       "      <td>0.211513</td>\n",
       "      <td>-0.601336</td>\n",
       "      <td>-0.691037</td>\n",
       "      <td>-0.727902</td>\n",
       "    </tr>\n",
       "    <tr>\n",
       "      <th>4</th>\n",
       "      <td>57F11</td>\n",
       "      <td>2281</td>\n",
       "      <td>247680</td>\n",
       "      <td>57F11/A5/R/12</td>\n",
       "      <td>Regolith</td>\n",
       "      <td>0.000000</td>\n",
       "      <td>0.000000</td>\n",
       "      <td>1.693997</td>\n",
       "      <td>-0.775125</td>\n",
       "      <td>-0.939488</td>\n",
       "      <td>...</td>\n",
       "      <td>-0.164851</td>\n",
       "      <td>-0.396347</td>\n",
       "      <td>-0.266110</td>\n",
       "      <td>-0.511514</td>\n",
       "      <td>-0.412449</td>\n",
       "      <td>-0.464826</td>\n",
       "      <td>0.033049</td>\n",
       "      <td>1.276184</td>\n",
       "      <td>-0.388789</td>\n",
       "      <td>0.336010</td>\n",
       "    </tr>\n",
       "  </tbody>\n",
       "</table>\n",
       "<p>5 rows × 52 columns</p>\n",
       "</div>"
      ],
      "text/plain": [
       "  Soi_No.   gid  objectid_1      ssampleno      type  longitude  latitude  \\\n",
       "0   57F11  2277      247676  57F11/A1/R/12  Regolith  -1.224745  1.224745   \n",
       "1   57F11  2278      247677  57F11/A2/R/12  Regolith  -1.224745  0.000000   \n",
       "2   57F11  2279      247678  57F11/A3/R/12  Regolith  -1.224745 -1.224745   \n",
       "3   57F11  2280      247679  57F11/A4/R/12  Regolith   0.000000  1.224745   \n",
       "4   57F11  2281      247680  57F11/A5/R/12  Regolith   0.000000  0.000000   \n",
       "\n",
       "       SiO2     Al2O3     Fe2O3  ...        Gd        Dy        Ho        Er  \\\n",
       "0 -0.826984  0.859677  1.215873  ... -0.531422 -0.087044  0.093138  0.111040   \n",
       "1 -1.326932  2.134021  2.218830  ...  0.138517  0.425080  0.781698  0.799127   \n",
       "2  1.048639 -0.545743 -1.049083  ... -1.681694 -2.186245 -2.301851 -2.324567   \n",
       "3 -0.547601  0.389990  0.744284  ... -0.465060  0.034649  0.123076  0.296715   \n",
       "4  1.693997 -0.775125 -0.939488  ... -0.164851 -0.396347 -0.266110 -0.511514   \n",
       "\n",
       "         Tm        Yb        Lu        Hf        Ta         U  \n",
       "0  0.483560  0.015476  0.271001 -0.012749 -0.412039 -0.295889  \n",
       "1  0.291558  0.601446  0.568441 -0.608787 -0.353914 -0.534463  \n",
       "2 -2.396468 -2.338008 -2.405958 -1.408968 -1.039784 -1.308217  \n",
       "3  0.099557  0.005870  0.211513 -0.601336 -0.691037 -0.727902  \n",
       "4 -0.412449 -0.464826  0.033049  1.276184 -0.388789  0.336010  \n",
       "\n",
       "[5 rows x 52 columns]"
      ]
     },
     "execution_count": 12,
     "metadata": {},
     "output_type": "execute_result"
    }
   ],
   "source": [
    "common_columns = chemical_data.columns.intersection(['longitude', 'latitude'] + chem_elem)\n",
    "common_column_indices = [chemical_data.columns.get_loc(col) for col in common_columns]\n",
    "\n",
    "ct = ColumnTransformer(\n",
    "    [('sc', \n",
    "      StandardScaler(), \n",
    "      common_column_indices)],\n",
    "    remainder='drop'\n",
    ")\n",
    "\n",
    "norm_chem_data = ct.fit_transform(chemical_data)\n",
    "\n",
    "non_scaled_cols = chemical_data.columns.difference(common_columns)\n",
    "\n",
    "norm_chem_data_scaled = pd.DataFrame(norm_chem_data, \n",
    "                                     index=chemical_data.index, \n",
    "                                     columns=common_columns)\n",
    "norm_chem_data = pd.concat([chemical_data[non_scaled_cols], \n",
    "                            norm_chem_data_scaled], \n",
    "                           axis=1)\n",
    "norm_chem_data.head()"
   ]
  },
  {
   "cell_type": "markdown",
   "id": "33771bb4-3f09-477e-905c-810c8aae6cca",
   "metadata": {},
   "source": [
    "### Fit PCA on Chemical elements"
   ]
  },
  {
   "cell_type": "code",
   "execution_count": 13,
   "id": "67d97b32-d5f0-4445-9e87-2c580b88f362",
   "metadata": {},
   "outputs": [
    {
     "data": {
      "text/html": [
       "<div>\n",
       "<style scoped>\n",
       "    .dataframe tbody tr th:only-of-type {\n",
       "        vertical-align: middle;\n",
       "    }\n",
       "\n",
       "    .dataframe tbody tr th {\n",
       "        vertical-align: top;\n",
       "    }\n",
       "\n",
       "    .dataframe thead th {\n",
       "        text-align: right;\n",
       "    }\n",
       "</style>\n",
       "<table border=\"1\" class=\"dataframe\">\n",
       "  <thead>\n",
       "    <tr style=\"text-align: right;\">\n",
       "      <th></th>\n",
       "      <th>SiO2</th>\n",
       "      <th>Al2O3</th>\n",
       "      <th>Fe2O3</th>\n",
       "      <th>TiO2</th>\n",
       "      <th>CaO</th>\n",
       "      <th>MgO</th>\n",
       "      <th>MnO</th>\n",
       "      <th>Na2O</th>\n",
       "      <th>K2O</th>\n",
       "      <th>P2O5</th>\n",
       "      <th>...</th>\n",
       "      <th>Gd</th>\n",
       "      <th>Dy</th>\n",
       "      <th>Ho</th>\n",
       "      <th>Er</th>\n",
       "      <th>Tm</th>\n",
       "      <th>Yb</th>\n",
       "      <th>Lu</th>\n",
       "      <th>Hf</th>\n",
       "      <th>Ta</th>\n",
       "      <th>U</th>\n",
       "    </tr>\n",
       "  </thead>\n",
       "  <tbody>\n",
       "    <tr>\n",
       "      <th>0</th>\n",
       "      <td>-0.826984</td>\n",
       "      <td>0.859677</td>\n",
       "      <td>1.215873</td>\n",
       "      <td>0.641729</td>\n",
       "      <td>-0.222692</td>\n",
       "      <td>-0.618625</td>\n",
       "      <td>1.042054</td>\n",
       "      <td>-0.717241</td>\n",
       "      <td>-0.871818</td>\n",
       "      <td>-0.594289</td>\n",
       "      <td>...</td>\n",
       "      <td>-0.531422</td>\n",
       "      <td>-0.087044</td>\n",
       "      <td>0.093138</td>\n",
       "      <td>0.111040</td>\n",
       "      <td>0.483560</td>\n",
       "      <td>0.015476</td>\n",
       "      <td>0.271001</td>\n",
       "      <td>-0.012749</td>\n",
       "      <td>-0.412039</td>\n",
       "      <td>-0.295889</td>\n",
       "    </tr>\n",
       "    <tr>\n",
       "      <th>1</th>\n",
       "      <td>-1.326932</td>\n",
       "      <td>2.134021</td>\n",
       "      <td>2.218830</td>\n",
       "      <td>0.342132</td>\n",
       "      <td>-0.558731</td>\n",
       "      <td>-0.529384</td>\n",
       "      <td>1.647117</td>\n",
       "      <td>-1.501424</td>\n",
       "      <td>-1.183925</td>\n",
       "      <td>-0.794236</td>\n",
       "      <td>...</td>\n",
       "      <td>0.138517</td>\n",
       "      <td>0.425080</td>\n",
       "      <td>0.781698</td>\n",
       "      <td>0.799127</td>\n",
       "      <td>0.291558</td>\n",
       "      <td>0.601446</td>\n",
       "      <td>0.568441</td>\n",
       "      <td>-0.608787</td>\n",
       "      <td>-0.353914</td>\n",
       "      <td>-0.534463</td>\n",
       "    </tr>\n",
       "    <tr>\n",
       "      <th>2</th>\n",
       "      <td>1.048639</td>\n",
       "      <td>-0.545743</td>\n",
       "      <td>-1.049083</td>\n",
       "      <td>-0.556659</td>\n",
       "      <td>-0.506725</td>\n",
       "      <td>-0.360819</td>\n",
       "      <td>-0.571449</td>\n",
       "      <td>0.277333</td>\n",
       "      <td>1.250508</td>\n",
       "      <td>-0.494315</td>\n",
       "      <td>...</td>\n",
       "      <td>-1.681694</td>\n",
       "      <td>-2.186245</td>\n",
       "      <td>-2.301851</td>\n",
       "      <td>-2.324567</td>\n",
       "      <td>-2.396468</td>\n",
       "      <td>-2.338008</td>\n",
       "      <td>-2.405958</td>\n",
       "      <td>-1.408968</td>\n",
       "      <td>-1.039784</td>\n",
       "      <td>-1.308217</td>\n",
       "    </tr>\n",
       "    <tr>\n",
       "      <th>3</th>\n",
       "      <td>-0.547601</td>\n",
       "      <td>0.389990</td>\n",
       "      <td>0.744284</td>\n",
       "      <td>-1.322295</td>\n",
       "      <td>0.525394</td>\n",
       "      <td>0.065553</td>\n",
       "      <td>1.042054</td>\n",
       "      <td>1.004137</td>\n",
       "      <td>-0.834365</td>\n",
       "      <td>0.405449</td>\n",
       "      <td>...</td>\n",
       "      <td>-0.465060</td>\n",
       "      <td>0.034649</td>\n",
       "      <td>0.123076</td>\n",
       "      <td>0.296715</td>\n",
       "      <td>0.099557</td>\n",
       "      <td>0.005870</td>\n",
       "      <td>0.211513</td>\n",
       "      <td>-0.601336</td>\n",
       "      <td>-0.691037</td>\n",
       "      <td>-0.727902</td>\n",
       "    </tr>\n",
       "    <tr>\n",
       "      <th>4</th>\n",
       "      <td>1.693997</td>\n",
       "      <td>-0.775125</td>\n",
       "      <td>-0.939488</td>\n",
       "      <td>-0.822967</td>\n",
       "      <td>-0.238694</td>\n",
       "      <td>-0.846684</td>\n",
       "      <td>-0.974824</td>\n",
       "      <td>1.711815</td>\n",
       "      <td>1.013307</td>\n",
       "      <td>-0.594289</td>\n",
       "      <td>...</td>\n",
       "      <td>-0.164851</td>\n",
       "      <td>-0.396347</td>\n",
       "      <td>-0.266110</td>\n",
       "      <td>-0.511514</td>\n",
       "      <td>-0.412449</td>\n",
       "      <td>-0.464826</td>\n",
       "      <td>0.033049</td>\n",
       "      <td>1.276184</td>\n",
       "      <td>-0.388789</td>\n",
       "      <td>0.336010</td>\n",
       "    </tr>\n",
       "  </tbody>\n",
       "</table>\n",
       "<p>5 rows × 45 columns</p>\n",
       "</div>"
      ],
      "text/plain": [
       "       SiO2     Al2O3     Fe2O3      TiO2       CaO       MgO       MnO  \\\n",
       "0 -0.826984  0.859677  1.215873  0.641729 -0.222692 -0.618625  1.042054   \n",
       "1 -1.326932  2.134021  2.218830  0.342132 -0.558731 -0.529384  1.647117   \n",
       "2  1.048639 -0.545743 -1.049083 -0.556659 -0.506725 -0.360819 -0.571449   \n",
       "3 -0.547601  0.389990  0.744284 -1.322295  0.525394  0.065553  1.042054   \n",
       "4  1.693997 -0.775125 -0.939488 -0.822967 -0.238694 -0.846684 -0.974824   \n",
       "\n",
       "       Na2O       K2O      P2O5  ...        Gd        Dy        Ho        Er  \\\n",
       "0 -0.717241 -0.871818 -0.594289  ... -0.531422 -0.087044  0.093138  0.111040   \n",
       "1 -1.501424 -1.183925 -0.794236  ...  0.138517  0.425080  0.781698  0.799127   \n",
       "2  0.277333  1.250508 -0.494315  ... -1.681694 -2.186245 -2.301851 -2.324567   \n",
       "3  1.004137 -0.834365  0.405449  ... -0.465060  0.034649  0.123076  0.296715   \n",
       "4  1.711815  1.013307 -0.594289  ... -0.164851 -0.396347 -0.266110 -0.511514   \n",
       "\n",
       "         Tm        Yb        Lu        Hf        Ta         U  \n",
       "0  0.483560  0.015476  0.271001 -0.012749 -0.412039 -0.295889  \n",
       "1  0.291558  0.601446  0.568441 -0.608787 -0.353914 -0.534463  \n",
       "2 -2.396468 -2.338008 -2.405958 -1.408968 -1.039784 -1.308217  \n",
       "3  0.099557  0.005870  0.211513 -0.601336 -0.691037 -0.727902  \n",
       "4 -0.412449 -0.464826  0.033049  1.276184 -0.388789  0.336010  \n",
       "\n",
       "[5 rows x 45 columns]"
      ]
     },
     "execution_count": 13,
     "metadata": {},
     "output_type": "execute_result"
    }
   ],
   "source": [
    "chem_elem_df = norm_chem_data[chem_elem]\n",
    "chem_elem_df.head()"
   ]
  },
  {
   "cell_type": "code",
   "execution_count": 14,
   "id": "e09acf6b-786f-4b73-aa4c-3177c2a8e727",
   "metadata": {},
   "outputs": [
    {
     "data": {
      "text/html": [
       "<style>#sk-container-id-1 {color: black;}#sk-container-id-1 pre{padding: 0;}#sk-container-id-1 div.sk-toggleable {background-color: white;}#sk-container-id-1 label.sk-toggleable__label {cursor: pointer;display: block;width: 100%;margin-bottom: 0;padding: 0.3em;box-sizing: border-box;text-align: center;}#sk-container-id-1 label.sk-toggleable__label-arrow:before {content: \"▸\";float: left;margin-right: 0.25em;color: #696969;}#sk-container-id-1 label.sk-toggleable__label-arrow:hover:before {color: black;}#sk-container-id-1 div.sk-estimator:hover label.sk-toggleable__label-arrow:before {color: black;}#sk-container-id-1 div.sk-toggleable__content {max-height: 0;max-width: 0;overflow: hidden;text-align: left;background-color: #f0f8ff;}#sk-container-id-1 div.sk-toggleable__content pre {margin: 0.2em;color: black;border-radius: 0.25em;background-color: #f0f8ff;}#sk-container-id-1 input.sk-toggleable__control:checked~div.sk-toggleable__content {max-height: 200px;max-width: 100%;overflow: auto;}#sk-container-id-1 input.sk-toggleable__control:checked~label.sk-toggleable__label-arrow:before {content: \"▾\";}#sk-container-id-1 div.sk-estimator input.sk-toggleable__control:checked~label.sk-toggleable__label {background-color: #d4ebff;}#sk-container-id-1 div.sk-label input.sk-toggleable__control:checked~label.sk-toggleable__label {background-color: #d4ebff;}#sk-container-id-1 input.sk-hidden--visually {border: 0;clip: rect(1px 1px 1px 1px);clip: rect(1px, 1px, 1px, 1px);height: 1px;margin: -1px;overflow: hidden;padding: 0;position: absolute;width: 1px;}#sk-container-id-1 div.sk-estimator {font-family: monospace;background-color: #f0f8ff;border: 1px dotted black;border-radius: 0.25em;box-sizing: border-box;margin-bottom: 0.5em;}#sk-container-id-1 div.sk-estimator:hover {background-color: #d4ebff;}#sk-container-id-1 div.sk-parallel-item::after {content: \"\";width: 100%;border-bottom: 1px solid gray;flex-grow: 1;}#sk-container-id-1 div.sk-label:hover label.sk-toggleable__label {background-color: #d4ebff;}#sk-container-id-1 div.sk-serial::before {content: \"\";position: absolute;border-left: 1px solid gray;box-sizing: border-box;top: 0;bottom: 0;left: 50%;z-index: 0;}#sk-container-id-1 div.sk-serial {display: flex;flex-direction: column;align-items: center;background-color: white;padding-right: 0.2em;padding-left: 0.2em;position: relative;}#sk-container-id-1 div.sk-item {position: relative;z-index: 1;}#sk-container-id-1 div.sk-parallel {display: flex;align-items: stretch;justify-content: center;background-color: white;position: relative;}#sk-container-id-1 div.sk-item::before, #sk-container-id-1 div.sk-parallel-item::before {content: \"\";position: absolute;border-left: 1px solid gray;box-sizing: border-box;top: 0;bottom: 0;left: 50%;z-index: -1;}#sk-container-id-1 div.sk-parallel-item {display: flex;flex-direction: column;z-index: 1;position: relative;background-color: white;}#sk-container-id-1 div.sk-parallel-item:first-child::after {align-self: flex-end;width: 50%;}#sk-container-id-1 div.sk-parallel-item:last-child::after {align-self: flex-start;width: 50%;}#sk-container-id-1 div.sk-parallel-item:only-child::after {width: 0;}#sk-container-id-1 div.sk-dashed-wrapped {border: 1px dashed gray;margin: 0 0.4em 0.5em 0.4em;box-sizing: border-box;padding-bottom: 0.4em;background-color: white;}#sk-container-id-1 div.sk-label label {font-family: monospace;font-weight: bold;display: inline-block;line-height: 1.2em;}#sk-container-id-1 div.sk-label-container {text-align: center;}#sk-container-id-1 div.sk-container {/* jupyter's `normalize.less` sets `[hidden] { display: none; }` but bootstrap.min.css set `[hidden] { display: none !important; }` so we also need the `!important` here to be able to override the default hidden behavior on the sphinx rendered scikit-learn.org. See: https://github.com/scikit-learn/scikit-learn/issues/21755 */display: inline-block !important;position: relative;}#sk-container-id-1 div.sk-text-repr-fallback {display: none;}</style><div id=\"sk-container-id-1\" class=\"sk-top-container\"><div class=\"sk-text-repr-fallback\"><pre>PCA(n_components=10)</pre><b>In a Jupyter environment, please rerun this cell to show the HTML representation or trust the notebook. <br />On GitHub, the HTML representation is unable to render, please try loading this page with nbviewer.org.</b></div><div class=\"sk-container\" hidden><div class=\"sk-item\"><div class=\"sk-estimator sk-toggleable\"><input class=\"sk-toggleable__control sk-hidden--visually\" id=\"sk-estimator-id-1\" type=\"checkbox\" checked><label for=\"sk-estimator-id-1\" class=\"sk-toggleable__label sk-toggleable__label-arrow\">PCA</label><div class=\"sk-toggleable__content\"><pre>PCA(n_components=10)</pre></div></div></div></div></div>"
      ],
      "text/plain": [
       "PCA(n_components=10)"
      ]
     },
     "execution_count": 14,
     "metadata": {},
     "output_type": "execute_result"
    }
   ],
   "source": [
    "pca = PCA(n_components=10)\n",
    "pca.fit(chem_elem_df)"
   ]
  },
  {
   "cell_type": "code",
   "execution_count": 15,
   "id": "592697d6-322f-497f-86ee-5c85b1bac920",
   "metadata": {},
   "outputs": [
    {
     "name": "stdout",
     "output_type": "stream",
     "text": [
      "Number of components to explain atleast 85.0% of variance: 4\n"
     ]
    }
   ],
   "source": [
    "total_variance = sum(pca.explained_variance_)\n",
    "desired_variance = 0.85\n",
    "cumulative_variance = 0\n",
    "num_comp = 0\n",
    "\n",
    "for explained_variance_ in pca.explained_variance_:\n",
    "    cumulative_variance += explained_variance_\n",
    "    if cumulative_variance / total_variance >= desired_variance:\n",
    "        break\n",
    "    num_comp += 1\n",
    "\n",
    "print(f\"Number of components to explain atleast {desired_variance*100}% of variance: {num_comp}\")"
   ]
  },
  {
   "cell_type": "code",
   "execution_count": 16,
   "id": "fb2ca9de-3949-4778-933e-c3d70b2dfb94",
   "metadata": {},
   "outputs": [
    {
     "data": {
      "text/plain": [
       "array([0.35335841, 0.26597378, 0.13821764, 0.05340244, 0.04430335,\n",
       "       0.03789187, 0.02771916, 0.02266327, 0.01692225, 0.01418154])"
      ]
     },
     "execution_count": 16,
     "metadata": {},
     "output_type": "execute_result"
    }
   ],
   "source": [
    "pca.explained_variance_ratio_"
   ]
  },
  {
   "cell_type": "code",
   "execution_count": 17,
   "id": "beefd927-2c62-4b11-a439-4e70636eb9d0",
   "metadata": {},
   "outputs": [
    {
     "data": {
      "image/png": "[encoded data removed]",
      "text/plain": [
       "<Figure size 640x480 with 1 Axes>"
      ]
     },
     "metadata": {},
     "output_type": "display_data"
    }
   ],
   "source": [
    "plt.plot(range(1, len(pca.explained_variance_ratio_) + 1), \n",
    "         pca.explained_variance_ratio_, \n",
    "         marker='o')\n",
    "plt.xlabel('Number of Components')\n",
    "plt.ylabel('Explained Variance Ratio')\n",
    "plt.title('Explained Variance Ratio')\n",
    "plt.show()"
   ]
  },
  {
   "cell_type": "code",
   "execution_count": 18,
   "id": "b1252022-98d0-4b32-81fd-259491226322",
   "metadata": {},
   "outputs": [
    {
     "data": {
      "image/png": "[encoded data removed]",
      "text/plain": [
       "<Figure size 640x480 with 1 Axes>"
      ]
     },
     "metadata": {},
     "output_type": "display_data"
    }
   ],
   "source": [
    "plt.plot(range(1, len(pca.explained_variance_ratio_) + 1), \n",
    "         np.cumsum(pca.explained_variance_ratio_), \n",
    "         marker='o')\n",
    "plt.xlabel('Number of Components')\n",
    "plt.ylabel('Cumulative Explained Variance Ratio')\n",
    "plt.title('Cumulative Explained Variance Plot')\n",
    "plt.show()"
   ]
  },
  {
   "cell_type": "code",
   "execution_count": 19,
   "id": "e3f3ad30-45de-48a8-812a-7c73abd11438",
   "metadata": {},
   "outputs": [
    {
     "data": {
      "image/png": "[encoded data removed]",
      "text/plain": [
       "<Figure size 1000x600 with 2 Axes>"
      ]
     },
     "metadata": {},
     "output_type": "display_data"
    }
   ],
   "source": [
    "loadings = pca.components_\n",
    "\n",
    "plt.figure(figsize=(10, 6))\n",
    "plt.imshow(loadings, \n",
    "           cmap='viridis', \n",
    "           aspect='auto')\n",
    "plt.colorbar(label='Loading')\n",
    "plt.xlabel('Principal Component')\n",
    "plt.ylabel('Original Feature')\n",
    "plt.title('Element Importance Based on PCA')\n",
    "plt.show()"
   ]
  },
  {
   "cell_type": "code",
   "execution_count": 20,
   "id": "6fbc01a2-4ff8-4ffb-a6c5-ef278ce6d455",
   "metadata": {},
   "outputs": [
    {
     "data": {
      "image/png": "[encoded data removed]",
      "text/plain": [
       "<Figure size 1000x1000 with 4 Axes>"
      ]
     },
     "metadata": {},
     "output_type": "display_data"
    }
   ],
   "source": [
    "num_com_to_plot = 4\n",
    "loadings_to_plot = loadings[:num_com_to_plot]\n",
    "loadings_df = pd.DataFrame(loadings_to_plot, \n",
    "                           columns=chem_elem)\n",
    "\n",
    "# Calculate the maximum absolute value for setting y-axis limits\n",
    "max_pc = 1.01 * np.max(np.abs(loadings_to_plot))\n",
    "\n",
    "# Plot loadings for each principal component\n",
    "fig, axes = plt.subplots(num_com_to_plot, \n",
    "                         1, \n",
    "                         figsize=(10, 10), \n",
    "                         sharex=True)\n",
    "\n",
    "for i, ax in enumerate(axes):\n",
    "    pc_loadings = loadings_df.iloc[i]\n",
    "    colors = ['C0' if l > 0 else 'C1' for l in pc_loadings]\n",
    "    ax.axhline(color='#888888')\n",
    "    pc_loadings.plot.bar(ax=ax, color=colors)\n",
    "    ax.set_ylabel(f'PC{i+1}')\n",
    "    ax.set_ylim(-max_pc, max_pc)\n",
    "\n",
    "plt.tight_layout()\n",
    "plt.show()"
   ]
  },
  {
   "cell_type": "markdown",
   "id": "e863cb8e-15b9-4c3b-9272-852b82684288",
   "metadata": {},
   "source": [
    "### Normalize bore hole ids"
   ]
  },
  {
   "cell_type": "code",
   "execution_count": 21,
   "id": "9d29b996-9c99-476e-9d76-7694e3306bb4",
   "metadata": {},
   "outputs": [
    {
     "data": {
      "text/html": [
       "<div>\n",
       "<style scoped>\n",
       "    .dataframe tbody tr th:only-of-type {\n",
       "        vertical-align: middle;\n",
       "    }\n",
       "\n",
       "    .dataframe tbody tr th {\n",
       "        vertical-align: top;\n",
       "    }\n",
       "\n",
       "    .dataframe thead th {\n",
       "        text-align: right;\n",
       "    }\n",
       "</style>\n",
       "<table border=\"1\" class=\"dataframe\">\n",
       "  <thead>\n",
       "    <tr style=\"text-align: right;\">\n",
       "      <th></th>\n",
       "      <th>Soi_No.</th>\n",
       "      <th>gid</th>\n",
       "      <th>objectid_1</th>\n",
       "      <th>ssampleno</th>\n",
       "      <th>type</th>\n",
       "      <th>longitude</th>\n",
       "      <th>latitude</th>\n",
       "      <th>SiO2</th>\n",
       "      <th>Al2O3</th>\n",
       "      <th>Fe2O3</th>\n",
       "      <th>...</th>\n",
       "      <th>Gd</th>\n",
       "      <th>Dy</th>\n",
       "      <th>Ho</th>\n",
       "      <th>Er</th>\n",
       "      <th>Tm</th>\n",
       "      <th>Yb</th>\n",
       "      <th>Lu</th>\n",
       "      <th>Hf</th>\n",
       "      <th>Ta</th>\n",
       "      <th>U</th>\n",
       "    </tr>\n",
       "  </thead>\n",
       "  <tbody>\n",
       "    <tr>\n",
       "      <th>0</th>\n",
       "      <td>57F11</td>\n",
       "      <td>0.246877</td>\n",
       "      <td>247676</td>\n",
       "      <td>57F11/A1/R/12</td>\n",
       "      <td>Regolith</td>\n",
       "      <td>-1.224745</td>\n",
       "      <td>1.224745</td>\n",
       "      <td>-0.826984</td>\n",
       "      <td>0.859677</td>\n",
       "      <td>1.215873</td>\n",
       "      <td>...</td>\n",
       "      <td>-0.531422</td>\n",
       "      <td>-0.087044</td>\n",
       "      <td>0.093138</td>\n",
       "      <td>0.111040</td>\n",
       "      <td>0.483560</td>\n",
       "      <td>0.015476</td>\n",
       "      <td>0.271001</td>\n",
       "      <td>-0.012749</td>\n",
       "      <td>-0.412039</td>\n",
       "      <td>-0.295889</td>\n",
       "    </tr>\n",
       "    <tr>\n",
       "      <th>1</th>\n",
       "      <td>57F11</td>\n",
       "      <td>0.411461</td>\n",
       "      <td>247677</td>\n",
       "      <td>57F11/A2/R/12</td>\n",
       "      <td>Regolith</td>\n",
       "      <td>-1.224745</td>\n",
       "      <td>0.000000</td>\n",
       "      <td>-1.326932</td>\n",
       "      <td>2.134021</td>\n",
       "      <td>2.218830</td>\n",
       "      <td>...</td>\n",
       "      <td>0.138517</td>\n",
       "      <td>0.425080</td>\n",
       "      <td>0.781698</td>\n",
       "      <td>0.799127</td>\n",
       "      <td>0.291558</td>\n",
       "      <td>0.601446</td>\n",
       "      <td>0.568441</td>\n",
       "      <td>-0.608787</td>\n",
       "      <td>-0.353914</td>\n",
       "      <td>-0.534463</td>\n",
       "    </tr>\n",
       "    <tr>\n",
       "      <th>2</th>\n",
       "      <td>57F11</td>\n",
       "      <td>0.576046</td>\n",
       "      <td>247678</td>\n",
       "      <td>57F11/A3/R/12</td>\n",
       "      <td>Regolith</td>\n",
       "      <td>-1.224745</td>\n",
       "      <td>-1.224745</td>\n",
       "      <td>1.048639</td>\n",
       "      <td>-0.545743</td>\n",
       "      <td>-1.049083</td>\n",
       "      <td>...</td>\n",
       "      <td>-1.681694</td>\n",
       "      <td>-2.186245</td>\n",
       "      <td>-2.301851</td>\n",
       "      <td>-2.324567</td>\n",
       "      <td>-2.396468</td>\n",
       "      <td>-2.338008</td>\n",
       "      <td>-2.405958</td>\n",
       "      <td>-1.408968</td>\n",
       "      <td>-1.039784</td>\n",
       "      <td>-1.308217</td>\n",
       "    </tr>\n",
       "    <tr>\n",
       "      <th>3</th>\n",
       "      <td>57F11</td>\n",
       "      <td>0.740630</td>\n",
       "      <td>247679</td>\n",
       "      <td>57F11/A4/R/12</td>\n",
       "      <td>Regolith</td>\n",
       "      <td>0.000000</td>\n",
       "      <td>1.224745</td>\n",
       "      <td>-0.547601</td>\n",
       "      <td>0.389990</td>\n",
       "      <td>0.744284</td>\n",
       "      <td>...</td>\n",
       "      <td>-0.465060</td>\n",
       "      <td>0.034649</td>\n",
       "      <td>0.123076</td>\n",
       "      <td>0.296715</td>\n",
       "      <td>0.099557</td>\n",
       "      <td>0.005870</td>\n",
       "      <td>0.211513</td>\n",
       "      <td>-0.601336</td>\n",
       "      <td>-0.691037</td>\n",
       "      <td>-0.727902</td>\n",
       "    </tr>\n",
       "    <tr>\n",
       "      <th>4</th>\n",
       "      <td>57F11</td>\n",
       "      <td>0.905214</td>\n",
       "      <td>247680</td>\n",
       "      <td>57F11/A5/R/12</td>\n",
       "      <td>Regolith</td>\n",
       "      <td>0.000000</td>\n",
       "      <td>0.000000</td>\n",
       "      <td>1.693997</td>\n",
       "      <td>-0.775125</td>\n",
       "      <td>-0.939488</td>\n",
       "      <td>...</td>\n",
       "      <td>-0.164851</td>\n",
       "      <td>-0.396347</td>\n",
       "      <td>-0.266110</td>\n",
       "      <td>-0.511514</td>\n",
       "      <td>-0.412449</td>\n",
       "      <td>-0.464826</td>\n",
       "      <td>0.033049</td>\n",
       "      <td>1.276184</td>\n",
       "      <td>-0.388789</td>\n",
       "      <td>0.336010</td>\n",
       "    </tr>\n",
       "  </tbody>\n",
       "</table>\n",
       "<p>5 rows × 52 columns</p>\n",
       "</div>"
      ],
      "text/plain": [
       "  Soi_No.       gid  objectid_1      ssampleno      type  longitude  latitude  \\\n",
       "0   57F11  0.246877      247676  57F11/A1/R/12  Regolith  -1.224745  1.224745   \n",
       "1   57F11  0.411461      247677  57F11/A2/R/12  Regolith  -1.224745  0.000000   \n",
       "2   57F11  0.576046      247678  57F11/A3/R/12  Regolith  -1.224745 -1.224745   \n",
       "3   57F11  0.740630      247679  57F11/A4/R/12  Regolith   0.000000  1.224745   \n",
       "4   57F11  0.905214      247680  57F11/A5/R/12  Regolith   0.000000  0.000000   \n",
       "\n",
       "       SiO2     Al2O3     Fe2O3  ...        Gd        Dy        Ho        Er  \\\n",
       "0 -0.826984  0.859677  1.215873  ... -0.531422 -0.087044  0.093138  0.111040   \n",
       "1 -1.326932  2.134021  2.218830  ...  0.138517  0.425080  0.781698  0.799127   \n",
       "2  1.048639 -0.545743 -1.049083  ... -1.681694 -2.186245 -2.301851 -2.324567   \n",
       "3 -0.547601  0.389990  0.744284  ... -0.465060  0.034649  0.123076  0.296715   \n",
       "4  1.693997 -0.775125 -0.939488  ... -0.164851 -0.396347 -0.266110 -0.511514   \n",
       "\n",
       "         Tm        Yb        Lu        Hf        Ta         U  \n",
       "0  0.483560  0.015476  0.271001 -0.012749 -0.412039 -0.295889  \n",
       "1  0.291558  0.601446  0.568441 -0.608787 -0.353914 -0.534463  \n",
       "2 -2.396468 -2.338008 -2.405958 -1.408968 -1.039784 -1.308217  \n",
       "3  0.099557  0.005870  0.211513 -0.601336 -0.691037 -0.727902  \n",
       "4 -0.412449 -0.464826  0.033049  1.276184 -0.388789  0.336010  \n",
       "\n",
       "[5 rows x 52 columns]"
      ]
     },
     "execution_count": 21,
     "metadata": {},
     "output_type": "execute_result"
    }
   ],
   "source": [
    "sc = StandardScaler()\n",
    "norm_chem_data['gid'] = sc.fit_transform(norm_chem_data[['gid']])\n",
    "norm_chem_data.head()"
   ]
  },
  {
   "cell_type": "markdown",
   "id": "c5dd245f-57f2-401f-8bea-448b93f9c7f0",
   "metadata": {},
   "source": [
    "### Fit and Transform using PCA on elements"
   ]
  },
  {
   "cell_type": "code",
   "execution_count": 22,
   "id": "93cef9bf-6482-4cbd-9d86-d90646b4a55d",
   "metadata": {
    "scrolled": true
   },
   "outputs": [],
   "source": [
    "pca = PCA(n_components=4)\n",
    "pca_elem = pca.fit_transform(chem_elem_df)"
   ]
  },
  {
   "cell_type": "code",
   "execution_count": 23,
   "id": "2489e69f-2a8f-4960-8308-150dca5bef41",
   "metadata": {},
   "outputs": [
    {
     "data": {
      "text/plain": [
       "(18, 4)"
      ]
     },
     "execution_count": 23,
     "metadata": {},
     "output_type": "execute_result"
    }
   ],
   "source": [
    "pca_elem.shape"
   ]
  },
  {
   "cell_type": "code",
   "execution_count": 24,
   "id": "4183baf9-bd28-4d74-9157-4cb551745987",
   "metadata": {},
   "outputs": [
    {
     "data": {
      "text/plain": [
       "(18, 45)"
      ]
     },
     "execution_count": 24,
     "metadata": {},
     "output_type": "execute_result"
    }
   ],
   "source": [
    "chem_elem_df.shape"
   ]
  },
  {
   "cell_type": "code",
   "execution_count": 25,
   "id": "249f822c-ec51-41f3-8ff3-62e17ff6a00f",
   "metadata": {},
   "outputs": [
    {
     "data": {
      "text/html": [
       "<div>\n",
       "<style scoped>\n",
       "    .dataframe tbody tr th:only-of-type {\n",
       "        vertical-align: middle;\n",
       "    }\n",
       "\n",
       "    .dataframe tbody tr th {\n",
       "        vertical-align: top;\n",
       "    }\n",
       "\n",
       "    .dataframe thead th {\n",
       "        text-align: right;\n",
       "    }\n",
       "</style>\n",
       "<table border=\"1\" class=\"dataframe\">\n",
       "  <thead>\n",
       "    <tr style=\"text-align: right;\">\n",
       "      <th></th>\n",
       "      <th>gid</th>\n",
       "      <th>longitude</th>\n",
       "      <th>latitude</th>\n",
       "      <th>PC1</th>\n",
       "      <th>PC2</th>\n",
       "      <th>PC3</th>\n",
       "      <th>PC4</th>\n",
       "    </tr>\n",
       "  </thead>\n",
       "  <tbody>\n",
       "    <tr>\n",
       "      <th>0</th>\n",
       "      <td>0.246877</td>\n",
       "      <td>-1.224745</td>\n",
       "      <td>1.224745</td>\n",
       "      <td>-1.974116</td>\n",
       "      <td>3.530303</td>\n",
       "      <td>-0.929878</td>\n",
       "      <td>1.563817</td>\n",
       "    </tr>\n",
       "    <tr>\n",
       "      <th>1</th>\n",
       "      <td>0.411461</td>\n",
       "      <td>-1.224745</td>\n",
       "      <td>0.000000</td>\n",
       "      <td>-0.942266</td>\n",
       "      <td>6.232880</td>\n",
       "      <td>-1.843167</td>\n",
       "      <td>0.875909</td>\n",
       "    </tr>\n",
       "    <tr>\n",
       "      <th>2</th>\n",
       "      <td>0.576046</td>\n",
       "      <td>-1.224745</td>\n",
       "      <td>-1.224745</td>\n",
       "      <td>-6.240342</td>\n",
       "      <td>-5.008043</td>\n",
       "      <td>1.889190</td>\n",
       "      <td>0.979673</td>\n",
       "    </tr>\n",
       "    <tr>\n",
       "      <th>3</th>\n",
       "      <td>0.740630</td>\n",
       "      <td>0.000000</td>\n",
       "      <td>1.224745</td>\n",
       "      <td>-1.461596</td>\n",
       "      <td>2.272279</td>\n",
       "      <td>0.672005</td>\n",
       "      <td>2.222921</td>\n",
       "    </tr>\n",
       "    <tr>\n",
       "      <th>4</th>\n",
       "      <td>0.905214</td>\n",
       "      <td>0.000000</td>\n",
       "      <td>0.000000</td>\n",
       "      <td>-0.855855</td>\n",
       "      <td>-3.735379</td>\n",
       "      <td>-1.300661</td>\n",
       "      <td>0.710733</td>\n",
       "    </tr>\n",
       "  </tbody>\n",
       "</table>\n",
       "</div>"
      ],
      "text/plain": [
       "        gid  longitude  latitude       PC1       PC2       PC3       PC4\n",
       "0  0.246877  -1.224745  1.224745 -1.974116  3.530303 -0.929878  1.563817\n",
       "1  0.411461  -1.224745  0.000000 -0.942266  6.232880 -1.843167  0.875909\n",
       "2  0.576046  -1.224745 -1.224745 -6.240342 -5.008043  1.889190  0.979673\n",
       "3  0.740630   0.000000  1.224745 -1.461596  2.272279  0.672005  2.222921\n",
       "4  0.905214   0.000000  0.000000 -0.855855 -3.735379 -1.300661  0.710733"
      ]
     },
     "execution_count": 25,
     "metadata": {},
     "output_type": "execute_result"
    }
   ],
   "source": [
    "pca_chem_df = pd.concat([norm_chem_data[['gid', 'longitude', 'latitude']], \n",
    "                         pd.DataFrame(pca_elem, columns=['PC1', 'PC2', 'PC3', 'PC4'])], \n",
    "                        axis=1)\n",
    "pca_chem_df.head()"
   ]
  },
  {
   "cell_type": "markdown",
   "id": "2b495456-5201-41c6-9cb0-71a1aeaefe38",
   "metadata": {},
   "source": [
    "### KMeans Clustering"
   ]
  },
  {
   "cell_type": "markdown",
   "id": "5f0a1619-1db6-43be-942c-ac4b0dae8ebb",
   "metadata": {},
   "source": [
    "#### Finding the right K"
   ]
  },
  {
   "cell_type": "code",
   "execution_count": 26,
   "id": "bb48a3b0-4053-40ac-963e-6b823c90f791",
   "metadata": {},
   "outputs": [
    {
     "data": {
      "image/png": "[encoded data removed]",
      "text/plain": [
       "<Figure size 700x500 with 1 Axes>"
      ]
     },
     "metadata": {},
     "output_type": "display_data"
    }
   ],
   "source": [
    "inertia = []                                     ## Sum-of-squared distances\n",
    "for k in range(1, 10):\n",
    "    km = KMeans(\n",
    "        n_clusters=k, init='random',\n",
    "        n_init=10, max_iter=300, \n",
    "        tol=1e-03, random_state=0\n",
    "    )\n",
    "    km.fit_predict(pca_chem_df[['PC1', 'PC2']])\n",
    "    inertia.append(km.inertia_)\n",
    "\n",
    "plt.figure(figsize=(7,5))\n",
    "plt.plot(range(1, 10), \n",
    "         inertia, \n",
    "         'bo-')\n",
    "plt.xlabel('Values of K')\n",
    "plt.ylabel('Inertia')\n",
    "plt.title('The elbow method using inertia')\n",
    "plt.show()"
   ]
  },
  {
   "cell_type": "code",
   "execution_count": 27,
   "id": "c86744cf-de3f-4bf0-a5ab-2ce44be5aaa4",
   "metadata": {},
   "outputs": [],
   "source": [
    "km = KMeans(\n",
    "    n_clusters=3, init='random',\n",
    "    n_init=10, max_iter=300, \n",
    "    tol=1e-03, random_state=0\n",
    ")\n",
    "y_km = km.fit_predict(pca_chem_df[['PC1', 'PC2', 'PC3', 'PC4']])"
   ]
  },
  {
   "cell_type": "code",
   "execution_count": 28,
   "id": "e27274e5-7d33-4169-9e9c-90f778b9dcd0",
   "metadata": {},
   "outputs": [],
   "source": [
    "clustered_data = pd.concat([chemical_data[['gid', 'longitude', 'latitude']], \n",
    "                            pd.DataFrame(y_km, columns=['clusters'])], \n",
    "                           axis=1)"
   ]
  },
  {
   "cell_type": "code",
   "execution_count": 29,
   "id": "9936e886-1c82-472d-8ee9-0f752bdd9009",
   "metadata": {},
   "outputs": [],
   "source": [
    "fig = px.scatter_mapbox(clustered_data, lat=\"latitude\", lon=\"longitude\", hover_data=[\"gid\", \"clusters\"],\n",
    "                        color=\"clusters\", zoom=5, height=600, title=\"Clustered Bore Holes\",\n",
    "                        color_continuous_scale=px.colors.cyclical.IceFire, opacity=0.7)\n",
    "fig.update_layout(mapbox_style=\"open-street-map\")\n",
    "fig.update_layout(margin={\"r\":0,\"t\":0,\"l\":0,\"b\":0})\n",
    "fig.show(renderer='browser')"
   ]
  },
  {
   "cell_type": "code",
   "execution_count": 30,
   "id": "08d98ee5-ca20-43ad-bd35-ace95539f331",
   "metadata": {},
   "outputs": [
    {
     "name": "stdout",
     "output_type": "stream",
     "text": [
      "Min latitude: 14.2417\tMax latitude: 14.5083\n",
      "Min longitude: 77.4917\tMax longitude: 77.7583\n"
     ]
    }
   ],
   "source": [
    "min_lat_limit = chem_min_lat - 0.05\n",
    "max_lat_limit = chem_max_lat + 0.05\n",
    "min_long_limit = chem_min_long - 0.05 \n",
    "max_long_limit = chem_max_long + 0.05\n",
    "\n",
    "print(f'Min latitude: {np.round(min_lat_limit, 4)}\\tMax latitude: {np.round(max_lat_limit, 4)}')\n",
    "print(f'Min longitude: {np.round(min_long_limit, 4)}\\tMax longitude: {np.round(max_long_limit, 4)}')"
   ]
  },
  {
   "cell_type": "code",
   "execution_count": 31,
   "id": "1116adfa-99d1-4295-8321-9050d9644b2c",
   "metadata": {},
   "outputs": [],
   "source": [
    "# Create a list to store individual figure objects\n",
    "fig_list = []\n",
    "\n",
    "# Loop through each cluster\n",
    "for cluster_id in clustered_data['clusters'].unique():\n",
    "    # Filter data for the current cluster\n",
    "    cluster_data = clustered_data[clustered_data['clusters'] == cluster_id]\n",
    "\n",
    "    hover_text = [f'Bore hole ID: {gid}<br>Latitude: {lat}<br>Longitude: {lon}' \n",
    "                  for gid, lat, lon in zip(cluster_data['gid'], \n",
    "                                           cluster_data['latitude'], \n",
    "                                           cluster_data['longitude'])]\n",
    "    \n",
    "    # Create a scatter mapbox trace\n",
    "    trace = go.Scattermapbox(\n",
    "        lat=cluster_data['latitude'],\n",
    "        lon=cluster_data['longitude'],\n",
    "        mode='markers',\n",
    "        marker=dict(\n",
    "            size=10,\n",
    "            color='blue',  # You can assign different colors for each cluster\n",
    "            opacity=0.8\n",
    "        ),\n",
    "        text=hover_text,  # Text to be displayed on hover\n",
    "        hoverinfo='text'  # Display bore hole id, latitude and longitude text on hover\n",
    "    )\n",
    "    \n",
    "    # Create layout for the map\n",
    "    layout = go.Layout(\n",
    "        title=f'Cluster {cluster_id+1}',\n",
    "        hovermode='closest',\n",
    "        mapbox=dict(\n",
    "            style='open-street-map',  # You can choose different map styles\n",
    "            center=dict(\n",
    "                lat=cluster_data['latitude'].mean(),  # Set the map center to the mean of latitudes\n",
    "                lon=cluster_data['longitude'].mean()  # Set the map center to the mean of longitudes\n",
    "            ),\n",
    "            zoom=10, \n",
    "            bounds=dict(\n",
    "                south=min_lat_limit,\n",
    "                north=max_lat_limit,\n",
    "                west=min_long_limit,\n",
    "                east=max_long_limit\n",
    "            )\n",
    "        )\n",
    "    )\n",
    "    \n",
    "    # Create figure object and add trace and layout\n",
    "    fig = go.Figure(data=trace, layout=layout)\n",
    "\n",
    "    fig.update_layout(\n",
    "        autosize=False,\n",
    "        width=700,\n",
    "        height=700,\n",
    "    )\n",
    "    \n",
    "    # Append the figure to the list\n",
    "    fig_list.append(fig)\n",
    "\n",
    "# Display each figure\n",
    "for fig in fig_list:\n",
    "    fig.show(renderer='browser')"
   ]
  },
  {
   "cell_type": "code",
   "execution_count": 60,
   "id": "e8347732-50be-49ec-a8d7-dc2489b2a9f7",
   "metadata": {},
   "outputs": [
    {
     "data": {
      "application/vnd.plotly.v1+json": {
       "config": {
        "plotlyServerURL": "https://plot.ly"
       },
       "data": [
        {
         "hoverinfo": "text",
         "lat": [
          14.4583,
          14.375,
          14.2917,
          14.4583,
          14.375,
          14.2917,
          14.4583,
          14.375,
          14.2917,
          14.4583,
          14.375,
          14.2917,
          14.4583,
          14.375,
          14.2917,
          14.4583,
          14.375,
          14.2917
         ],
         "lon": [
          77.5417,
          77.5417,
          77.5417,
          77.625,
          77.625,
          77.625,
          77.7083,
          77.7083,
          77.7083,
          77.5417,
          77.5417,
          77.5417,
          77.625,
          77.625,
          77.625,
          77.7083,
          77.7083,
          77.7083
         ],
         "marker": {
          "color": "blue",
          "opacity": 0.8,
          "size": 10
         },
         "mode": "markers",
         "text": [
          "Latitude: 14.4583<br>Longitude: 77.5417<br>GID: 2277, 2266",
          "Latitude: 14.375<br>Longitude: 77.5417<br>GID: 2278, 2267",
          "Latitude: 14.2917<br>Longitude: 77.5417<br>GID: 2279, 2268",
          "Latitude: 14.4583<br>Longitude: 77.625<br>GID: 2280, 2269",
          "Latitude: 14.375<br>Longitude: 77.625<br>GID: 2281, 2270",
          "Latitude: 14.2917<br>Longitude: 77.625<br>GID: 2282, 2271",
          "Latitude: 14.4583<br>Longitude: 77.7083<br>GID: 2283, 2272",
          "Latitude: 14.375<br>Longitude: 77.7083<br>GID: 2284, 2273",
          "Latitude: 14.2917<br>Longitude: 77.7083<br>GID: 2285, 2274",
          "Latitude: 14.4583<br>Longitude: 77.5417<br>GID: 2277, 2266",
          "Latitude: 14.375<br>Longitude: 77.5417<br>GID: 2278, 2267",
          "Latitude: 14.2917<br>Longitude: 77.5417<br>GID: 2279, 2268",
          "Latitude: 14.4583<br>Longitude: 77.625<br>GID: 2280, 2269",
          "Latitude: 14.375<br>Longitude: 77.625<br>GID: 2281, 2270",
          "Latitude: 14.2917<br>Longitude: 77.625<br>GID: 2282, 2271",
          "Latitude: 14.4583<br>Longitude: 77.7083<br>GID: 2283, 2272",
          "Latitude: 14.375<br>Longitude: 77.7083<br>GID: 2284, 2273",
          "Latitude: 14.2917<br>Longitude: 77.7083<br>GID: 2285, 2274"
         ],
         "type": "scattermapbox"
        }
       ],
       "layout": {
        "autosize": false,
        "height": 700,
        "hovermode": "closest",
        "mapbox": {
         "bearing": 0,
         "bounds": {
          "east": 77.75829999999999,
          "north": 14.5083,
          "south": 14.2417,
          "west": 77.49170000000001
         },
         "center": {
          "lat": 14.375103894854234,
          "lon": 77.625
         },
         "pitch": 0,
         "style": "open-street-map",
         "zoom": 10.47592000784141
        },
        "template": {
         "data": {
          "bar": [
           {
            "error_x": {
             "color": "#2a3f5f"
            },
            "error_y": {
             "color": "#2a3f5f"
            },
            "marker": {
             "line": {
              "color": "#E5ECF6",
              "width": 0.5
             },
             "pattern": {
              "fillmode": "overlay",
              "size": 10,
              "solidity": 0.2
             }
            },
            "type": "bar"
           }
          ],
          "barpolar": [
           {
            "marker": {
             "line": {
              "color": "#E5ECF6",
              "width": 0.5
             },
             "pattern": {
              "fillmode": "overlay",
              "size": 10,
              "solidity": 0.2
             }
            },
            "type": "barpolar"
           }
          ],
          "carpet": [
           {
            "aaxis": {
             "endlinecolor": "#2a3f5f",
             "gridcolor": "white",
             "linecolor": "white",
             "minorgridcolor": "white",
             "startlinecolor": "#2a3f5f"
            },
            "baxis": {
             "endlinecolor": "#2a3f5f",
             "gridcolor": "white",
             "linecolor": "white",
             "minorgridcolor": "white",
             "startlinecolor": "#2a3f5f"
            },
            "type": "carpet"
           }
          ],
          "choropleth": [
           {
            "colorbar": {
             "outlinewidth": 0,
             "ticks": ""
            },
            "type": "choropleth"
           }
          ],
          "contour": [
           {
            "colorbar": {
             "outlinewidth": 0,
             "ticks": ""
            },
            "colorscale": [
             [
              0,
              "#0d0887"
             ],
             [
              0.1111111111111111,
              "#46039f"
             ],
             [
              0.2222222222222222,
              "#7201a8"
             ],
             [
              0.3333333333333333,
              "#9c179e"
             ],
             [
              0.4444444444444444,
              "#bd3786"
             ],
             [
              0.5555555555555556,
              "#d8576b"
             ],
             [
              0.6666666666666666,
              "#ed7953"
             ],
             [
              0.7777777777777778,
              "#fb9f3a"
             ],
             [
              0.8888888888888888,
              "#fdca26"
             ],
             [
              1,
              "#f0f921"
             ]
            ],
            "type": "contour"
           }
          ],
          "contourcarpet": [
           {
            "colorbar": {
             "outlinewidth": 0,
             "ticks": ""
            },
            "type": "contourcarpet"
           }
          ],
          "heatmap": [
           {
            "colorbar": {
             "outlinewidth": 0,
             "ticks": ""
            },
            "colorscale": [
             [
              0,
              "#0d0887"
             ],
             [
              0.1111111111111111,
              "#46039f"
             ],
             [
              0.2222222222222222,
              "#7201a8"
             ],
             [
              0.3333333333333333,
              "#9c179e"
             ],
             [
              0.4444444444444444,
              "#bd3786"
             ],
             [
              0.5555555555555556,
              "#d8576b"
             ],
             [
              0.6666666666666666,
              "#ed7953"
             ],
             [
              0.7777777777777778,
              "#fb9f3a"
             ],
             [
              0.8888888888888888,
              "#fdca26"
             ],
             [
              1,
              "#f0f921"
             ]
            ],
            "type": "heatmap"
           }
          ],
          "heatmapgl": [
           {
            "colorbar": {
             "outlinewidth": 0,
             "ticks": ""
            },
            "colorscale": [
             [
              0,
              "#0d0887"
             ],
             [
              0.1111111111111111,
              "#46039f"
             ],
             [
              0.2222222222222222,
              "#7201a8"
             ],
             [
              0.3333333333333333,
              "#9c179e"
             ],
             [
              0.4444444444444444,
              "#bd3786"
             ],
             [
              0.5555555555555556,
              "#d8576b"
             ],
             [
              0.6666666666666666,
              "#ed7953"
             ],
             [
              0.7777777777777778,
              "#fb9f3a"
             ],
             [
              0.8888888888888888,
              "#fdca26"
             ],
             [
              1,
              "#f0f921"
             ]
            ],
            "type": "heatmapgl"
           }
          ],
          "histogram": [
           {
            "marker": {
             "pattern": {
              "fillmode": "overlay",
              "size": 10,
              "solidity": 0.2
             }
            },
            "type": "histogram"
           }
          ],
          "histogram2d": [
           {
            "colorbar": {
             "outlinewidth": 0,
             "ticks": ""
            },
            "colorscale": [
             [
              0,
              "#0d0887"
             ],
             [
              0.1111111111111111,
              "#46039f"
             ],
             [
              0.2222222222222222,
              "#7201a8"
             ],
             [
              0.3333333333333333,
              "#9c179e"
             ],
             [
              0.4444444444444444,
              "#bd3786"
             ],
             [
              0.5555555555555556,
              "#d8576b"
             ],
             [
              0.6666666666666666,
              "#ed7953"
             ],
             [
              0.7777777777777778,
              "#fb9f3a"
             ],
             [
              0.8888888888888888,
              "#fdca26"
             ],
             [
              1,
              "#f0f921"
             ]
            ],
            "type": "histogram2d"
           }
          ],
          "histogram2dcontour": [
           {
            "colorbar": {
             "outlinewidth": 0,
             "ticks": ""
            },
            "colorscale": [
             [
              0,
              "#0d0887"
             ],
             [
              0.1111111111111111,
              "#46039f"
             ],
             [
              0.2222222222222222,
              "#7201a8"
             ],
             [
              0.3333333333333333,
              "#9c179e"
             ],
             [
              0.4444444444444444,
              "#bd3786"
             ],
             [
              0.5555555555555556,
              "#d8576b"
             ],
             [
              0.6666666666666666,
              "#ed7953"
             ],
             [
              0.7777777777777778,
              "#fb9f3a"
             ],
             [
              0.8888888888888888,
              "#fdca26"
             ],
             [
              1,
              "#f0f921"
             ]
            ],
            "type": "histogram2dcontour"
           }
          ],
          "mesh3d": [
           {
            "colorbar": {
             "outlinewidth": 0,
             "ticks": ""
            },
            "type": "mesh3d"
           }
          ],
          "parcoords": [
           {
            "line": {
             "colorbar": {
              "outlinewidth": 0,
              "ticks": ""
             }
            },
            "type": "parcoords"
           }
          ],
          "pie": [
           {
            "automargin": true,
            "type": "pie"
           }
          ],
          "scatter": [
           {
            "fillpattern": {
             "fillmode": "overlay",
             "size": 10,
             "solidity": 0.2
            },
            "type": "scatter"
           }
          ],
          "scatter3d": [
           {
            "line": {
             "colorbar": {
              "outlinewidth": 0,
              "ticks": ""
             }
            },
            "marker": {
             "colorbar": {
              "outlinewidth": 0,
              "ticks": ""
             }
            },
            "type": "scatter3d"
           }
          ],
          "scattercarpet": [
           {
            "marker": {
             "colorbar": {
              "outlinewidth": 0,
              "ticks": ""
             }
            },
            "type": "scattercarpet"
           }
          ],
          "scattergeo": [
           {
            "marker": {
             "colorbar": {
              "outlinewidth": 0,
              "ticks": ""
             }
            },
            "type": "scattergeo"
           }
          ],
          "scattergl": [
           {
            "marker": {
             "colorbar": {
              "outlinewidth": 0,
              "ticks": ""
             }
            },
            "type": "scattergl"
           }
          ],
          "scattermapbox": [
           {
            "marker": {
             "colorbar": {
              "outlinewidth": 0,
              "ticks": ""
             }
            },
            "type": "scattermapbox"
           }
          ],
          "scatterpolar": [
           {
            "marker": {
             "colorbar": {
              "outlinewidth": 0,
              "ticks": ""
             }
            },
            "type": "scatterpolar"
           }
          ],
          "scatterpolargl": [
           {
            "marker": {
             "colorbar": {
              "outlinewidth": 0,
              "ticks": ""
             }
            },
            "type": "scatterpolargl"
           }
          ],
          "scatterternary": [
           {
            "marker": {
             "colorbar": {
              "outlinewidth": 0,
              "ticks": ""
             }
            },
            "type": "scatterternary"
           }
          ],
          "surface": [
           {
            "colorbar": {
             "outlinewidth": 0,
             "ticks": ""
            },
            "colorscale": [
             [
              0,
              "#0d0887"
             ],
             [
              0.1111111111111111,
              "#46039f"
             ],
             [
              0.2222222222222222,
              "#7201a8"
             ],
             [
              0.3333333333333333,
              "#9c179e"
             ],
             [
              0.4444444444444444,
              "#bd3786"
             ],
             [
              0.5555555555555556,
              "#d8576b"
             ],
             [
              0.6666666666666666,
              "#ed7953"
             ],
             [
              0.7777777777777778,
              "#fb9f3a"
             ],
             [
              0.8888888888888888,
              "#fdca26"
             ],
             [
              1,
              "#f0f921"
             ]
            ],
            "type": "surface"
           }
          ],
          "table": [
           {
            "cells": {
             "fill": {
              "color": "#EBF0F8"
             },
             "line": {
              "color": "white"
             }
            },
            "header": {
             "fill": {
              "color": "#C8D4E3"
             },
             "line": {
              "color": "white"
             }
            },
            "type": "table"
           }
          ]
         },
         "layout": {
          "annotationdefaults": {
           "arrowcolor": "#2a3f5f",
           "arrowhead": 0,
           "arrowwidth": 1
          },
          "autotypenumbers": "strict",
          "coloraxis": {
           "colorbar": {
            "outlinewidth": 0,
            "ticks": ""
           }
          },
          "colorscale": {
           "diverging": [
            [
             0,
             "#8e0152"
            ],
            [
             0.1,
             "#c51b7d"
            ],
            [
             0.2,
             "#de77ae"
            ],
            [
             0.3,
             "#f1b6da"
            ],
            [
             0.4,
             "#fde0ef"
            ],
            [
             0.5,
             "#f7f7f7"
            ],
            [
             0.6,
             "#e6f5d0"
            ],
            [
             0.7,
             "#b8e186"
            ],
            [
             0.8,
             "#7fbc41"
            ],
            [
             0.9,
             "#4d9221"
            ],
            [
             1,
             "#276419"
            ]
           ],
           "sequential": [
            [
             0,
             "#0d0887"
            ],
            [
             0.1111111111111111,
             "#46039f"
            ],
            [
             0.2222222222222222,
             "#7201a8"
            ],
            [
             0.3333333333333333,
             "#9c179e"
            ],
            [
             0.4444444444444444,
             "#bd3786"
            ],
            [
             0.5555555555555556,
             "#d8576b"
            ],
            [
             0.6666666666666666,
             "#ed7953"
            ],
            [
             0.7777777777777778,
             "#fb9f3a"
            ],
            [
             0.8888888888888888,
             "#fdca26"
            ],
            [
             1,
             "#f0f921"
            ]
           ],
           "sequentialminus": [
            [
             0,
             "#0d0887"
            ],
            [
             0.1111111111111111,
             "#46039f"
            ],
            [
             0.2222222222222222,
             "#7201a8"
            ],
            [
             0.3333333333333333,
             "#9c179e"
            ],
            [
             0.4444444444444444,
             "#bd3786"
            ],
            [
             0.5555555555555556,
             "#d8576b"
            ],
            [
             0.6666666666666666,
             "#ed7953"
            ],
            [
             0.7777777777777778,
             "#fb9f3a"
            ],
            [
             0.8888888888888888,
             "#fdca26"
            ],
            [
             1,
             "#f0f921"
            ]
           ]
          },
          "colorway": [
           "#636efa",
           "#EF553B",
           "#00cc96",
           "#ab63fa",
           "#FFA15A",
           "#19d3f3",
           "#FF6692",
           "#B6E880",
           "#FF97FF",
           "#FECB52"
          ],
          "font": {
           "color": "#2a3f5f"
          },
          "geo": {
           "bgcolor": "white",
           "lakecolor": "white",
           "landcolor": "#E5ECF6",
           "showlakes": true,
           "showland": true,
           "subunitcolor": "white"
          },
          "hoverlabel": {
           "align": "left"
          },
          "hovermode": "closest",
          "mapbox": {
           "style": "light"
          },
          "paper_bgcolor": "white",
          "plot_bgcolor": "#E5ECF6",
          "polar": {
           "angularaxis": {
            "gridcolor": "white",
            "linecolor": "white",
            "ticks": ""
           },
           "bgcolor": "#E5ECF6",
           "radialaxis": {
            "gridcolor": "white",
            "linecolor": "white",
            "ticks": ""
           }
          },
          "scene": {
           "xaxis": {
            "backgroundcolor": "#E5ECF6",
            "gridcolor": "white",
            "gridwidth": 2,
            "linecolor": "white",
            "showbackground": true,
            "ticks": "",
            "zerolinecolor": "white"
           },
           "yaxis": {
            "backgroundcolor": "#E5ECF6",
            "gridcolor": "white",
            "gridwidth": 2,
            "linecolor": "white",
            "showbackground": true,
            "ticks": "",
            "zerolinecolor": "white"
           },
           "zaxis": {
            "backgroundcolor": "#E5ECF6",
            "gridcolor": "white",
            "gridwidth": 2,
            "linecolor": "white",
            "showbackground": true,
            "ticks": "",
            "zerolinecolor": "white"
           }
          },
          "shapedefaults": {
           "line": {
            "color": "#2a3f5f"
           }
          },
          "ternary": {
           "aaxis": {
            "gridcolor": "white",
            "linecolor": "white",
            "ticks": ""
           },
           "baxis": {
            "gridcolor": "white",
            "linecolor": "white",
            "ticks": ""
           },
           "bgcolor": "#E5ECF6",
           "caxis": {
            "gridcolor": "white",
            "linecolor": "white",
            "ticks": ""
           }
          },
          "title": {
           "x": 0.05
          },
          "xaxis": {
           "automargin": true,
           "gridcolor": "white",
           "linecolor": "white",
           "ticks": "",
           "title": {
            "standoff": 15
           },
           "zerolinecolor": "white",
           "zerolinewidth": 2
          },
          "yaxis": {
           "automargin": true,
           "gridcolor": "white",
           "linecolor": "white",
           "ticks": "",
           "title": {
            "standoff": 15
           },
           "zerolinecolor": "white",
           "zerolinewidth": 2
          }
         }
        },
        "title": {
         "text": "Borehole Clusters"
        },
        "width": 700
       }
      },
      "image/png": "[encoded data removed]",
      "text/html": [
       "<div>                            <div id=\"8750310b-0725-41ad-9ad2-2d868d883e63\" class=\"plotly-graph-div\" style=\"height:700px; width:700px;\"></div>            <script type=\"text/javascript\">                require([\"plotly\"], function(Plotly) {                    window.PLOTLYENV=window.PLOTLYENV || {};                                    if (document.getElementById(\"8750310b-0725-41ad-9ad2-2d868d883e63\")) {                    Plotly.newPlot(                        \"8750310b-0725-41ad-9ad2-2d868d883e63\",                        [{\"hoverinfo\":\"text\",\"lat\":[14.4583,14.375,14.2917,14.4583,14.375,14.2917,14.4583,14.375,14.2917,14.4583,14.375,14.2917,14.4583,14.375,14.2917,14.4583,14.375,14.2917],\"lon\":[77.5417,77.5417,77.5417,77.625,77.625,77.625,77.7083,77.7083,77.7083,77.5417,77.5417,77.5417,77.625,77.625,77.625,77.7083,77.7083,77.7083],\"marker\":{\"color\":\"blue\",\"opacity\":0.8,\"size\":10},\"mode\":\"markers\",\"text\":[\"Latitude: 14.4583\\u003cbr\\u003eLongitude: 77.5417\\u003cbr\\u003eGID: 2277, 2266\",\"Latitude: 14.375\\u003cbr\\u003eLongitude: 77.5417\\u003cbr\\u003eGID: 2278, 2267\",\"Latitude: 14.2917\\u003cbr\\u003eLongitude: 77.5417\\u003cbr\\u003eGID: 2279, 2268\",\"Latitude: 14.4583\\u003cbr\\u003eLongitude: 77.625\\u003cbr\\u003eGID: 2280, 2269\",\"Latitude: 14.375\\u003cbr\\u003eLongitude: 77.625\\u003cbr\\u003eGID: 2281, 2270\",\"Latitude: 14.2917\\u003cbr\\u003eLongitude: 77.625\\u003cbr\\u003eGID: 2282, 2271\",\"Latitude: 14.4583\\u003cbr\\u003eLongitude: 77.7083\\u003cbr\\u003eGID: 2283, 2272\",\"Latitude: 14.375\\u003cbr\\u003eLongitude: 77.7083\\u003cbr\\u003eGID: 2284, 2273\",\"Latitude: 14.2917\\u003cbr\\u003eLongitude: 77.7083\\u003cbr\\u003eGID: 2285, 2274\",\"Latitude: 14.4583\\u003cbr\\u003eLongitude: 77.5417\\u003cbr\\u003eGID: 2277, 2266\",\"Latitude: 14.375\\u003cbr\\u003eLongitude: 77.5417\\u003cbr\\u003eGID: 2278, 2267\",\"Latitude: 14.2917\\u003cbr\\u003eLongitude: 77.5417\\u003cbr\\u003eGID: 2279, 2268\",\"Latitude: 14.4583\\u003cbr\\u003eLongitude: 77.625\\u003cbr\\u003eGID: 2280, 2269\",\"Latitude: 14.375\\u003cbr\\u003eLongitude: 77.625\\u003cbr\\u003eGID: 2281, 2270\",\"Latitude: 14.2917\\u003cbr\\u003eLongitude: 77.625\\u003cbr\\u003eGID: 2282, 2271\",\"Latitude: 14.4583\\u003cbr\\u003eLongitude: 77.7083\\u003cbr\\u003eGID: 2283, 2272\",\"Latitude: 14.375\\u003cbr\\u003eLongitude: 77.7083\\u003cbr\\u003eGID: 2284, 2273\",\"Latitude: 14.2917\\u003cbr\\u003eLongitude: 77.7083\\u003cbr\\u003eGID: 2285, 2274\"],\"type\":\"scattermapbox\"}],                        {\"hovermode\":\"closest\",\"mapbox\":{\"bounds\":{\"east\":77.75829999999999,\"north\":14.5083,\"south\":14.2417,\"west\":77.49170000000001},\"center\":{\"lat\":14.347233333333334,\"lon\":77.68053333333334},\"style\":\"open-street-map\",\"zoom\":10},\"title\":{\"text\":\"Borehole Clusters\"},\"template\":{\"data\":{\"histogram2dcontour\":[{\"type\":\"histogram2dcontour\",\"colorbar\":{\"outlinewidth\":0,\"ticks\":\"\"},\"colorscale\":[[0.0,\"#0d0887\"],[0.1111111111111111,\"#46039f\"],[0.2222222222222222,\"#7201a8\"],[0.3333333333333333,\"#9c179e\"],[0.4444444444444444,\"#bd3786\"],[0.5555555555555556,\"#d8576b\"],[0.6666666666666666,\"#ed7953\"],[0.7777777777777778,\"#fb9f3a\"],[0.8888888888888888,\"#fdca26\"],[1.0,\"#f0f921\"]]}],\"choropleth\":[{\"type\":\"choropleth\",\"colorbar\":{\"outlinewidth\":0,\"ticks\":\"\"}}],\"histogram2d\":[{\"type\":\"histogram2d\",\"colorbar\":{\"outlinewidth\":0,\"ticks\":\"\"},\"colorscale\":[[0.0,\"#0d0887\"],[0.1111111111111111,\"#46039f\"],[0.2222222222222222,\"#7201a8\"],[0.3333333333333333,\"#9c179e\"],[0.4444444444444444,\"#bd3786\"],[0.5555555555555556,\"#d8576b\"],[0.6666666666666666,\"#ed7953\"],[0.7777777777777778,\"#fb9f3a\"],[0.8888888888888888,\"#fdca26\"],[1.0,\"#f0f921\"]]}],\"heatmap\":[{\"type\":\"heatmap\",\"colorbar\":{\"outlinewidth\":0,\"ticks\":\"\"},\"colorscale\":[[0.0,\"#0d0887\"],[0.1111111111111111,\"#46039f\"],[0.2222222222222222,\"#7201a8\"],[0.3333333333333333,\"#9c179e\"],[0.4444444444444444,\"#bd3786\"],[0.5555555555555556,\"#d8576b\"],[0.6666666666666666,\"#ed7953\"],[0.7777777777777778,\"#fb9f3a\"],[0.8888888888888888,\"#fdca26\"],[1.0,\"#f0f921\"]]}],\"heatmapgl\":[{\"type\":\"heatmapgl\",\"colorbar\":{\"outlinewidth\":0,\"ticks\":\"\"},\"colorscale\":[[0.0,\"#0d0887\"],[0.1111111111111111,\"#46039f\"],[0.2222222222222222,\"#7201a8\"],[0.3333333333333333,\"#9c179e\"],[0.4444444444444444,\"#bd3786\"],[0.5555555555555556,\"#d8576b\"],[0.6666666666666666,\"#ed7953\"],[0.7777777777777778,\"#fb9f3a\"],[0.8888888888888888,\"#fdca26\"],[1.0,\"#f0f921\"]]}],\"contourcarpet\":[{\"type\":\"contourcarpet\",\"colorbar\":{\"outlinewidth\":0,\"ticks\":\"\"}}],\"contour\":[{\"type\":\"contour\",\"colorbar\":{\"outlinewidth\":0,\"ticks\":\"\"},\"colorscale\":[[0.0,\"#0d0887\"],[0.1111111111111111,\"#46039f\"],[0.2222222222222222,\"#7201a8\"],[0.3333333333333333,\"#9c179e\"],[0.4444444444444444,\"#bd3786\"],[0.5555555555555556,\"#d8576b\"],[0.6666666666666666,\"#ed7953\"],[0.7777777777777778,\"#fb9f3a\"],[0.8888888888888888,\"#fdca26\"],[1.0,\"#f0f921\"]]}],\"surface\":[{\"type\":\"surface\",\"colorbar\":{\"outlinewidth\":0,\"ticks\":\"\"},\"colorscale\":[[0.0,\"#0d0887\"],[0.1111111111111111,\"#46039f\"],[0.2222222222222222,\"#7201a8\"],[0.3333333333333333,\"#9c179e\"],[0.4444444444444444,\"#bd3786\"],[0.5555555555555556,\"#d8576b\"],[0.6666666666666666,\"#ed7953\"],[0.7777777777777778,\"#fb9f3a\"],[0.8888888888888888,\"#fdca26\"],[1.0,\"#f0f921\"]]}],\"mesh3d\":[{\"type\":\"mesh3d\",\"colorbar\":{\"outlinewidth\":0,\"ticks\":\"\"}}],\"scatter\":[{\"fillpattern\":{\"fillmode\":\"overlay\",\"size\":10,\"solidity\":0.2},\"type\":\"scatter\"}],\"parcoords\":[{\"type\":\"parcoords\",\"line\":{\"colorbar\":{\"outlinewidth\":0,\"ticks\":\"\"}}}],\"scatterpolargl\":[{\"type\":\"scatterpolargl\",\"marker\":{\"colorbar\":{\"outlinewidth\":0,\"ticks\":\"\"}}}],\"bar\":[{\"error_x\":{\"color\":\"#2a3f5f\"},\"error_y\":{\"color\":\"#2a3f5f\"},\"marker\":{\"line\":{\"color\":\"#E5ECF6\",\"width\":0.5},\"pattern\":{\"fillmode\":\"overlay\",\"size\":10,\"solidity\":0.2}},\"type\":\"bar\"}],\"scattergeo\":[{\"type\":\"scattergeo\",\"marker\":{\"colorbar\":{\"outlinewidth\":0,\"ticks\":\"\"}}}],\"scatterpolar\":[{\"type\":\"scatterpolar\",\"marker\":{\"colorbar\":{\"outlinewidth\":0,\"ticks\":\"\"}}}],\"histogram\":[{\"marker\":{\"pattern\":{\"fillmode\":\"overlay\",\"size\":10,\"solidity\":0.2}},\"type\":\"histogram\"}],\"scattergl\":[{\"type\":\"scattergl\",\"marker\":{\"colorbar\":{\"outlinewidth\":0,\"ticks\":\"\"}}}],\"scatter3d\":[{\"type\":\"scatter3d\",\"line\":{\"colorbar\":{\"outlinewidth\":0,\"ticks\":\"\"}},\"marker\":{\"colorbar\":{\"outlinewidth\":0,\"ticks\":\"\"}}}],\"scattermapbox\":[{\"type\":\"scattermapbox\",\"marker\":{\"colorbar\":{\"outlinewidth\":0,\"ticks\":\"\"}}}],\"scatterternary\":[{\"type\":\"scatterternary\",\"marker\":{\"colorbar\":{\"outlinewidth\":0,\"ticks\":\"\"}}}],\"scattercarpet\":[{\"type\":\"scattercarpet\",\"marker\":{\"colorbar\":{\"outlinewidth\":0,\"ticks\":\"\"}}}],\"carpet\":[{\"aaxis\":{\"endlinecolor\":\"#2a3f5f\",\"gridcolor\":\"white\",\"linecolor\":\"white\",\"minorgridcolor\":\"white\",\"startlinecolor\":\"#2a3f5f\"},\"baxis\":{\"endlinecolor\":\"#2a3f5f\",\"gridcolor\":\"white\",\"linecolor\":\"white\",\"minorgridcolor\":\"white\",\"startlinecolor\":\"#2a3f5f\"},\"type\":\"carpet\"}],\"table\":[{\"cells\":{\"fill\":{\"color\":\"#EBF0F8\"},\"line\":{\"color\":\"white\"}},\"header\":{\"fill\":{\"color\":\"#C8D4E3\"},\"line\":{\"color\":\"white\"}},\"type\":\"table\"}],\"barpolar\":[{\"marker\":{\"line\":{\"color\":\"#E5ECF6\",\"width\":0.5},\"pattern\":{\"fillmode\":\"overlay\",\"size\":10,\"solidity\":0.2}},\"type\":\"barpolar\"}],\"pie\":[{\"automargin\":true,\"type\":\"pie\"}]},\"layout\":{\"autotypenumbers\":\"strict\",\"colorway\":[\"#636efa\",\"#EF553B\",\"#00cc96\",\"#ab63fa\",\"#FFA15A\",\"#19d3f3\",\"#FF6692\",\"#B6E880\",\"#FF97FF\",\"#FECB52\"],\"font\":{\"color\":\"#2a3f5f\"},\"hovermode\":\"closest\",\"hoverlabel\":{\"align\":\"left\"},\"paper_bgcolor\":\"white\",\"plot_bgcolor\":\"#E5ECF6\",\"polar\":{\"bgcolor\":\"#E5ECF6\",\"angularaxis\":{\"gridcolor\":\"white\",\"linecolor\":\"white\",\"ticks\":\"\"},\"radialaxis\":{\"gridcolor\":\"white\",\"linecolor\":\"white\",\"ticks\":\"\"}},\"ternary\":{\"bgcolor\":\"#E5ECF6\",\"aaxis\":{\"gridcolor\":\"white\",\"linecolor\":\"white\",\"ticks\":\"\"},\"baxis\":{\"gridcolor\":\"white\",\"linecolor\":\"white\",\"ticks\":\"\"},\"caxis\":{\"gridcolor\":\"white\",\"linecolor\":\"white\",\"ticks\":\"\"}},\"coloraxis\":{\"colorbar\":{\"outlinewidth\":0,\"ticks\":\"\"}},\"colorscale\":{\"sequential\":[[0.0,\"#0d0887\"],[0.1111111111111111,\"#46039f\"],[0.2222222222222222,\"#7201a8\"],[0.3333333333333333,\"#9c179e\"],[0.4444444444444444,\"#bd3786\"],[0.5555555555555556,\"#d8576b\"],[0.6666666666666666,\"#ed7953\"],[0.7777777777777778,\"#fb9f3a\"],[0.8888888888888888,\"#fdca26\"],[1.0,\"#f0f921\"]],\"sequentialminus\":[[0.0,\"#0d0887\"],[0.1111111111111111,\"#46039f\"],[0.2222222222222222,\"#7201a8\"],[0.3333333333333333,\"#9c179e\"],[0.4444444444444444,\"#bd3786\"],[0.5555555555555556,\"#d8576b\"],[0.6666666666666666,\"#ed7953\"],[0.7777777777777778,\"#fb9f3a\"],[0.8888888888888888,\"#fdca26\"],[1.0,\"#f0f921\"]],\"diverging\":[[0,\"#8e0152\"],[0.1,\"#c51b7d\"],[0.2,\"#de77ae\"],[0.3,\"#f1b6da\"],[0.4,\"#fde0ef\"],[0.5,\"#f7f7f7\"],[0.6,\"#e6f5d0\"],[0.7,\"#b8e186\"],[0.8,\"#7fbc41\"],[0.9,\"#4d9221\"],[1,\"#276419\"]]},\"xaxis\":{\"gridcolor\":\"white\",\"linecolor\":\"white\",\"ticks\":\"\",\"title\":{\"standoff\":15},\"zerolinecolor\":\"white\",\"automargin\":true,\"zerolinewidth\":2},\"yaxis\":{\"gridcolor\":\"white\",\"linecolor\":\"white\",\"ticks\":\"\",\"title\":{\"standoff\":15},\"zerolinecolor\":\"white\",\"automargin\":true,\"zerolinewidth\":2},\"scene\":{\"xaxis\":{\"backgroundcolor\":\"#E5ECF6\",\"gridcolor\":\"white\",\"linecolor\":\"white\",\"showbackground\":true,\"ticks\":\"\",\"zerolinecolor\":\"white\",\"gridwidth\":2},\"yaxis\":{\"backgroundcolor\":\"#E5ECF6\",\"gridcolor\":\"white\",\"linecolor\":\"white\",\"showbackground\":true,\"ticks\":\"\",\"zerolinecolor\":\"white\",\"gridwidth\":2},\"zaxis\":{\"backgroundcolor\":\"#E5ECF6\",\"gridcolor\":\"white\",\"linecolor\":\"white\",\"showbackground\":true,\"ticks\":\"\",\"zerolinecolor\":\"white\",\"gridwidth\":2}},\"shapedefaults\":{\"line\":{\"color\":\"#2a3f5f\"}},\"annotationdefaults\":{\"arrowcolor\":\"#2a3f5f\",\"arrowhead\":0,\"arrowwidth\":1},\"geo\":{\"bgcolor\":\"white\",\"landcolor\":\"#E5ECF6\",\"subunitcolor\":\"white\",\"showland\":true,\"showlakes\":true,\"lakecolor\":\"white\"},\"title\":{\"x\":0.05},\"mapbox\":{\"style\":\"light\"}}},\"autosize\":false,\"width\":700,\"height\":700},                        {\"responsive\": true}                    ).then(function(){\n",
       "                            \n",
       "var gd = document.getElementById('8750310b-0725-41ad-9ad2-2d868d883e63');\n",
       "var x = new MutationObserver(function (mutations, observer) {{\n",
       "        var display = window.getComputedStyle(gd).display;\n",
       "        if (!display || display === 'none') {{\n",
       "            console.log([gd, 'removed!']);\n",
       "            Plotly.purge(gd);\n",
       "            observer.disconnect();\n",
       "        }}\n",
       "}});\n",
       "\n",
       "// Listen for the removal of the full notebook cells\n",
       "var notebookContainer = gd.closest('#notebook-container');\n",
       "if (notebookContainer) {{\n",
       "    x.observe(notebookContainer, {childList: true});\n",
       "}}\n",
       "\n",
       "// Listen for the clearing of the current output cell\n",
       "var outputEl = gd.closest('.output');\n",
       "if (outputEl) {{\n",
       "    x.observe(outputEl, {childList: true});\n",
       "}}\n",
       "\n",
       "                        })                };                });            </script>        </div>"
      ]
     },
     "metadata": {},
     "output_type": "display_data"
    }
   ],
   "source": [
    "clustered_data['combined_gid'] = clustered_data.groupby(['latitude', 'longitude'])['gid'].transform(lambda x: ', '.join(map(str, x)))\n",
    "\n",
    "# Create text to display on hover with gid, latitude, and longitude\n",
    "hover_text = [f'Latitude: {lat}<br>Longitude: {lon}<br>GID: {gid}' \n",
    "              for lat, lon, gid in zip(clustered_data['latitude'], clustered_data['longitude'], clustered_data['combined_gid'])]\n",
    "\n",
    "\n",
    "# Create a scatter mapbox trace\n",
    "trace = go.Scattermapbox(\n",
    "    lat=clustered_data['latitude'],\n",
    "    lon=clustered_data['longitude'],\n",
    "    mode='markers',\n",
    "    marker=dict(\n",
    "        size=10,\n",
    "        color='blue',  # You can assign different colors for each cluster\n",
    "        opacity=0.8\n",
    "    ),\n",
    "    text=hover_text,  # Text to be displayed on hover\n",
    "    hoverinfo='text'  # Display only the text on hover\n",
    ")\n",
    "\n",
    "# Create layout for the map\n",
    "layout = go.Layout(\n",
    "    title=f'Borehole Clusters',\n",
    "    hovermode='closest',\n",
    "    mapbox=dict(\n",
    "        style='open-street-map',  # You can choose different map styles\n",
    "        center=dict(\n",
    "            lat=cluster_data['latitude'].mean(),  # Set the map center to the mean of latitudes\n",
    "            lon=cluster_data['longitude'].mean()  # Set the map center to the mean of longitudes\n",
    "        ),\n",
    "        zoom=10, \n",
    "        bounds=dict(\n",
    "            south=min_lat_limit,\n",
    "            north=max_lat_limit,\n",
    "            west=min_long_limit,\n",
    "            east=max_long_limit\n",
    "        )\n",
    "    )\n",
    ")\n",
    "\n",
    "# Create figure object and add trace and layout\n",
    "fig = go.Figure(data=trace, layout=layout)\n",
    "\n",
    "fig.update_layout(\n",
    "    autosize=False,\n",
    "    width=700,\n",
    "    height=700,\n",
    ")\n",
    "\n",
    "# Display the figure\n",
    "fig.show()\n"
   ]
  },
  {
   "cell_type": "markdown",
   "id": "dfc43354-f7d3-4c85-8cf0-c56c6ea09418",
   "metadata": {},
   "source": [
    "### Plotting 1st 2 Principle Component Axes"
   ]
  },
  {
   "cell_type": "code",
   "execution_count": 32,
   "id": "ae6fc05c-a852-4d75-945b-3b5ac4de88cf",
   "metadata": {},
   "outputs": [
    {
     "data": {
      "text/html": [
       "<div>\n",
       "<style scoped>\n",
       "    .dataframe tbody tr th:only-of-type {\n",
       "        vertical-align: middle;\n",
       "    }\n",
       "\n",
       "    .dataframe tbody tr th {\n",
       "        vertical-align: top;\n",
       "    }\n",
       "\n",
       "    .dataframe thead th {\n",
       "        text-align: right;\n",
       "    }\n",
       "</style>\n",
       "<table border=\"1\" class=\"dataframe\">\n",
       "  <thead>\n",
       "    <tr style=\"text-align: right;\">\n",
       "      <th></th>\n",
       "      <th>gid</th>\n",
       "      <th>longitude</th>\n",
       "      <th>latitude</th>\n",
       "      <th>clusters</th>\n",
       "      <th>PC1</th>\n",
       "      <th>PC2</th>\n",
       "      <th>PC3</th>\n",
       "      <th>PC4</th>\n",
       "    </tr>\n",
       "  </thead>\n",
       "  <tbody>\n",
       "    <tr>\n",
       "      <th>0</th>\n",
       "      <td>2277</td>\n",
       "      <td>77.5417</td>\n",
       "      <td>14.4583</td>\n",
       "      <td>1</td>\n",
       "      <td>-1.974116</td>\n",
       "      <td>3.530303</td>\n",
       "      <td>-0.929878</td>\n",
       "      <td>1.563817</td>\n",
       "    </tr>\n",
       "    <tr>\n",
       "      <th>1</th>\n",
       "      <td>2278</td>\n",
       "      <td>77.5417</td>\n",
       "      <td>14.3750</td>\n",
       "      <td>1</td>\n",
       "      <td>-0.942266</td>\n",
       "      <td>6.232880</td>\n",
       "      <td>-1.843167</td>\n",
       "      <td>0.875909</td>\n",
       "    </tr>\n",
       "    <tr>\n",
       "      <th>2</th>\n",
       "      <td>2279</td>\n",
       "      <td>77.5417</td>\n",
       "      <td>14.2917</td>\n",
       "      <td>0</td>\n",
       "      <td>-6.240342</td>\n",
       "      <td>-5.008043</td>\n",
       "      <td>1.889190</td>\n",
       "      <td>0.979673</td>\n",
       "    </tr>\n",
       "    <tr>\n",
       "      <th>3</th>\n",
       "      <td>2280</td>\n",
       "      <td>77.6250</td>\n",
       "      <td>14.4583</td>\n",
       "      <td>1</td>\n",
       "      <td>-1.461596</td>\n",
       "      <td>2.272279</td>\n",
       "      <td>0.672005</td>\n",
       "      <td>2.222921</td>\n",
       "    </tr>\n",
       "    <tr>\n",
       "      <th>4</th>\n",
       "      <td>2281</td>\n",
       "      <td>77.6250</td>\n",
       "      <td>14.3750</td>\n",
       "      <td>0</td>\n",
       "      <td>-0.855855</td>\n",
       "      <td>-3.735379</td>\n",
       "      <td>-1.300661</td>\n",
       "      <td>0.710733</td>\n",
       "    </tr>\n",
       "  </tbody>\n",
       "</table>\n",
       "</div>"
      ],
      "text/plain": [
       "    gid  longitude  latitude  clusters       PC1       PC2       PC3       PC4\n",
       "0  2277    77.5417   14.4583         1 -1.974116  3.530303 -0.929878  1.563817\n",
       "1  2278    77.5417   14.3750         1 -0.942266  6.232880 -1.843167  0.875909\n",
       "2  2279    77.5417   14.2917         0 -6.240342 -5.008043  1.889190  0.979673\n",
       "3  2280    77.6250   14.4583         1 -1.461596  2.272279  0.672005  2.222921\n",
       "4  2281    77.6250   14.3750         0 -0.855855 -3.735379 -1.300661  0.710733"
      ]
     },
     "execution_count": 32,
     "metadata": {},
     "output_type": "execute_result"
    }
   ],
   "source": [
    "clustered_data[['PC1', 'PC2', 'PC3', 'PC4']] = pca_chem_df[['PC1', 'PC2', 'PC3', 'PC4']]\n",
    "clustered_data.head()"
   ]
  },
  {
   "cell_type": "code",
   "execution_count": 33,
   "id": "bb3153c9-130b-4a68-8973-b5674ff4c81b",
   "metadata": {},
   "outputs": [
    {
     "data": {
      "image/png": "[encoded data removed]",
      "text/plain": [
       "<Figure size 700x600 with 1 Axes>"
      ]
     },
     "metadata": {},
     "output_type": "display_data"
    }
   ],
   "source": [
    "pc1 = clustered_data['PC1']\n",
    "pc2 = clustered_data['PC2']\n",
    "\n",
    "plt.figure(figsize=(7, 6))\n",
    "plt.scatter(pc1, \n",
    "            pc2, \n",
    "            c=clustered_data['clusters'], \n",
    "            cmap='viridis')\n",
    "plt.title('Scatter Plot of First Two Principal Components')\n",
    "plt.xlabel('Principal Component 1')\n",
    "plt.ylabel('Principal Component 2')\n",
    "#plt.colorbar(label='cluster')  # Add a colorbar to show the cluster labels\n",
    "plt.grid(True)\n",
    "plt.show()"
   ]
  },
  {
   "cell_type": "code",
   "execution_count": 48,
   "id": "a5cac108-9b08-4b22-ac06-d69bcb871e0a",
   "metadata": {},
   "outputs": [
    {
     "data": {
      "text/html": [
       "<div>\n",
       "<style scoped>\n",
       "    .dataframe tbody tr th:only-of-type {\n",
       "        vertical-align: middle;\n",
       "    }\n",
       "\n",
       "    .dataframe tbody tr th {\n",
       "        vertical-align: top;\n",
       "    }\n",
       "\n",
       "    .dataframe thead th {\n",
       "        text-align: right;\n",
       "    }\n",
       "</style>\n",
       "<table border=\"1\" class=\"dataframe\">\n",
       "  <thead>\n",
       "    <tr style=\"text-align: right;\">\n",
       "      <th></th>\n",
       "      <th>gid</th>\n",
       "      <th>La</th>\n",
       "      <th>Ce</th>\n",
       "      <th>Pr</th>\n",
       "      <th>Nd</th>\n",
       "      <th>Sm</th>\n",
       "      <th>Eu</th>\n",
       "      <th>Tb</th>\n",
       "      <th>Gd</th>\n",
       "      <th>Dy</th>\n",
       "      <th>Ho</th>\n",
       "    </tr>\n",
       "  </thead>\n",
       "  <tbody>\n",
       "    <tr>\n",
       "      <th>0</th>\n",
       "      <td>2277</td>\n",
       "      <td>16.75</td>\n",
       "      <td>33.70</td>\n",
       "      <td>3.78</td>\n",
       "      <td>15.72</td>\n",
       "      <td>3.43</td>\n",
       "      <td>1.26</td>\n",
       "      <td>0.69</td>\n",
       "      <td>3.89</td>\n",
       "      <td>4.31</td>\n",
       "      <td>0.83</td>\n",
       "    </tr>\n",
       "    <tr>\n",
       "      <th>1</th>\n",
       "      <td>2278</td>\n",
       "      <td>23.00</td>\n",
       "      <td>45.53</td>\n",
       "      <td>6.12</td>\n",
       "      <td>26.10</td>\n",
       "      <td>4.99</td>\n",
       "      <td>1.86</td>\n",
       "      <td>0.98</td>\n",
       "      <td>6.01</td>\n",
       "      <td>5.32</td>\n",
       "      <td>1.06</td>\n",
       "    </tr>\n",
       "    <tr>\n",
       "      <th>2</th>\n",
       "      <td>2279</td>\n",
       "      <td>2.60</td>\n",
       "      <td>5.14</td>\n",
       "      <td>0.55</td>\n",
       "      <td>1.96</td>\n",
       "      <td>0.33</td>\n",
       "      <td>0.08</td>\n",
       "      <td>0.03</td>\n",
       "      <td>0.25</td>\n",
       "      <td>0.17</td>\n",
       "      <td>0.03</td>\n",
       "    </tr>\n",
       "    <tr>\n",
       "      <th>3</th>\n",
       "      <td>2280</td>\n",
       "      <td>12.21</td>\n",
       "      <td>26.74</td>\n",
       "      <td>3.51</td>\n",
       "      <td>14.96</td>\n",
       "      <td>3.55</td>\n",
       "      <td>1.14</td>\n",
       "      <td>0.77</td>\n",
       "      <td>4.10</td>\n",
       "      <td>4.55</td>\n",
       "      <td>0.84</td>\n",
       "    </tr>\n",
       "    <tr>\n",
       "      <th>4</th>\n",
       "      <td>2281</td>\n",
       "      <td>29.14</td>\n",
       "      <td>59.88</td>\n",
       "      <td>7.46</td>\n",
       "      <td>30.87</td>\n",
       "      <td>5.81</td>\n",
       "      <td>1.85</td>\n",
       "      <td>0.70</td>\n",
       "      <td>5.05</td>\n",
       "      <td>3.70</td>\n",
       "      <td>0.71</td>\n",
       "    </tr>\n",
       "  </tbody>\n",
       "</table>\n",
       "</div>"
      ],
      "text/plain": [
       "    gid     La     Ce    Pr     Nd    Sm    Eu    Tb    Gd    Dy    Ho\n",
       "0  2277  16.75  33.70  3.78  15.72  3.43  1.26  0.69  3.89  4.31  0.83\n",
       "1  2278  23.00  45.53  6.12  26.10  4.99  1.86  0.98  6.01  5.32  1.06\n",
       "2  2279   2.60   5.14  0.55   1.96  0.33  0.08  0.03  0.25  0.17  0.03\n",
       "3  2280  12.21  26.74  3.51  14.96  3.55  1.14  0.77  4.10  4.55  0.84\n",
       "4  2281  29.14  59.88  7.46  30.87  5.81  1.85  0.70  5.05  3.70  0.71"
      ]
     },
     "execution_count": 48,
     "metadata": {},
     "output_type": "execute_result"
    }
   ],
   "source": [
    "top_10_var_df = chemical_data[['gid'] + list(chem_elem[-17:-7])]\n",
    "top_10_var_df.head()"
   ]
  },
  {
   "cell_type": "code",
   "execution_count": null,
   "id": "ef133c7b-67d6-438d-a678-dd676b8b32f6",
   "metadata": {},
   "outputs": [],
   "source": []
  }
 ],
 "metadata": {
  "kernelspec": {
   "display_name": "Python 3 (ipykernel)",
   "language": "python",
   "name": "python3"
  },
  "language_info": {
   "codemirror_mode": {
    "name": "ipython",
    "version": 3
   },
   "file_extension": ".py",
   "mimetype": "text/x-python",
   "name": "python",
   "nbconvert_exporter": "python",
   "pygments_lexer": "ipython3",
   "version": "3.9.19"
  }
 },
 "nbformat": 4,
 "nbformat_minor": 5
}
