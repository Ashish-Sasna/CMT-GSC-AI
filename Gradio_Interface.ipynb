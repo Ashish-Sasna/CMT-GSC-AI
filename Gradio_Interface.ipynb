{
 "cells": [
  {
   "cell_type": "markdown",
   "id": "2cd3ad63-9275-47d3-a2b5-1eed78830af6",
   "metadata": {},
   "source": [
    "# Import Libraries"
   ]
  },
  {
   "cell_type": "code",
   "execution_count": 1,
   "id": "1625bd9d-44f8-4a57-9e7a-6364efbd2631",
   "metadata": {},
   "outputs": [],
   "source": [
    "import utility_func as util\n",
    "import gradio as gr"
   ]
  },
  {
   "cell_type": "code",
   "execution_count": 2,
   "id": "9f0cc901-c811-4b17-8101-1b22e3bf0d21",
   "metadata": {},
   "outputs": [],
   "source": [
    "import warnings\n",
    "warnings.filterwarnings('ignore')"
   ]
  },
  {
   "cell_type": "markdown",
   "id": "fda5215b-3149-410d-8bbe-9109da5467d4",
   "metadata": {},
   "source": [
    "# Functions"
   ]
  },
  {
   "cell_type": "code",
   "execution_count": 40,
   "id": "b02349ff-ffd0-4df6-8a39-bafb5cab158e",
   "metadata": {},
   "outputs": [],
   "source": [
    "# Adjust plotting functions to accept axes as a parameter\n",
    "def plot_ppm_variation(df, element, area):\n",
    "    lat_list = util.np.sort(df['latitude'].unique())[::-1]\n",
    "    n_plots = len(lat_list)\n",
    "\n",
    "    if area == 'Ramagiri':\n",
    "        # Create a figure with subplots\n",
    "        fig, axes = util.plt.subplots(n_plots, \n",
    "                                      1, \n",
    "                                      figsize=(10, 2 * n_plots), \n",
    "                                      constrained_layout=True)\n",
    "    elif area == 'Kodangal':\n",
    "        # Create a figure with subplots\n",
    "        fig, axes = util.plt.subplots(n_plots, \n",
    "                                      1, \n",
    "                                      figsize=(12, 2 * n_plots), \n",
    "                                      constrained_layout=True)\n",
    "        \n",
    "    if n_plots == 1:\n",
    "        axes = [axes]  # Ensure axes is iterable\n",
    "    \n",
    "    for ax, lat in zip(axes, lat_list):\n",
    "        subset = df[df['latitude'] == lat].sort_values(by='longitude')\n",
    "        ax.plot(subset['longitude'], subset[element], marker='o', linestyle='-', color='b')\n",
    "        ax.set_title(f'Concentration at Latitude {lat}')\n",
    "        ax.set_xlabel('Longitude')\n",
    "        ax.set_ylabel(f'Concentration(ppm)')\n",
    "        ax.set_ylim(0, max(df[element]))\n",
    "        ax.grid(True)\n",
    "\n",
    "    # img_path = (util.os.path.join(curr_dir, 'Images')).replace('\\\\', '/')\n",
    "    # combined_plot_path = img_path + \"/combined_ppm_variation_plot.png\"\n",
    "    # fig.savefig(combined_plot_path)\n",
    "    # util.plt.close(fig)\n",
    "    \n",
    "    return fig\n",
    "\n",
    "# def plot_ppm_variation(df, element, area, lat, ax=None):\n",
    "    \n",
    "#     subset = df[df['latitude'] == lat].sort_values(by='longitude')\n",
    "#     ax.plot(subset['longitude'], subset[element], marker='o', linestyle='-', color='b')\n",
    "#     ax.set_title(f'Concentration at Latitude {lat}')\n",
    "#     ax.set_xlabel('Longitude')\n",
    "#     ax.set_ylabel(f'Concentration(ppm)')\n",
    "#     ax.set_ylim(0, max(df[element]))\n",
    "#     ax.grid(True)\n",
    "\n",
    "def plot_contour(df, element, name, title, area, ax=None):\n",
    "    if ax is None:\n",
    "        ax = plt.gca()\n",
    "    if element not in df.columns:\n",
    "        raise KeyError(f\"The element '{element}' does not exist in the dataframe.\")\n",
    "    \n",
    "    min_lat_limit = min(df['latitude']) - 0.005\n",
    "    max_lat_limit = max(df['latitude']) + 0.005\n",
    "    min_long_limit = min(df['longitude']) - 0.005 \n",
    "    max_long_limit = max(df['longitude']) + 0.005\n",
    "\n",
    "    grid_x, grid_y = util.np.mgrid[\n",
    "        min_long_limit:max_long_limit:200j,\n",
    "        min_lat_limit:max_lat_limit:200j\n",
    "    ]\n",
    "\n",
    "    grid_z = util.griddata(\n",
    "        (df['longitude'], df['latitude']),\n",
    "        df[element],\n",
    "        (grid_x, grid_y),\n",
    "        method='cubic'\n",
    "    )\n",
    "\n",
    "    cmap = util.LinearSegmentedColormap.from_list(\"green_to_red\", [\"green\", \"yellow\", \"red\"])\n",
    "    \n",
    "    if area == 'Ramagiri':\n",
    "        ax.figure.set_size_inches(10, 6)\n",
    "    elif area == 'Kodangal':\n",
    "        ax.figure.set_size_inches(15, 5)\n",
    "\n",
    "    cp = ax.contourf(grid_x, grid_y, grid_z, levels=15, cmap=cmap, alpha=0.7)\n",
    "    util.plt.colorbar(cp, ax=ax, label=f'{name} concentration')\n",
    "    \n",
    "    cs = ax.contour(grid_x, grid_y, grid_z, levels=15, colors='k', linewidths=0.5)\n",
    "    ax.clabel(cs, inline=True, fontsize=8, fmt='%1.0f')\n",
    "\n",
    "    ax.set_title(title)\n",
    "    ax.set_xlabel('Longitude')\n",
    "    ax.set_ylabel('Latitude')\n",
    "    ax.grid(True, color='gray', linestyle='--', linewidth=0.5)\n",
    "\n",
    "# Function to get element symbol from the element name and area\n",
    "def get_element_symbol(element_name, area):\n",
    "    if area == 'Ramagiri':\n",
    "        element = rg_elem_name_df.loc[rg_elem_name_df['Name'] == element_name, 'Symbol'].values[0]\n",
    "    elif area == 'Kodangal':\n",
    "        element = kg_elem_name_df.loc[kg_elem_name_df['Name'] == element_name, 'Symbol'].values[0]\n",
    "    return element\n",
    "\n",
    "# Function to update element dropdown options based on selected area\n",
    "def update_elements(area):\n",
    "    if area == 'Ramagiri':\n",
    "        elements = list(rg_elem_name_df['Name'])\n",
    "    elif area == 'Kodangal':\n",
    "        elements = list(kg_elem_name_df['Name'])\n",
    "    return gr.update(choices=elements)\n",
    "\n",
    "# Function to be called by Gradio\n",
    "def show_plots(element_name, area):\n",
    "    df = DATASETS[area]\n",
    "\n",
    "    element = get_element_symbol(element_name, area)\n",
    "\n",
    "    img_path = (util.os.path.join(curr_dir, 'Images')).replace('\\\\', '/')\n",
    "\n",
    "    combined_ppm_plot_path = plot_ppm_variation(df, element, area)\n",
    "\n",
    "    contour_fig, contour_axes = util.plt.subplots()\n",
    "    plot_contour(df, element, element_name, f'{area} - {element_name} Concentration contour map', area, ax=contour_axes)\n",
    "    contour_fig_path = img_path + '/contour_plot.png'\n",
    "    contour_fig.savefig(contour_fig_path)\n",
    "    util.plt.close(contour_fig)\n",
    "    \n",
    "    return [contour_fig_path, combined_ppm_plot_path]\n",
    "\n",
    "## Plotting ppm concentration plot on interface\n",
    "def ppm_plot_interface(element_name, area):\n",
    "    df = DATASETS[area]\n",
    "\n",
    "    element = get_element_symbol(element_name, area)\n",
    "\n",
    "    img_path = (util.os.path.join(curr_dir, 'Images')).replace('\\\\', '/')\n",
    "\n",
    "    combined_ppm_plot_path = plot_ppm_variation(df, element, area)\n",
    "\n",
    "    return combined_ppm_plot_path\n",
    "\n",
    "# def ppm_plot_interface(element_name, area, lat):\n",
    "#     lat_list = util.np.sort(ramagiri_df['latitude'].unique())[::-1]\n",
    "    \n",
    "#     if area == 'Ramagiri':\n",
    "#         fig, ax = util.plt.subplots(figsize=(10, 2))\n",
    "#     elif area == 'Kodangal':\n",
    "#         fig, ax = util.plt.subplots(figsize=(12, 2))\n",
    "#     ppm_plot = plot_ppm_variation(ramagiri_df, 'au', area, lat, ax=ax)\n",
    "    \n",
    "#     return ppm_plot\n",
    "\n",
    "## Plotting ppm concentration plot on interface\n",
    "def contour_plot_interface(element_name, area):\n",
    "    df = DATASETS[area]\n",
    "\n",
    "    element = get_element_symbol(element_name, area)\n",
    "\n",
    "    img_path = (util.os.path.join(curr_dir, 'Images')).replace('\\\\', '/')\n",
    "    \n",
    "    contour_fig, contour_axes = util.plt.subplots()\n",
    "    plot_contour(df, element, element_name, f'{area} - {element_name} Concentration contour map', area, ax=contour_axes)\n",
    "    # contour_fig_path = img_path + '/contour_plot.png'\n",
    "    # contour_fig.savefig(contour_fig_path)\n",
    "    # util.plt.close(contour_fig)\n",
    "    return contour_fig\n",
    "\n",
    "## Elements for prediction\n",
    "def get_elem_pred(area):\n",
    "    if area == 'Ramagiri':\n",
    "        return ['Lithium', 'Arsenic', 'Gold']\n",
    "    elif area == 'Kodangal':\n",
    "        return ['Silver', 'Copper', 'Zinc']"
   ]
  },
  {
   "cell_type": "markdown",
   "id": "d7493885-ad5f-45f9-bce6-9cbef8b0b906",
   "metadata": {},
   "source": [
    "# Load Data"
   ]
  },
  {
   "cell_type": "code",
   "execution_count": 5,
   "id": "c8f4a12f-a080-4d09-9217-45e64dc5bdd5",
   "metadata": {},
   "outputs": [],
   "source": [
    "curr_dir = (util.os.getcwd()).replace('\\\\', '/')\n",
    "data_path = (util.os.path.join(curr_dir, 'Data')).replace('\\\\', '/')"
   ]
  },
  {
   "cell_type": "code",
   "execution_count": 6,
   "id": "2be67a2c-bf79-4607-a08d-a35c6bb38c9f",
   "metadata": {},
   "outputs": [],
   "source": [
    "kodangal_df = util.pd.read_csv(data_path + '/Kodangal dataset/clean_Kodangal_gcM.csv')\n",
    "ramagiri_df = util.pd.read_csv(data_path + '/Ramagiri dataset/clean_stream_sediments_57F11.csv')"
   ]
  },
  {
   "cell_type": "code",
   "execution_count": 16,
   "id": "aeb24481-52ef-4c95-a92f-eb707828c082",
   "metadata": {},
   "outputs": [],
   "source": [
    "rg_elem_name_df = util.pd.read_csv(data_path + '/Kodangal dataset/Kodangal_element_names.csv')\n",
    "kg_elem_name_df = util.pd.read_csv(data_path + '/Ramagiri dataset/Ramagiri_element_names.csv')"
   ]
  },
  {
   "cell_type": "markdown",
   "id": "25797a21-d32d-44b2-b29b-203ede015a43",
   "metadata": {},
   "source": [
    "# Gradio interface"
   ]
  },
  {
   "cell_type": "code",
   "execution_count": 17,
   "id": "87788abc-a979-48ba-9648-6a9392aac829",
   "metadata": {},
   "outputs": [],
   "source": [
    "rg_elems = util.elem_list(ramagiri_df)\n",
    "kg_elems = util.elem_list(kodangal_df)"
   ]
  },
  {
   "cell_type": "code",
   "execution_count": 18,
   "id": "c8e4aa52-674c-44f3-b6c7-d357b7b2c6de",
   "metadata": {},
   "outputs": [
    {
     "data": {
      "text/html": [
       "<div>\n",
       "<style scoped>\n",
       "    .dataframe tbody tr th:only-of-type {\n",
       "        vertical-align: middle;\n",
       "    }\n",
       "\n",
       "    .dataframe tbody tr th {\n",
       "        vertical-align: top;\n",
       "    }\n",
       "\n",
       "    .dataframe thead th {\n",
       "        text-align: right;\n",
       "    }\n",
       "</style>\n",
       "<table border=\"1\" class=\"dataframe\">\n",
       "  <thead>\n",
       "    <tr style=\"text-align: right;\">\n",
       "      <th></th>\n",
       "      <th>Symbol</th>\n",
       "      <th>Name</th>\n",
       "    </tr>\n",
       "  </thead>\n",
       "  <tbody>\n",
       "    <tr>\n",
       "      <th>0</th>\n",
       "      <td>sio2</td>\n",
       "      <td>SiO2</td>\n",
       "    </tr>\n",
       "    <tr>\n",
       "      <th>1</th>\n",
       "      <td>al2o3</td>\n",
       "      <td>Al2O3</td>\n",
       "    </tr>\n",
       "    <tr>\n",
       "      <th>2</th>\n",
       "      <td>fe2o3</td>\n",
       "      <td>Fe2O3</td>\n",
       "    </tr>\n",
       "    <tr>\n",
       "      <th>3</th>\n",
       "      <td>tio2</td>\n",
       "      <td>TiO2</td>\n",
       "    </tr>\n",
       "    <tr>\n",
       "      <th>4</th>\n",
       "      <td>cao</td>\n",
       "      <td>CaO</td>\n",
       "    </tr>\n",
       "  </tbody>\n",
       "</table>\n",
       "</div>"
      ],
      "text/plain": [
       "  Symbol   Name\n",
       "0   sio2   SiO2\n",
       "1  al2o3  Al2O3\n",
       "2  fe2o3  Fe2O3\n",
       "3   tio2   TiO2\n",
       "4    cao    CaO"
      ]
     },
     "execution_count": 18,
     "metadata": {},
     "output_type": "execute_result"
    }
   ],
   "source": [
    "rg_elem_name_df.head()"
   ]
  },
  {
   "cell_type": "code",
   "execution_count": 19,
   "id": "5a13b360-37c4-4b22-8e07-346df0d2c1b4",
   "metadata": {},
   "outputs": [
    {
     "data": {
      "text/html": [
       "<div>\n",
       "<style scoped>\n",
       "    .dataframe tbody tr th:only-of-type {\n",
       "        vertical-align: middle;\n",
       "    }\n",
       "\n",
       "    .dataframe tbody tr th {\n",
       "        vertical-align: top;\n",
       "    }\n",
       "\n",
       "    .dataframe thead th {\n",
       "        text-align: right;\n",
       "    }\n",
       "</style>\n",
       "<table border=\"1\" class=\"dataframe\">\n",
       "  <thead>\n",
       "    <tr style=\"text-align: right;\">\n",
       "      <th></th>\n",
       "      <th>Symbol</th>\n",
       "      <th>Name</th>\n",
       "    </tr>\n",
       "  </thead>\n",
       "  <tbody>\n",
       "    <tr>\n",
       "      <th>0</th>\n",
       "      <td>sio2</td>\n",
       "      <td>SiO2</td>\n",
       "    </tr>\n",
       "    <tr>\n",
       "      <th>1</th>\n",
       "      <td>al2o3</td>\n",
       "      <td>Al2O3</td>\n",
       "    </tr>\n",
       "    <tr>\n",
       "      <th>2</th>\n",
       "      <td>fe2o3</td>\n",
       "      <td>Fe2O3</td>\n",
       "    </tr>\n",
       "    <tr>\n",
       "      <th>3</th>\n",
       "      <td>tio2</td>\n",
       "      <td>TiO2</td>\n",
       "    </tr>\n",
       "    <tr>\n",
       "      <th>4</th>\n",
       "      <td>cao</td>\n",
       "      <td>CaO</td>\n",
       "    </tr>\n",
       "  </tbody>\n",
       "</table>\n",
       "</div>"
      ],
      "text/plain": [
       "  Symbol   Name\n",
       "0   sio2   SiO2\n",
       "1  al2o3  Al2O3\n",
       "2  fe2o3  Fe2O3\n",
       "3   tio2   TiO2\n",
       "4    cao    CaO"
      ]
     },
     "execution_count": 19,
     "metadata": {},
     "output_type": "execute_result"
    }
   ],
   "source": [
    "kg_elem_name_df.head()"
   ]
  },
  {
   "cell_type": "code",
   "execution_count": 20,
   "id": "9b1f660d-21c9-422c-8c7f-bbaa35d92443",
   "metadata": {},
   "outputs": [],
   "source": [
    "DATASETS = {\n",
    "    'Ramagiri' : ramagiri_df,\n",
    "    'Kodangal' : kodangal_df\n",
    "}"
   ]
  },
  {
   "cell_type": "code",
   "execution_count": 46,
   "id": "bd0d31de-5f49-48f6-a953-a86e0b0ae08e",
   "metadata": {
    "scrolled": true
   },
   "outputs": [
    {
     "name": "stdout",
     "output_type": "stream",
     "text": [
      "Running on local URL:  http://127.0.0.1:7879\n",
      "\n",
      "To create a public link, set `share=True` in `launch()`.\n"
     ]
    },
    {
     "data": {
      "text/html": [
       "<div><iframe src=\"http://127.0.0.1:7879/\" width=\"100%\" height=\"500\" allow=\"autoplay; camera; microphone; clipboard-read; clipboard-write;\" frameborder=\"0\" allowfullscreen></iframe></div>"
      ],
      "text/plain": [
       "<IPython.core.display.HTML object>"
      ]
     },
     "metadata": {},
     "output_type": "display_data"
    },
    {
     "data": {
      "text/plain": []
     },
     "execution_count": 46,
     "metadata": {},
     "output_type": "execute_result"
    }
   ],
   "source": [
    "# Create Gradio interface with dynamic element dropdown\n",
    "with gr.Blocks() as interface:\n",
    "    gr.Markdown(\"<h1 style='text-align: center;'>Geochemical Data Visualization & Prediction App</h1>\")\n",
    "\n",
    "    with gr.Tab('Visualization'):\n",
    "        with gr.Row():\n",
    "            area = gr.Dropdown(choices=[\"Ramagiri\", \"Kodangal\"], label=\"Area\")\n",
    "            elements = gr.Dropdown(label=\"Element\")\n",
    "    \n",
    "        area.change(fn=update_elements, inputs=[area], outputs=[elements])\n",
    "    \n",
    "        with gr.Row():\n",
    "            ppm_button = gr.Button(\"Generate ppm concentration variation Plots\")\n",
    "            contour_button = gr.Button(\"Generate Contour Map\")\n",
    "    \n",
    "        with gr.Row():\n",
    "            contour_output = gr.Plot()\n",
    "    \n",
    "        with gr.Row():\n",
    "            ppm_output = gr.Plot()\n",
    "            \n",
    "        ppm_button.click(fn=ppm_plot_interface, inputs=[elements, area], outputs=[ppm_output])\n",
    "        contour_button.click(fn=contour_plot_interface, inputs=[elements, area], outputs=[contour_output])\n",
    "\n",
    "    with gr.Tab('Prediction'):\n",
    "        with gr.Row():\n",
    "            pred_area = gr.Dropdown(choices=[\"Ramagiri\", \"Kodangal\"], label=\"Select Area for Prediction\")\n",
    "            target_element = gr.Dropdown(label=\"Target Element\")\n",
    "\n",
    "        with gr.Row():\n",
    "            predict_button = gr.Button(\"Predict\")\n",
    "\n",
    "        with gr.Row():\n",
    "            prediction_output = gr.Textbox(label=\"Prediction Result\")\n",
    "\n",
    "interface.launch()"
   ]
  },
  {
   "cell_type": "code",
   "execution_count": 42,
   "id": "c541f6ac-2a46-46d7-9051-88e77985c2d9",
   "metadata": {},
   "outputs": [],
   "source": [
    "def get_element_input_fields(area):\n",
    "    \"\"\" Return input fields for elements based on the selected area. \"\"\"\n",
    "    elements = get_elements_for_prediction(area)\n",
    "    return [gr.Number(label=f\"Enter ppm for {elem}\", visible=False) for elem in elements]\n",
    "\n",
    "def update_element_visibility(area, elements):\n",
    "    \"\"\" Update visibility of element fields based on area selection. \"\"\"\n",
    "    visible_elements = get_elements_for_prediction(area)\n",
    "    for elem_field in elements:\n",
    "        elem_field.visible = (elem_field.label.split(\" \")[-1] in visible_elements)\n",
    "    return elements"
   ]
  },
  {
   "cell_type": "code",
   "execution_count": null,
   "id": "57dafd07-d966-464e-bfaa-5d049a136d53",
   "metadata": {},
   "outputs": [],
   "source": []
  }
 ],
 "metadata": {
  "kernelspec": {
   "display_name": "Python 3 (ipykernel)",
   "language": "python",
   "name": "python3"
  },
  "language_info": {
   "codemirror_mode": {
    "name": "ipython",
    "version": 3
   },
   "file_extension": ".py",
   "mimetype": "text/x-python",
   "name": "python",
   "nbconvert_exporter": "python",
   "pygments_lexer": "ipython3",
   "version": "3.9.19"
  }
 },
 "nbformat": 4,
 "nbformat_minor": 5
}
